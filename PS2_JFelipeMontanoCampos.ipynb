{
  "nbformat": 4,
  "nbformat_minor": 0,
  "metadata": {
    "colab": {
      "name": "PS2_JFelipeMontanoCampos.ipynb",
      "provenance": [],
      "authorship_tag": "ABX9TyM7iWboSxQAHqbM8eHpcAwT",
      "include_colab_link": true
    },
    "kernelspec": {
      "name": "python3",
      "display_name": "Python 3"
    }
  },
  "cells": [
    {
      "cell_type": "markdown",
      "metadata": {
        "id": "view-in-github",
        "colab_type": "text"
      },
      "source": [
        "<a href=\"https://colab.research.google.com/github/felipemontano10/DeepLearning/blob/master/PS2_JFelipeMontanoCampos.ipynb\" target=\"_parent\"><img src=\"https://colab.research.google.com/assets/colab-badge.svg\" alt=\"Open In Colab\"/></a>"
      ]
    },
    {
      "cell_type": "markdown",
      "metadata": {
        "id": "vXI5IF9-8XaV",
        "colab_type": "text"
      },
      "source": [
        "### ECE 685D - Fall 2020\n",
        "## Problem Set 2 \n",
        "\n",
        "> J. Felipe Montano-Campos"
      ]
    },
    {
      "cell_type": "markdown",
      "metadata": {
        "id": "UBBOnwiF8Wjt",
        "colab_type": "text"
      },
      "source": [
        "**Problem 1: Conditional Multivariate Gaussian Distribution**\n"
      ]
    },
    {
      "cell_type": "code",
      "metadata": {
        "id": "2rMDvYhl856J",
        "colab_type": "code",
        "colab": {}
      },
      "source": [
        "import numpy as np\n",
        "from numpy.linalg import inv"
      ],
      "execution_count": 1,
      "outputs": []
    },
    {
      "cell_type": "code",
      "metadata": {
        "id": "P-v0M0QC8_zM",
        "colab_type": "code",
        "colab": {}
      },
      "source": [
        "mu = np.array([1,1,1,2])\n",
        "mu_1 = np.array([1,1])\n",
        "mu_2 = np.array([1,2])\n",
        "x_1 = np.array([1,1])\n",
        "ps_11 = np.array([[1,0],[0,1]])\n",
        "ps_12 = np.array([[0.25,0],[0,0.25]])\n",
        "ps_21 = np.array([[0.25,0],[0,0.25]])\n",
        "ps_22 = np.array([[1.25,0],[0,1.25]])\n"
      ],
      "execution_count": 2,
      "outputs": []
    },
    {
      "cell_type": "code",
      "metadata": {
        "id": "U7n_wLyd9NwY",
        "colab_type": "code",
        "colab": {}
      },
      "source": [
        "mu_x2_x1 = mu_2 + np.matmul(np.matmul(ps_21, inv(ps_11)), (x_1-mu_1))\n",
        "va_x2_x1 = ps_22 - np.matmul(np.matmul(ps_21, inv(ps_11)), ps_12)"
      ],
      "execution_count": 3,
      "outputs": []
    },
    {
      "cell_type": "code",
      "metadata": {
        "id": "ydYrYKwmIZtX",
        "colab_type": "code",
        "colab": {
          "base_uri": "https://localhost:8080/",
          "height": 68
        },
        "outputId": "5840d164-1d5b-421e-d4f9-726eefa430bb"
      },
      "source": [
        "print(mu_x2_x1)\n",
        "print(va_x2_x1)"
      ],
      "execution_count": 4,
      "outputs": [
        {
          "output_type": "stream",
          "text": [
            "[1. 2.]\n",
            "[[1.1875 0.    ]\n",
            " [0.     1.1875]]\n"
          ],
          "name": "stdout"
        }
      ]
    },
    {
      "cell_type": "markdown",
      "metadata": {
        "id": "CAuxfUqRBZrl",
        "colab_type": "text"
      },
      "source": [
        "**Problem 2: Gaussian Mixture Model**"
      ]
    },
    {
      "cell_type": "code",
      "metadata": {
        "id": "XKnJ_KhxBhRN",
        "colab_type": "code",
        "colab": {}
      },
      "source": [
        "import numpy as np\n",
        "from random import choices\n",
        "import matplotlib.pyplot as plt\n",
        "\n"
      ],
      "execution_count": 5,
      "outputs": []
    },
    {
      "cell_type": "code",
      "metadata": {
        "id": "jT_D-1RpGpHH",
        "colab_type": "code",
        "colab": {}
      },
      "source": [
        "K = 4\n",
        "\n",
        "gaussian_dist = np.array([1,2,3,4])\n",
        "mix_coeff = np.array([1/8, 1/8, 1/4, 1/2])\n",
        "\n",
        "mu = {}\n",
        "mu[\"mu_1\"] = np.array([0,0])\n",
        "mu[\"mu_2\"] = np.array([0,2])\n",
        "mu[\"mu_3\"] = np.array([2,0])\n",
        "mu[\"mu_4\"] = np.array([2,2])\n",
        "\n",
        "sigma = {}\n",
        "sigma[\"sigma_1\"] = np.array([[0.2 , 0.1], [0.1,0.2]])\n",
        "sigma[\"sigma_2\"] = np.array([[0.1 , -0.15], [-0.15 ,0.3]])\n",
        "sigma[\"sigma_3\"] = np.array([[0.3 , 0.05], [0.05 ,0.3]])\n",
        "sigma[\"sigma_4\"] = np.array([[0.15 , 0], [0 ,0.15]])"
      ],
      "execution_count": 6,
      "outputs": []
    },
    {
      "cell_type": "markdown",
      "metadata": {
        "id": "lHufVAL4JrSZ",
        "colab_type": "text"
      },
      "source": [
        "**Create the Data Set from a GMM**"
      ]
    },
    {
      "cell_type": "code",
      "metadata": {
        "id": "hzdB3dR3Js87",
        "colab_type": "code",
        "colab": {}
      },
      "source": [
        "data_set = np.array([0,0])\n",
        "data_set = np.expand_dims(data_set, axis=0)\n",
        "for i in list(range(10**3)):\n",
        "    choice = choices(gaussian_dist, mix_coeff)[0]\n",
        "    array = np.random.multivariate_normal(mu[\"mu_\"+str(choice)], sigma[\"sigma_\"+str(choice)])    \n",
        "    array = np.expand_dims(array, axis=0)\n",
        "    data_set = np.append(data_set, array, axis = 0)\n",
        "    \n",
        "data_set = np.delete(data_set,0, axis=0)"
      ],
      "execution_count": 7,
      "outputs": []
    },
    {
      "cell_type": "markdown",
      "metadata": {
        "id": "mR9NtmWcJwZq",
        "colab_type": "text"
      },
      "source": [
        "**Fit a GMM to the data generated**"
      ]
    },
    {
      "cell_type": "code",
      "metadata": {
        "id": "_KFQ810GJwso",
        "colab_type": "code",
        "colab": {}
      },
      "source": [
        "from sklearn import mixture\n",
        "\n",
        "K = [1,2,3,4,5,6,7]\n",
        "\n",
        "likelihood = []\n",
        "for k in K:\n",
        "    gmm = mixture.GaussianMixture(n_components=k, max_iter=1000, covariance_type='full').fit(data_set)\n",
        "    score = gmm.score(data_set)\n",
        "    likelihood.append(score)"
      ],
      "execution_count": 8,
      "outputs": []
    },
    {
      "cell_type": "markdown",
      "metadata": {
        "id": "5c4QSUyzJ1sj",
        "colab_type": "text"
      },
      "source": [
        "**Plot of the Log-Likelihood Function**"
      ]
    },
    {
      "cell_type": "code",
      "metadata": {
        "id": "7xEh2RTeJ5Qe",
        "colab_type": "code",
        "colab": {
          "base_uri": "https://localhost:8080/",
          "height": 299
        },
        "outputId": "ef830346-e2b9-4920-902a-293419de7969"
      },
      "source": [
        "plt.plot(K, likelihood)\n",
        "plt.title('Gaussian Mixture Model')\n",
        "plt.xlabel('Number of Components $K$')\n",
        "plt.ylabel('Log-Likelihood')\n",
        "plt.show()"
      ],
      "execution_count": 9,
      "outputs": [
        {
          "output_type": "display_data",
          "data": {
            "image/png": "[encoded data removed]",
            "text/plain": [
              "<Figure size 432x288 with 1 Axes>"
            ]
          },
          "metadata": {
            "tags": [],
            "needs_background": "light"
          }
        }
      ]
    },
    {
      "cell_type": "markdown",
      "metadata": {
        "id": "rQo-LisAmlW6",
        "colab_type": "text"
      },
      "source": [
        "**Problem 3: Bayesian linear regression**"
      ]
    },
    {
      "cell_type": "markdown",
      "metadata": {
        "id": "1wlZPCcyc7aU",
        "colab_type": "text"
      },
      "source": [
        "**a) and b) Please look at the pdf file** "
      ]
    },
    {
      "cell_type": "markdown",
      "metadata": {
        "id": "59xG_nhXdBkD",
        "colab_type": "text"
      },
      "source": [
        "**c) Plot the contour of prior and posterior distributions**"
      ]
    },
    {
      "cell_type": "code",
      "metadata": {
        "id": "uXxQbQRBmq-C",
        "colab_type": "code",
        "colab": {}
      },
      "source": [
        "import numpy as np\n",
        "from numpy.linalg import inv\n",
        "\n",
        "def sum_norm(N,mu,var):\n",
        "    data = np.array([0,0])\n",
        "    data = np.expand_dims(data, axis=0)\n",
        "    for i in list(range(N)):\n",
        "        array = np.random.multivariate_normal(mu, var)\n",
        "        array = np.expand_dims(array,axis=0)\n",
        "        data = np.append(data,array,axis=0)\n",
        "        value = data.sum(axis=0)\n",
        "    return value  "
      ],
      "execution_count": 10,
      "outputs": []
    },
    {
      "cell_type": "markdown",
      "metadata": {
        "id": "cMTfjpi2dk9g",
        "colab_type": "text"
      },
      "source": [
        "**Set up the values of the parameters**"
      ]
    },
    {
      "cell_type": "code",
      "metadata": {
        "id": "yulEjThFmvJi",
        "colab_type": "code",
        "colab": {}
      },
      "source": [
        "N = 10\n",
        "mu_0 = np.array([0.5, 0.5])\n",
        "sigma_0 = np.array([[0.1,0],[0,0.1]])\n",
        "x = np.array([1,5,1.5])\n",
        "sigma_y = np.array([[0.2,0.1],[0.1,0.1]])\n",
        "sigma_inv = inv(sigma_0)+N*inv(sigma_y)\n",
        "mu = np.dot(np.dot(inv(sigma_inv),inv(sigma_0)),mu_0)+ np.dot(np.dot(inv(sigma_inv),inv(sigma_y)),sum_norm(N,mu_0,sigma_0).T)\n",
        "sigma = inv(sigma_inv)"
      ],
      "execution_count": 11,
      "outputs": []
    },
    {
      "cell_type": "markdown",
      "metadata": {
        "id": "IyeCNbO4dtjv",
        "colab_type": "text"
      },
      "source": [
        "**Contour of the prior**"
      ]
    },
    {
      "cell_type": "code",
      "metadata": {
        "id": "Bl2DD8aKmvmL",
        "colab_type": "code",
        "colab": {
          "base_uri": "https://localhost:8080/",
          "height": 299
        },
        "outputId": "9716a5aa-0ad2-4ed4-f90c-e021ad3c891f"
      },
      "source": [
        "import matplotlib.pyplot as plt \n",
        "prior = np.random.multivariate_normal(mu_0,sigma_0,10**3)\n",
        "plt.hist2d(prior[:,0],prior[:,1], bins=40)\n",
        "plt.xlabel(r\"$X_{1}$\")\n",
        "plt.ylabel(r\"$X_{2}$\")\n",
        "plt.title(\"Prior Distribution\") \n",
        "plt.colorbar()\n",
        "plt.show()  "
      ],
      "execution_count": 12,
      "outputs": [
        {
          "output_type": "display_data",
          "data": {
            "image/png": "[encoded data removed]",
            "text/plain": [
              "<Figure size 432x288 with 2 Axes>"
            ]
          },
          "metadata": {
            "tags": [],
            "needs_background": "light"
          }
        }
      ]
    },
    {
      "cell_type": "markdown",
      "metadata": {
        "id": "MzJlp837eOeg",
        "colab_type": "text"
      },
      "source": [
        "**Contour of the posterior**"
      ]
    },
    {
      "cell_type": "code",
      "metadata": {
        "id": "JVkzyaM2eS37",
        "colab_type": "code",
        "colab": {
          "base_uri": "https://localhost:8080/",
          "height": 299
        },
        "outputId": "0e085b80-d624-416c-90e7-0f314a3ddc6d"
      },
      "source": [
        "posterior = np.random.multivariate_normal(mu,sigma,10**3)\n",
        "plt.hist2d(posterior[:,0],posterior[:,1], bins=40)\n",
        "plt.xlabel(r\"$X_{1}$\")\n",
        "plt.ylabel(r\"$X_{2}$\")\n",
        "plt.title(\"Posterior Distribution\") \n",
        "plt.colorbar()\n",
        "plt.show()  "
      ],
      "execution_count": 13,
      "outputs": [
        {
          "output_type": "display_data",
          "data": {
            "image/png": "[encoded data removed]",
            "text/plain": [
              "<Figure size 432x288 with 2 Axes>"
            ]
          },
          "metadata": {
            "tags": [],
            "needs_background": "light"
          }
        }
      ]
    },
    {
      "cell_type": "markdown",
      "metadata": {
        "id": "BTbg11F1m2zH",
        "colab_type": "text"
      },
      "source": [
        "**d) Plot the contour of the prior and posterior distribution**"
      ]
    },
    {
      "cell_type": "markdown",
      "metadata": {
        "id": "Sr4UIaOEm-w0",
        "colab_type": "text"
      },
      "source": [
        "**Set up the value of the parameters**"
      ]
    },
    {
      "cell_type": "code",
      "metadata": {
        "id": "wxywn5b4m3lX",
        "colab_type": "code",
        "colab": {}
      },
      "source": [
        "N = 10\n",
        "mu_0 = np.array([0.5, 0.5])\n",
        "sigma_0 = np.array([[10,0],[0,10]])\n",
        "x = np.array([1,5,1.5])\n",
        "sigma_y = np.array([[0.2,0.1],[0.1,0.1]])\n",
        "sigma_inv = inv(sigma_0)+N*inv(sigma_y)\n",
        "mu = np.dot(np.dot(inv(sigma_inv),inv(sigma_0)),mu_0)+ np.dot(np.dot(inv(sigma_inv),inv(sigma_y)),sum_norm(N,mu_0,sigma_0).T)\n",
        "sigma = inv(sigma_inv)\n"
      ],
      "execution_count": 14,
      "outputs": []
    },
    {
      "cell_type": "markdown",
      "metadata": {
        "id": "nKotE2jGnEmO",
        "colab_type": "text"
      },
      "source": [
        "**Contour of the Prior**"
      ]
    },
    {
      "cell_type": "code",
      "metadata": {
        "id": "zfDwm56Om7F9",
        "colab_type": "code",
        "colab": {
          "base_uri": "https://localhost:8080/",
          "height": 299
        },
        "outputId": "6c95ee8d-a230-4a06-c872-95990579a3d2"
      },
      "source": [
        "prior = np.random.multivariate_normal(mu_0,sigma_0,10**3)\n",
        "plt.hist2d(prior[:,0],prior[:,1], bins=40)\n",
        "plt.xlabel(r\"$X_{1}$\")\n",
        "plt.ylabel(r\"$X_{2}$\")\n",
        "plt.title(\"Prior Distribution\") \n",
        "plt.colorbar()\n",
        "plt.show() \n"
      ],
      "execution_count": 15,
      "outputs": [
        {
          "output_type": "display_data",
          "data": {
            "image/png": "[encoded data removed]",
            "text/plain": [
              "<Figure size 432x288 with 2 Axes>"
            ]
          },
          "metadata": {
            "tags": [],
            "needs_background": "light"
          }
        }
      ]
    },
    {
      "cell_type": "markdown",
      "metadata": {
        "id": "kxtFDs-qfJzl",
        "colab_type": "text"
      },
      "source": [
        "**Countour of the Posterior**"
      ]
    },
    {
      "cell_type": "code",
      "metadata": {
        "id": "Vt5oj2BqfL7R",
        "colab_type": "code",
        "colab": {
          "base_uri": "https://localhost:8080/",
          "height": 299
        },
        "outputId": "c190c54b-a0cd-4eba-e553-5d43159422e2"
      },
      "source": [
        "posterior = np.random.multivariate_normal(mu,sigma,10**3)\n",
        "plt.hist2d(posterior[:,0],posterior[:,1], bins=40)\n",
        "plt.xlabel(r\"$X_{1}$\")\n",
        "plt.ylabel(r\"$X_{2}$\")\n",
        "plt.title(\"Posterior Distribution\") \n",
        "plt.colorbar()\n",
        "plt.show() "
      ],
      "execution_count": 16,
      "outputs": [
        {
          "output_type": "display_data",
          "data": {
            "image/png": "[encoded data removed]",
            "text/plain": [
              "<Figure size 432x288 with 2 Axes>"
            ]
          },
          "metadata": {
            "tags": [],
            "needs_background": "light"
          }
        }
      ]
    },
    {
      "cell_type": "markdown",
      "metadata": {
        "id": "hmD_sg54fSXr",
        "colab_type": "text"
      },
      "source": [
        "**Set up the value of the parameters**"
      ]
    },
    {
      "cell_type": "code",
      "metadata": {
        "id": "4T6bhagHfQMk",
        "colab_type": "code",
        "colab": {}
      },
      "source": [
        "N = 100\n",
        "mu_0 = np.array([0.5, 0.5])\n",
        "sigma_0 = np.array([[0.1,0],[0,0.1]])\n",
        "x = np.array([1,5,1.5])\n",
        "sigma_y = np.array([[0.2,0.1],[0.1,0.1]])\n",
        "\n",
        "sigma_inv = inv(sigma_0)+N*inv(sigma_y)\n",
        "mu = np.dot(np.dot(inv(sigma_inv),inv(sigma_0)),mu_0)+ np.dot(np.dot(inv(sigma_inv),inv(sigma_y)),sum_norm(N,mu_0,sigma_0).T)\n",
        "sigma = inv(sigma_inv)"
      ],
      "execution_count": 17,
      "outputs": []
    },
    {
      "cell_type": "markdown",
      "metadata": {
        "id": "Yx2YlQWefvW4",
        "colab_type": "text"
      },
      "source": [
        "**Contour of the Prior**"
      ]
    },
    {
      "cell_type": "code",
      "metadata": {
        "id": "2t0nm-JzfvpK",
        "colab_type": "code",
        "colab": {
          "base_uri": "https://localhost:8080/",
          "height": 299
        },
        "outputId": "19ca3c6b-b0bc-4841-f814-5b2af5b9e3c6"
      },
      "source": [
        "prior = np.random.multivariate_normal(mu_0,sigma_0,10**3)\n",
        "plt.hist2d(prior[:,0],prior[:,1], bins=40)\n",
        "plt.xlabel(r\"$X_{1}$\")\n",
        "plt.ylabel(r\"$X_{2}$\")\n",
        "plt.title(\"Prior Distribution\") \n",
        "plt.colorbar()\n",
        "plt.show() "
      ],
      "execution_count": 18,
      "outputs": [
        {
          "output_type": "display_data",
          "data": {
            "image/png": "[encoded data removed]",
            "text/plain": [
              "<Figure size 432x288 with 2 Axes>"
            ]
          },
          "metadata": {
            "tags": [],
            "needs_background": "light"
          }
        }
      ]
    },
    {
      "cell_type": "markdown",
      "metadata": {
        "id": "Tn0cMMkufv0c",
        "colab_type": "text"
      },
      "source": [
        "**Countour of the Posterior**"
      ]
    },
    {
      "cell_type": "code",
      "metadata": {
        "id": "T6iPMhXjfv61",
        "colab_type": "code",
        "colab": {
          "base_uri": "https://localhost:8080/",
          "height": 299
        },
        "outputId": "523c157b-b8fa-4dd3-aa8e-e0a46646b98b"
      },
      "source": [
        "posterior = np.random.multivariate_normal(mu,sigma,10**3)\n",
        "plt.hist2d(posterior[:,0],posterior[:,1], bins=40)\n",
        "plt.xlabel(r\"$X_{1}$\")\n",
        "plt.ylabel(r\"$X_{2}$\")\n",
        "plt.title(\"Posterior Distribution\") \n",
        "plt.colorbar()\n",
        "plt.show() "
      ],
      "execution_count": 19,
      "outputs": [
        {
          "output_type": "display_data",
          "data": {
            "image/png": "[encoded data removed]",
            "text/plain": [
              "<Figure size 432x288 with 2 Axes>"
            ]
          },
          "metadata": {
            "tags": [],
            "needs_background": "light"
          }
        }
      ]
    },
    {
      "cell_type": "markdown",
      "metadata": {
        "id": "J1viVU_bhU0L",
        "colab_type": "text"
      },
      "source": [
        "**e) Conclusion from part d**"
      ]
    },
    {
      "cell_type": "markdown",
      "metadata": {
        "id": "8rzvt1XchaEv",
        "colab_type": "text"
      },
      "source": [
        "We can obseve that if we increase the variance of the prior, the variance of the posterior also increase and the precision of our estimates are less accurate. On the other hand, keeping the variance of the prior equal, as $N$ increases we can observe that the precision of our estimates is better (i.e., the variance of the posterior decreases). This result is intuitive since the more sensors we have, the better we can estimate the location of the object.  "
      ]
    },
    {
      "cell_type": "markdown",
      "metadata": {
        "id": "cZzdT9cUh3XT",
        "colab_type": "text"
      },
      "source": [
        "**Problem 4: Bias-variance trade- off**"
      ]
    },
    {
      "cell_type": "code",
      "metadata": {
        "id": "Psvuon86f8TN",
        "colab_type": "code",
        "colab": {}
      },
      "source": [
        "import numpy as np\n",
        "import matplotlib.pyplot as plt\n"
      ],
      "execution_count": 20,
      "outputs": []
    },
    {
      "cell_type": "markdown",
      "metadata": {
        "id": "uHxTm_fMiXcy",
        "colab_type": "text"
      },
      "source": [
        "**Create the training and test set**"
      ]
    },
    {
      "cell_type": "code",
      "metadata": {
        "id": "0Q7N6VXMiXAL",
        "colab_type": "code",
        "colab": {}
      },
      "source": [
        "training = np.linspace(0, 0.8, 5)\n",
        "labels  =  np.sin(2*np.pi*training) + np.cos(4*np.pi*training)\n",
        "test = np.linspace(0,0.99,100)\n",
        "labels_test  =  np.sin(2*np.pi*test) + np.cos(4*np.pi*test)\n",
        "M = np.linspace(0,15,16)"
      ],
      "execution_count": 21,
      "outputs": []
    },
    {
      "cell_type": "markdown",
      "metadata": {
        "id": "rqEixfD2igKq",
        "colab_type": "text"
      },
      "source": [
        "**Calculate the SSE for the $M$ polynomials models**"
      ]
    },
    {
      "cell_type": "code",
      "metadata": {
        "id": "Ypu7_orKifB5",
        "colab_type": "code",
        "colab": {
          "base_uri": "https://localhost:8080/",
          "height": 791
        },
        "outputId": "9cd9ca9c-8ab0-4664-c27e-7b23a305b305"
      },
      "source": [
        "sqrt_errors_train = []\n",
        "sqrt_errors_test = []\n",
        "\n",
        "for i in M:\n",
        "    error_train = np.sum((np.polyval(np.polyfit(training, labels, i), training) - labels)**2)\n",
        "    error_test = np.sum((np.polyval(np.polyfit(training, labels, i), test) - labels_test)**2)\n",
        "    sqrt_errors_train.append(error_train)\n",
        "    sqrt_errors_test.append(error_test)"
      ],
      "execution_count": 22,
      "outputs": [
        {
          "output_type": "stream",
          "text": [
            "/usr/local/lib/python3.6/dist-packages/IPython/core/interactiveshell.py:2882: RankWarning: Polyfit may be poorly conditioned\n",
            "  exec(code_obj, self.user_global_ns, self.user_ns)\n",
            "/usr/local/lib/python3.6/dist-packages/IPython/core/interactiveshell.py:2882: RankWarning: Polyfit may be poorly conditioned\n",
            "  exec(code_obj, self.user_global_ns, self.user_ns)\n",
            "/usr/local/lib/python3.6/dist-packages/IPython/core/interactiveshell.py:2882: RankWarning: Polyfit may be poorly conditioned\n",
            "  exec(code_obj, self.user_global_ns, self.user_ns)\n",
            "/usr/local/lib/python3.6/dist-packages/IPython/core/interactiveshell.py:2882: RankWarning: Polyfit may be poorly conditioned\n",
            "  exec(code_obj, self.user_global_ns, self.user_ns)\n",
            "/usr/local/lib/python3.6/dist-packages/IPython/core/interactiveshell.py:2882: RankWarning: Polyfit may be poorly conditioned\n",
            "  exec(code_obj, self.user_global_ns, self.user_ns)\n",
            "/usr/local/lib/python3.6/dist-packages/IPython/core/interactiveshell.py:2882: RankWarning: Polyfit may be poorly conditioned\n",
            "  exec(code_obj, self.user_global_ns, self.user_ns)\n",
            "/usr/local/lib/python3.6/dist-packages/IPython/core/interactiveshell.py:2882: RankWarning: Polyfit may be poorly conditioned\n",
            "  exec(code_obj, self.user_global_ns, self.user_ns)\n",
            "/usr/local/lib/python3.6/dist-packages/IPython/core/interactiveshell.py:2882: RankWarning: Polyfit may be poorly conditioned\n",
            "  exec(code_obj, self.user_global_ns, self.user_ns)\n",
            "/usr/local/lib/python3.6/dist-packages/IPython/core/interactiveshell.py:2882: RankWarning: Polyfit may be poorly conditioned\n",
            "  exec(code_obj, self.user_global_ns, self.user_ns)\n",
            "/usr/local/lib/python3.6/dist-packages/IPython/core/interactiveshell.py:2882: RankWarning: Polyfit may be poorly conditioned\n",
            "  exec(code_obj, self.user_global_ns, self.user_ns)\n",
            "/usr/local/lib/python3.6/dist-packages/IPython/core/interactiveshell.py:2882: RankWarning: Polyfit may be poorly conditioned\n",
            "  exec(code_obj, self.user_global_ns, self.user_ns)\n",
            "/usr/local/lib/python3.6/dist-packages/IPython/core/interactiveshell.py:2882: RankWarning: Polyfit may be poorly conditioned\n",
            "  exec(code_obj, self.user_global_ns, self.user_ns)\n",
            "/usr/local/lib/python3.6/dist-packages/IPython/core/interactiveshell.py:2882: RankWarning: Polyfit may be poorly conditioned\n",
            "  exec(code_obj, self.user_global_ns, self.user_ns)\n",
            "/usr/local/lib/python3.6/dist-packages/IPython/core/interactiveshell.py:2882: RankWarning: Polyfit may be poorly conditioned\n",
            "  exec(code_obj, self.user_global_ns, self.user_ns)\n",
            "/usr/local/lib/python3.6/dist-packages/IPython/core/interactiveshell.py:2882: RankWarning: Polyfit may be poorly conditioned\n",
            "  exec(code_obj, self.user_global_ns, self.user_ns)\n",
            "/usr/local/lib/python3.6/dist-packages/IPython/core/interactiveshell.py:2882: RankWarning: Polyfit may be poorly conditioned\n",
            "  exec(code_obj, self.user_global_ns, self.user_ns)\n",
            "/usr/local/lib/python3.6/dist-packages/IPython/core/interactiveshell.py:2882: RankWarning: Polyfit may be poorly conditioned\n",
            "  exec(code_obj, self.user_global_ns, self.user_ns)\n",
            "/usr/local/lib/python3.6/dist-packages/IPython/core/interactiveshell.py:2882: RankWarning: Polyfit may be poorly conditioned\n",
            "  exec(code_obj, self.user_global_ns, self.user_ns)\n",
            "/usr/local/lib/python3.6/dist-packages/IPython/core/interactiveshell.py:2882: RankWarning: Polyfit may be poorly conditioned\n",
            "  exec(code_obj, self.user_global_ns, self.user_ns)\n",
            "/usr/local/lib/python3.6/dist-packages/IPython/core/interactiveshell.py:2882: RankWarning: Polyfit may be poorly conditioned\n",
            "  exec(code_obj, self.user_global_ns, self.user_ns)\n",
            "/usr/local/lib/python3.6/dist-packages/IPython/core/interactiveshell.py:2882: RankWarning: Polyfit may be poorly conditioned\n",
            "  exec(code_obj, self.user_global_ns, self.user_ns)\n",
            "/usr/local/lib/python3.6/dist-packages/IPython/core/interactiveshell.py:2882: RankWarning: Polyfit may be poorly conditioned\n",
            "  exec(code_obj, self.user_global_ns, self.user_ns)\n"
          ],
          "name": "stderr"
        }
      ]
    },
    {
      "cell_type": "markdown",
      "metadata": {
        "id": "f3DlxGihivJj",
        "colab_type": "text"
      },
      "source": [
        "**Plot for the training and test set**"
      ]
    },
    {
      "cell_type": "code",
      "metadata": {
        "id": "4XlTJo_-iqp3",
        "colab_type": "code",
        "colab": {
          "base_uri": "https://localhost:8080/",
          "height": 295
        },
        "outputId": "9019d97f-f4b9-4bd3-bbee-e8aa57e4d571"
      },
      "source": [
        "plt.plot(M, sqrt_errors_train)\n",
        "plt.title('Training Set')\n",
        "plt.xlabel('Degree of Polynomial')\n",
        "plt.ylabel('Sum-of-Squares error')\n",
        "plt.show()"
      ],
      "execution_count": 23,
      "outputs": [
        {
          "output_type": "display_data",
          "data": {
            "image/png": "[encoded data removed]",
            "text/plain": [
              "<Figure size 432x288 with 1 Axes>"
            ]
          },
          "metadata": {
            "tags": [],
            "needs_background": "light"
          }
        }
      ]
    },
    {
      "cell_type": "code",
      "metadata": {
        "id": "xRwyxVgkizix",
        "colab_type": "code",
        "colab": {
          "base_uri": "https://localhost:8080/",
          "height": 295
        },
        "outputId": "c1ae1a75-97ea-499d-be5d-d3af47c1533e"
      },
      "source": [
        "plt.plot(M, sqrt_errors_test)\n",
        "plt.title('Test Set')\n",
        "plt.xlabel('Degree of Polynomial')\n",
        "plt.ylabel('Sum-of-Squares error')\n",
        "plt.show()"
      ],
      "execution_count": 24,
      "outputs": [
        {
          "output_type": "display_data",
          "data": {
            "image/png": "[encoded data removed]",
            "text/plain": [
              "<Figure size 432x288 with 1 Axes>"
            ]
          },
          "metadata": {
            "tags": [],
            "needs_background": "light"
          }
        }
      ]
    },
    {
      "cell_type": "markdown",
      "metadata": {
        "id": "0TSfxZGsi5VM",
        "colab_type": "text"
      },
      "source": [
        "**$L_{2}$ Regularization Penalty**"
      ]
    },
    {
      "cell_type": "code",
      "metadata": {
        "id": "dUABKKrbi1Ym",
        "colab_type": "code",
        "colab": {}
      },
      "source": [
        "lambda_values = np.linspace(10**-2, 50, 5000)\n",
        "lambda_values_ln = np.log(lambda_values)\n",
        "\n",
        "training_matrix = []\n",
        "for i in list(range(1,15)):\n",
        "    training_matrix.append(np.power(training,i))\n",
        "training_matrix = np.array(training_matrix)\n",
        "training_matrix = training_matrix.transpose()\n",
        "\n",
        "test_matrix = []\n",
        "for i in list(range(1,15)):\n",
        "    test_matrix.append(np.power(test,i))\n",
        "test_matrix = np.array(test_matrix)\n",
        "test_matrix = test_matrix.transpose()\n"
      ],
      "execution_count": 25,
      "outputs": []
    },
    {
      "cell_type": "code",
      "metadata": {
        "id": "RIezQaYIjOM1",
        "colab_type": "code",
        "colab": {}
      },
      "source": [
        "from sklearn.linear_model import Ridge\n",
        "\n",
        "sqrt_errors_train_lasso = []\n",
        "sqrt_errors_test_lasso = []\n",
        "\n",
        "\n",
        "for lamb in lambda_values:\n",
        "    clf = Ridge(alpha= lamb)\n",
        "    clf.fit(training_matrix, labels)\n",
        "    train_predict = clf.predict(training_matrix)\n",
        "    test_predict = clf.predict(test_matrix)\n",
        "    error_train = np.sum((train_predict - labels)**2)\n",
        "    error_test = np.sum((test_predict - labels_test)**2)\n",
        "    sqrt_errors_train_lasso.append(error_train)\n",
        "    sqrt_errors_test_lasso.append(error_test)  "
      ],
      "execution_count": 26,
      "outputs": []
    },
    {
      "cell_type": "markdown",
      "metadata": {
        "id": "5F0rPyUBjRng",
        "colab_type": "text"
      },
      "source": [
        "**Plot for the training and test set**"
      ]
    },
    {
      "cell_type": "code",
      "metadata": {
        "id": "mrRexJfMjQo8",
        "colab_type": "code",
        "colab": {
          "base_uri": "https://localhost:8080/",
          "height": 298
        },
        "outputId": "dca9d95b-8089-401d-bb6a-af3e8f4b2646"
      },
      "source": [
        "plt.plot(lambda_values_ln,sqrt_errors_train_lasso )\n",
        "plt.title('Training Set')\n",
        "plt.xlabel(r'ln$(\\lambda)$')\n",
        "plt.ylabel('Sum-of-Squares error')\n",
        "plt.show()"
      ],
      "execution_count": 27,
      "outputs": [
        {
          "output_type": "display_data",
          "data": {
            "image/png": "[encoded data removed]",
            "text/plain": [
              "<Figure size 432x288 with 1 Axes>"
            ]
          },
          "metadata": {
            "tags": [],
            "needs_background": "light"
          }
        }
      ]
    },
    {
      "cell_type": "code",
      "metadata": {
        "id": "nOHknsZwjXzG",
        "colab_type": "code",
        "colab": {
          "base_uri": "https://localhost:8080/",
          "height": 298
        },
        "outputId": "7db23957-6c2a-4646-9be6-467e99a1088b"
      },
      "source": [
        "plt.plot(lambda_values_ln, sqrt_errors_test_lasso)\n",
        "plt.title('Test Set')\n",
        "plt.xlabel(r'ln$(\\lambda)$')\n",
        "plt.ylabel('Sum-of-Squares error')\n",
        "plt.show()\n",
        "\n"
      ],
      "execution_count": 28,
      "outputs": [
        {
          "output_type": "display_data",
          "data": {
            "image/png": "[encoded data removed]",
            "text/plain": [
              "<Figure size 432x288 with 1 Axes>"
            ]
          },
          "metadata": {
            "tags": [],
            "needs_background": "light"
          }
        }
      ]
    },
    {
      "cell_type": "markdown",
      "metadata": {
        "id": "Kuijta9yjrxr",
        "colab_type": "text"
      },
      "source": [
        "**Problem 5: Minimizing Minkowski Loss**"
      ]
    },
    {
      "cell_type": "markdown",
      "metadata": {
        "id": "ap5dW9qajxyU",
        "colab_type": "text"
      },
      "source": [
        "Please see the pdf."
      ]
    },
    {
      "cell_type": "markdown",
      "metadata": {
        "id": "FaSLggT0j4pF",
        "colab_type": "text"
      },
      "source": [
        "**Problem 6: Nonlinear Basis Functions**"
      ]
    },
    {
      "cell_type": "markdown",
      "metadata": {
        "id": "EN923M9jkI1J",
        "colab_type": "text"
      },
      "source": [
        "**Create the data sets**"
      ]
    },
    {
      "cell_type": "code",
      "metadata": {
        "id": "KKcCa0FbjbVF",
        "colab_type": "code",
        "colab": {}
      },
      "source": [
        "import numpy as np\n",
        "from random import choices\n",
        "\n",
        "#GMM1\n",
        "gmm_1 = {}\n",
        "gmm_1[\"mu\"] = np.array([0,0])\n",
        "gmm_1[\"cov\"] = np.array([[0.1 , 0], [0 ,0.1]])\n",
        "\n",
        "gmm1 = np.random.multivariate_normal(gmm_1[\"mu\"], gmm_1[\"cov\"], 100)    \n",
        "\n",
        "\n",
        "#GMM2\n",
        "gaussian_dist = np.array([1,2])\n",
        "mix_coeff = np.array([1/2, 1/2])\n",
        "\n",
        "gmm_2 = {}\n",
        "gmm_2[\"mu_1\"] = np.array([-1,-1])\n",
        "gmm_2[\"mu_2\"] = np.array([1,1])\n",
        "gmm_2[\"cov_1\"] = np.array([[0.1 , 0], [0 ,0.1]])\n",
        "gmm_2[\"cov_2\"] = np.array([[0.1 , 0], [0 ,0.1]])\n",
        "\n",
        "gmm2 = np.array([0,0])\n",
        "gmm2 = np.expand_dims(gmm2, axis=0)\n",
        "for i in list(range(200)):\n",
        "    choice = choices(gaussian_dist, mix_coeff)[0]\n",
        "    array = np.random.multivariate_normal(gmm_2[\"mu_\"+str(choice)], gmm_2[\"cov_\"+str(choice)])    \n",
        "    array = np.expand_dims(array, axis=0)\n",
        "    gmm2 = np.append(gmm2, array, axis = 0)\n",
        "\n",
        "gmm2 = np.delete(gmm2,0, axis=0)"
      ],
      "execution_count": 29,
      "outputs": []
    },
    {
      "cell_type": "markdown",
      "metadata": {
        "id": "vGFdZBTHkLha",
        "colab_type": "text"
      },
      "source": [
        "**Plot the two data sets**"
      ]
    },
    {
      "cell_type": "code",
      "metadata": {
        "id": "k__qH2GKkHzx",
        "colab_type": "code",
        "colab": {
          "base_uri": "https://localhost:8080/",
          "height": 295
        },
        "outputId": "8c183cda-e720-42c4-f917-57c2c3e46689"
      },
      "source": [
        "import matplotlib.pyplot as plt\n",
        "plt.scatter(gmm1[:,0],gmm1[:,1], c='b', marker='x', label='GMM-1 ')\n",
        "plt.scatter(gmm2[:,0],gmm2[:,1], c='r', marker='s', label='GMM-2 ')\n",
        "plt.title(\"Raw Data\")\n",
        "plt.legend(loc='upper left')\n",
        "plt.xlabel(\"Dimension 1\")\n",
        "plt.ylabel(\"Dimension 2\")\n",
        "plt.show()"
      ],
      "execution_count": 30,
      "outputs": [
        {
          "output_type": "display_data",
          "data": {
            "image/png": "[encoded data removed]",
            "text/plain": [
              "<Figure size 432x288 with 1 Axes>"
            ]
          },
          "metadata": {
            "tags": [],
            "needs_background": "light"
          }
        }
      ]
    },
    {
      "cell_type": "markdown",
      "metadata": {
        "id": "q3h8UrkjpFZ1",
        "colab_type": "text"
      },
      "source": [
        "As we can see we can not find a single line that separates the two data sets."
      ]
    },
    {
      "cell_type": "markdown",
      "metadata": {
        "id": "ccOO5G_8kWo_",
        "colab_type": "text"
      },
      "source": [
        "**Transform the value of our features using the Gaussian basis functions**"
      ]
    },
    {
      "cell_type": "code",
      "metadata": {
        "id": "hVa0piW-kOc2",
        "colab_type": "code",
        "colab": {}
      },
      "source": [
        "def gaussian_basis(x,mu):\n",
        "    output = []\n",
        "    iterations = x.shape[0]\n",
        "    for i in list(range(iterations)):\n",
        "        phi = np.exp(-0.5*np.dot(x[i,:]-mu,x[i,:]-mu))\n",
        "        output.append(phi)\n",
        "    return output\n",
        "\n",
        "gmm1_transformed = np.column_stack((gaussian_basis(gmm1,gmm_1[\"mu\"]),gaussian_basis(gmm1,gmm_2[\"mu_1\"])))        \n",
        "gmm2_transformed = np.column_stack((gaussian_basis(gmm2,gmm_1[\"mu\"]),gaussian_basis(gmm2,gmm_2[\"mu_1\"]))) "
      ],
      "execution_count": 31,
      "outputs": []
    },
    {
      "cell_type": "markdown",
      "metadata": {
        "id": "PsEBrN0JkqpI",
        "colab_type": "text"
      },
      "source": [
        "**Plot the transformed data**"
      ]
    },
    {
      "cell_type": "code",
      "metadata": {
        "id": "-K9kOIqKko3y",
        "colab_type": "code",
        "colab": {
          "base_uri": "https://localhost:8080/",
          "height": 295
        },
        "outputId": "837b7a1b-7c60-4684-ca97-f097fe7da70b"
      },
      "source": [
        "plt.scatter(gmm1_transformed[:,0],gmm1_transformed[:,1], c='b', marker='x', label='GMM-1 ')\n",
        "plt.scatter(gmm2_transformed[:,0],gmm2_transformed[:,1], c='r', marker='s', label='GMM-2 ')\n",
        "plt.title(\"Transformed Data\")\n",
        "plt.legend(loc='upper right')\n",
        "plt.xlabel(\"Dimension 1\")\n",
        "plt.ylabel(\"Dimension 2\")\n",
        "plt.show()"
      ],
      "execution_count": 32,
      "outputs": [
        {
          "output_type": "display_data",
          "data": {
            "image/png": "[encoded data removed]",
            "text/plain": [
              "<Figure size 432x288 with 1 Axes>"
            ]
          },
          "metadata": {
            "tags": [],
            "needs_background": "light"
          }
        }
      ]
    },
    {
      "cell_type": "markdown",
      "metadata": {
        "id": "1ZowCZPKkynz",
        "colab_type": "text"
      },
      "source": [
        "As we can clearly see, the transformed data is \"more\" separable since the red squares and the blue crosses are more segregated."
      ]
    },
    {
      "cell_type": "code",
      "metadata": {
        "id": "xf8ybzWXkuXW",
        "colab_type": "code",
        "colab": {}
      },
      "source": [
        ""
      ],
      "execution_count": 32,
      "outputs": []
    }
  ]
}