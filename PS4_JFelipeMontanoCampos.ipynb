{
 "cells": [
  {
   "cell_type": "markdown",
   "metadata": {},
   "source": [
    "### ECE 685D - Fall 2020\n",
    "## Problem Set 4 \n",
    "\n",
    "> J. Felipe Montano-Campos"
   ]
  },
  {
   "cell_type": "markdown",
   "metadata": {},
   "source": [
    "**Problem 1: Classification with Convolutional Neural Networks** "
   ]
  },
  {
   "cell_type": "code",
   "execution_count": 1,
   "metadata": {},
   "outputs": [],
   "source": [
    "import os\n",
    "os.chdir('/Users/felipemontanocampos/Dropbox/Third Semester/Deep Learning/Homerowks/HW4/Data')"
   ]
  },
  {
   "cell_type": "code",
   "execution_count": 3,
   "metadata": {},
   "outputs": [
    {
     "name": "stdout",
     "output_type": "stream",
     "text": [
      "airplane\n"
     ]
    },
    {
     "data": {
      "image/png": "[encoded data removed]",
      "text/plain": [
       "<Figure size 432x288 with 1 Axes>"
      ]
     },
     "metadata": {
      "needs_background": "light"
     },
     "output_type": "display_data"
    },
    {
     "name": "stdout",
     "output_type": "stream",
     "text": [
      "basket\n"
     ]
    },
    {
     "data": {
      "image/png": "[encoded data removed]",
      "text/plain": [
       "<Figure size 432x288 with 1 Axes>"
      ]
     },
     "metadata": {
      "needs_background": "light"
     },
     "output_type": "display_data"
    },
    {
     "name": "stdout",
     "output_type": "stream",
     "text": [
      "basketball\n"
     ]
    },
    {
     "data": {
      "image/png": "[encoded data removed]",
      "text/plain": [
       "<Figure size 432x288 with 1 Axes>"
      ]
     },
     "metadata": {
      "needs_background": "light"
     },
     "output_type": "display_data"
    },
    {
     "name": "stdout",
     "output_type": "stream",
     "text": [
      "bed\n"
     ]
    },
    {
     "data": {
      "image/png": "[encoded data removed]",
      "text/plain": [
       "<Figure size 432x288 with 1 Axes>"
      ]
     },
     "metadata": {
      "needs_background": "light"
     },
     "output_type": "display_data"
    },
    {
     "name": "stdout",
     "output_type": "stream",
     "text": [
      "bus\n"
     ]
    },
    {
     "data": {
      "image/png": "[encoded data removed]",
      "text/plain": [
       "<Figure size 432x288 with 1 Axes>"
      ]
     },
     "metadata": {
      "needs_background": "light"
     },
     "output_type": "display_data"
    },
    {
     "name": "stdout",
     "output_type": "stream",
     "text": [
      "calculator\n"
     ]
    },
    {
     "data": {
      "image/png": "[encoded data removed]",
      "text/plain": [
       "<Figure size 432x288 with 1 Axes>"
      ]
     },
     "metadata": {
      "needs_background": "light"
     },
     "output_type": "display_data"
    },
    {
     "name": "stdout",
     "output_type": "stream",
     "text": [
      "cookie\n"
     ]
    },
    {
     "data": {
      "image/png": "[encoded data removed]",
      "text/plain": [
       "<Figure size 432x288 with 1 Axes>"
      ]
     },
     "metadata": {
      "needs_background": "light"
     },
     "output_type": "display_data"
    },
    {
     "name": "stdout",
     "output_type": "stream",
     "text": [
      "eyeglasses\n"
     ]
    },
    {
     "data": {
      "image/png": "[encoded data removed]",
      "text/plain": [
       "<Figure size 432x288 with 1 Axes>"
      ]
     },
     "metadata": {
      "needs_background": "light"
     },
     "output_type": "display_data"
    },
    {
     "name": "stdout",
     "output_type": "stream",
     "text": [
      "mushroom\n"
     ]
    },
    {
     "data": {
      "image/png": "[encoded data removed]",
      "text/plain": [
       "<Figure size 432x288 with 1 Axes>"
      ]
     },
     "metadata": {
      "needs_background": "light"
     },
     "output_type": "display_data"
    },
    {
     "name": "stdout",
     "output_type": "stream",
     "text": [
      "pizza\n"
     ]
    },
    {
     "data": {
      "image/png": "[encoded data removed]",
      "text/plain": [
       "<Figure size 432x288 with 1 Axes>"
      ]
     },
     "metadata": {
      "needs_background": "light"
     },
     "output_type": "display_data"
    }
   ],
   "source": [
    "import numpy as np\n",
    "import random\n",
    "\n",
    "#Labels to work with\n",
    "labels= [\"airplane\", \"basket\", \"basketball\", \"bed\", \"bus\", \"calculator\", \"cookie\", \"eyeglasses\", \"mushroom\", \"pizza\"]\n",
    "\n",
    "#Get the data\n",
    "data = {}\n",
    "\n",
    "for label in labels:\n",
    "    data[label] = np.load(\"full_numpy_bitmap_\"+label+\".npy\")\n",
    "\n",
    "sample_size_train = 6000\n",
    "sample_size_test = 1000\n",
    "\n",
    "for label in labels:\n",
    "    rows_id = random.sample(range(0,data[label].shape[0]-1), sample_size_train+sample_size_test)\n",
    "    data[label] = data[label][rows_id, :] \n",
    "\n",
    "training_set=  {}\n",
    "train_label = {}\n",
    "test_set = {}\n",
    "test_label = {}\n",
    "i = 0\n",
    "for label in labels:\n",
    "    training_set[label] =  data[label][0:sample_size_train, :]\n",
    "    train_label[label] = np.full((training_set[label].shape[0]), i)\n",
    "    test_set[label] =  data[label][sample_size_train:, :]\n",
    "    test_label[label] = np.full((test_set[label].shape[0]), i)\n",
    "    i +=1\n",
    "\n",
    "#Plot some random observations\n",
    "import matplotlib.pyplot as plt\n",
    "for label in labels:\n",
    "    print(label)\n",
    "    plot = training_set[label][23]\n",
    "    plot_pixels = plot.reshape(28,28)\n",
    "    plt.imshow(plot_pixels)\n",
    "    plt.axis('off')\n",
    "    plt.show()"
   ]
  },
  {
   "cell_type": "code",
   "execution_count": 4,
   "metadata": {},
   "outputs": [],
   "source": [
    "# Final Data\n",
    "training_set_v = np.vstack([training_set[\"airplane\"],training_set[\"basket\"],training_set[ \"basketball\"],training_set[\"bed\"],training_set[\"bus\"],training_set[\"calculator\"],training_set[\"cookie\"],training_set[\"eyeglasses\"],training_set[\"mushroom\"],training_set[\"pizza\"]])\n",
    "training_label_v = np.hstack([train_label[\"airplane\"],train_label[\"basket\"],train_label[ \"basketball\"],train_label[\"bed\"],train_label[\"bus\"],train_label[\"calculator\"],train_label[\"cookie\"],train_label[\"eyeglasses\"],train_label[\"mushroom\"],train_label[\"pizza\"]])\n",
    "test_set_v =  np.vstack([test_set[\"airplane\"],test_set[\"basket\"],test_set[ \"basketball\"],test_set[\"bed\"],test_set[\"bus\"],test_set[\"calculator\"],test_set[\"cookie\"],test_set[\"eyeglasses\"],test_set[\"mushroom\"],test_set[\"pizza\"]])\n",
    "test_label_v =  np.hstack([test_label[\"airplane\"],test_label[\"basket\"],test_label[ \"basketball\"],test_label[\"bed\"],test_label[\"bus\"],test_label[\"calculator\"],test_label[\"cookie\"],test_label[\"eyeglasses\"],test_label[\"mushroom\"],test_label[\"pizza\"]])"
   ]
  },
  {
   "cell_type": "code",
   "execution_count": 5,
   "metadata": {},
   "outputs": [],
   "source": [
    "#Pre process - Data\n",
    "from sklearn.preprocessing import MinMaxScaler\n",
    "import pandas as pd\n",
    "scaler = MinMaxScaler()\n",
    "scaler.fit(training_set_v)\n",
    "training_set_v = scaler.transform(training_set_v)\n",
    "scaler.fit(test_set_v)\n",
    "test_set_v = scaler.transform(test_set_v)"
   ]
  },
  {
   "cell_type": "code",
   "execution_count": 6,
   "metadata": {},
   "outputs": [],
   "source": [
    "#Unflatten Arrays\n",
    "training = []\n",
    "for i in range(training_set_v.shape[0]):\n",
    "    image = training_set_v[i]\n",
    "    image_matrix = image.reshape(28,28)\n",
    "    image_matrix = np.expand_dims(image_matrix, axis=0)\n",
    "    training.append(image_matrix)  \n",
    "training = np.array(training)\n",
    "test = []\n",
    "for i in range(test_set_v.shape[0]):\n",
    "    image = test_set_v[i]\n",
    "    image_matrix = image.reshape(28,28)\n",
    "    image_matrix = np.expand_dims(image_matrix, axis=0)\n",
    "    test.append(image_matrix)\n",
    "test = np.array(test)"
   ]
  },
  {
   "cell_type": "code",
   "execution_count": 7,
   "metadata": {},
   "outputs": [],
   "source": [
    "#Import Files\n",
    "import torch\n",
    "import torch.nn as nn\n",
    "import torch.nn.functional as F\n",
    "import torch.optim\n",
    "import torchvision\n",
    "import torchvision.transforms as transforms\n",
    "import torch.optim as optim\n",
    "import matplotlib.pyplot as plt\n",
    "import numpy as np"
   ]
  },
  {
   "cell_type": "code",
   "execution_count": 8,
   "metadata": {},
   "outputs": [],
   "source": [
    "#My training and test set to pytorch\n",
    "X, y = torch.from_numpy(np.array(training)).float(), torch.from_numpy(np.array(training_label_v)).long()\n",
    "Xtest, ytest = torch.from_numpy(np.array(test)).float(), torch.from_numpy(np.array(test_label_v)).long()\n"
   ]
  },
  {
   "cell_type": "code",
   "execution_count": 9,
   "metadata": {},
   "outputs": [],
   "source": [
    "\n",
    "#Define the convolution Neural Network\n",
    "class ConvNet(nn.Module):\n",
    "    def __init__(self):\n",
    "        super(ConvNet, self).__init__()\n",
    "        self.layer1 = nn.Sequential(\n",
    "            nn.Conv2d(1, 32, kernel_size=5, stride=1, padding=2),\n",
    "            nn.ReLU(),\n",
    "            nn.MaxPool2d(kernel_size=2, stride=2))\n",
    "        self.layer2 = nn.Sequential(\n",
    "            nn.Conv2d(32, 64, kernel_size=5, stride=1, padding=2),\n",
    "            nn.ReLU(),\n",
    "            nn.MaxPool2d(kernel_size=2, stride=2))\n",
    "        self.drop_out = nn.Dropout()\n",
    "        self.fc1 = nn.Linear(7 * 7 * 64, 1000)\n",
    "        self.fc2 = nn.Linear(1000, 10)\n",
    "    def forward(self, x):\n",
    "        out = self.layer1(x)\n",
    "        out = self.layer2(out)\n",
    "        out = out.reshape(out.size(0), -1)\n",
    "        out = self.drop_out(out)\n",
    "        out = self.fc1(out)\n",
    "        out = self.fc2(out)\n",
    "        return out"
   ]
  },
  {
   "cell_type": "code",
   "execution_count": 10,
   "metadata": {},
   "outputs": [
    {
     "name": "stdout",
     "output_type": "stream",
     "text": [
      "Epoch Number: 1 | Training Accuracy: 0.8724666666666666 | Test Accuracy: 0.8667\n",
      "Epoch Number: 2 | Training Accuracy: 0.8988833333333334 | Test Accuracy: 0.8906\n",
      "Epoch Number: 3 | Training Accuracy: 0.90865 | Test Accuracy: 0.9017\n",
      "Epoch Number: 4 | Training Accuracy: 0.9217166666666666 | Test Accuracy: 0.9064\n",
      "Epoch Number: 5 | Training Accuracy: 0.9215666666666666 | Test Accuracy: 0.9058\n",
      "Epoch Number: 6 | Training Accuracy: 0.9285666666666667 | Test Accuracy: 0.9103\n",
      "Epoch Number: 7 | Training Accuracy: 0.93225 | Test Accuracy: 0.9104\n",
      "Epoch Number: 8 | Training Accuracy: 0.9316 | Test Accuracy: 0.9084\n",
      "Epoch Number: 9 | Training Accuracy: 0.93785 | Test Accuracy: 0.912\n",
      "Epoch Number: 10 | Training Accuracy: 0.9354833333333333 | Test Accuracy: 0.913\n"
     ]
    }
   ],
   "source": [
    "#Param        \n",
    "num_epochs = 10\n",
    "batch_size = 250\n",
    "learning_rate = 0.001\n",
    "train_acc = []\n",
    "test_acc = []\n",
    "loss_list = []\n",
    "#Set the model, the loss criterio and the optimizer\n",
    "model = ConvNet()\n",
    "criterion = nn.CrossEntropyLoss()\n",
    "optimizer = torch.optim.Adam(model.parameters(), lr=learning_rate)\n",
    "\n",
    "# Train the model\n",
    "\n",
    "\n",
    "for epoch in range(num_epochs+1)[1:]:\n",
    "    permutation = torch.randperm(X.size()[0])\n",
    "    for i in range(0,X.size()[0], batch_size):\n",
    "        indices = permutation[i:i+batch_size]\n",
    "        batch_x, batch_y = X[indices], y[indices]\n",
    "        #Forward pass\n",
    "        y_hat = model(batch_x)\n",
    "        loss = criterion(y_hat, batch_y)\n",
    "        loss_list.append(loss.item())\n",
    "        #Backprop and perform Adam optimization\n",
    "        optimizer.zero_grad()\n",
    "        loss.backward()\n",
    "        optimizer.step()\n",
    "    #Track Training accuracy\n",
    "    y_hat = model(X)\n",
    "    total = y.size(0)\n",
    "    _, predicted = torch.max(y_hat.data, 1)\n",
    "    correct = (predicted == y).sum().item()\n",
    "    accuracy = correct / total\n",
    "    train_acc.append(accuracy)\n",
    "    #Test Accuracy\n",
    "    y_hat_test = model(Xtest)\n",
    "    total = ytest.size(0)\n",
    "    _, predicted = torch.max(y_hat_test.data, 1)\n",
    "    correct = (predicted == ytest).sum().item()\n",
    "    accuracy_test = correct / total\n",
    "    test_acc.append(accuracy_test)        \n",
    "    print(\"Epoch Number: \"+str(epoch)+\" | Training Accuracy: \"+str(accuracy)+\" | Test Accuracy: \"+str(accuracy_test) )"
   ]
  },
  {
   "cell_type": "code",
   "execution_count": 11,
   "metadata": {},
   "outputs": [
    {
     "data": {
      "image/png": "[encoded data removed]",
      "text/plain": [
       "<Figure size 432x288 with 1 Axes>"
      ]
     },
     "metadata": {
      "needs_background": "light"
     },
     "output_type": "display_data"
    }
   ],
   "source": [
    "##Plot accuracy\n",
    "\n",
    "plt.plot(list(range(num_epochs)),train_acc, label = \"Training Set\")\n",
    "plt.plot(list(range(num_epochs)),test_acc, label = \"Test Set\" )\n",
    "plt.title('Accuracy')\n",
    "plt.ylabel('Acuraccy')\n",
    "plt.xlabel('Number of Epochs')\n",
    "plt.legend(loc='lower right')\n",
    "plt.show()"
   ]
  },
  {
   "cell_type": "markdown",
   "metadata": {},
   "source": [
    "**Problem 2: Feature Extraction Using Autoencoder**\n",
    "\n"
   ]
  },
  {
   "cell_type": "markdown",
   "metadata": {},
   "source": [
    "**Set-up**"
   ]
  },
  {
   "cell_type": "code",
   "execution_count": 1,
   "metadata": {},
   "outputs": [],
   "source": [
    "import os\n",
    "import torch \n",
    "import torchvision\n",
    "import torch.nn as nn\n",
    "import torchvision.transforms as transforms\n",
    "import torch.optim as optim\n",
    "import matplotlib.pyplot as plt\n",
    "import torch.nn.functional as F"
   ]
  },
  {
   "cell_type": "code",
   "execution_count": 2,
   "metadata": {},
   "outputs": [
    {
     "name": "stdout",
     "output_type": "stream",
     "text": [
      "Downloading http://yann.lecun.com/exdb/mnist/train-images-idx3-ubyte.gz to ./mnist/MNIST/raw/train-images-idx3-ubyte.gz\n"
     ]
    },
    {
     "data": {
      "application/vnd.jupyter.widget-view+json": {
       "model_id": "6ed4eee9e36d4f579519ef507acd3955",
       "version_major": 2,
       "version_minor": 0
      },
      "text/plain": [
       "HBox(children=(FloatProgress(value=1.0, bar_style='info', max=1.0), HTML(value='')))"
      ]
     },
     "metadata": {},
     "output_type": "display_data"
    },
    {
     "name": "stdout",
     "output_type": "stream",
     "text": [
      "Extracting ./mnist/MNIST/raw/train-images-idx3-ubyte.gz to ./mnist/MNIST/raw\n",
      "Downloading http://yann.lecun.com/exdb/mnist/train-labels-idx1-ubyte.gz to ./mnist/MNIST/raw/train-labels-idx1-ubyte.gz\n"
     ]
    },
    {
     "data": {
      "application/vnd.jupyter.widget-view+json": {
       "model_id": "ec73c97797734160ba3e864d074e953e",
       "version_major": 2,
       "version_minor": 0
      },
      "text/plain": [
       "HBox(children=(FloatProgress(value=1.0, bar_style='info', max=1.0), HTML(value='')))"
      ]
     },
     "metadata": {},
     "output_type": "display_data"
    },
    {
     "name": "stdout",
     "output_type": "stream",
     "text": [
      "Extracting ./mnist/MNIST/raw/train-labels-idx1-ubyte.gz to ./mnist/MNIST/raw\n",
      "Downloading http://yann.lecun.com/exdb/mnist/t10k-images-idx3-ubyte.gz to ./mnist/MNIST/raw/t10k-images-idx3-ubyte.gz\n"
     ]
    },
    {
     "data": {
      "application/vnd.jupyter.widget-view+json": {
       "model_id": "be3356124f6b465e97c0f7b34235a453",
       "version_major": 2,
       "version_minor": 0
      },
      "text/plain": [
       "HBox(children=(FloatProgress(value=1.0, bar_style='info', max=1.0), HTML(value='')))"
      ]
     },
     "metadata": {},
     "output_type": "display_data"
    },
    {
     "name": "stdout",
     "output_type": "stream",
     "text": [
      "Extracting ./mnist/MNIST/raw/t10k-images-idx3-ubyte.gz to ./mnist/MNIST/raw\n",
      "Downloading http://yann.lecun.com/exdb/mnist/t10k-labels-idx1-ubyte.gz to ./mnist/MNIST/raw/t10k-labels-idx1-ubyte.gz\n",
      "\n",
      "\n"
     ]
    },
    {
     "data": {
      "application/vnd.jupyter.widget-view+json": {
       "model_id": "d190e325d760479796c9469aa61bedc0",
       "version_major": 2,
       "version_minor": 0
      },
      "text/plain": [
       "HBox(children=(FloatProgress(value=1.0, bar_style='info', max=1.0), HTML(value='')))"
      ]
     },
     "metadata": {},
     "output_type": "display_data"
    },
    {
     "name": "stdout",
     "output_type": "stream",
     "text": [
      "Extracting ./mnist/MNIST/raw/t10k-labels-idx1-ubyte.gz to ./mnist/MNIST/raw\n",
      "Processing...\n",
      "Done!\n"
     ]
    },
    {
     "name": "stderr",
     "output_type": "stream",
     "text": [
      "/Users/felipemontanocampos/anaconda3/lib/python3.7/site-packages/torchvision/datasets/mnist.py:469: UserWarning: The given NumPy array is not writeable, and PyTorch does not support non-writeable tensors. This means you can write to the underlying (supposedly non-writeable) NumPy array using the tensor. You may want to copy the array to protect its data or make it writeable before converting it to a tensor. This type of warning will be suppressed for the rest of this program. (Triggered internally at  /Users/distiller/project/conda/conda-bld/pytorch_1595629430416/work/torch/csrc/utils/tensor_numpy.cpp:141.)\n",
      "  return torch.from_numpy(parsed.astype(m[2], copy=False)).view(*s)\n"
     ]
    }
   ],
   "source": [
    "#Data set \n",
    "transform = transforms.Compose(\n",
    "    [transforms.ToTensor(),\n",
    "     transforms.Normalize((0.5,), (0.5,))])\n",
    "\n",
    "train_dataset  = torchvision.datasets.MNIST(root='./mnist', train=True, download=True, transform=transform)\n",
    "test_dataset = torchvision.datasets.MNIST(root='./mnist', train=False, download=True, transform=transform)\n",
    "train_loader = torch.utils.data.DataLoader(train_dataset, batch_size=128, shuffle=True, num_workers=0)\n",
    "test_loader = torch.utils.data.DataLoader(test_dataset , batch_size=100, shuffle=True, num_workers=0)\n",
    "\n"
   ]
  },
  {
   "cell_type": "code",
   "execution_count": 3,
   "metadata": {},
   "outputs": [],
   "source": [
    "#Define the Autoencoder \n",
    "class Autoencoder(nn.Module):\n",
    "    def __init__(self):\n",
    "        super(Autoencoder, self).__init__()\n",
    "        # encoder\n",
    "        self.enc1 = nn.Linear(in_features=784, out_features=128)\n",
    "        self.enc2 = nn.Linear(in_features=128, out_features=64)\n",
    "        self.enc3 = nn.Linear(in_features=64, out_features=12)\n",
    "        self.enc4 = nn.Linear(in_features=12, out_features=3)\n",
    "        # decoder \n",
    "        self.dec1 = nn.Linear(in_features=3, out_features=12)\n",
    "        self.dec2 = nn.Linear(in_features=12, out_features=64)\n",
    "        self.dec3 = nn.Linear(in_features=64, out_features=128)\n",
    "        self.dec4 = nn.Linear(in_features=128, out_features=784)\n",
    "    def forward(self, x):\n",
    "        x = F.relu(self.enc1(x))\n",
    "        x = F.relu(self.enc2(x))\n",
    "        x = F.relu(self.enc3(x))\n",
    "        y = self.enc4(x)\n",
    "        x = F.relu(self.dec1(y))\n",
    "        x = F.relu(self.dec2(x))\n",
    "        x = F.relu(self.dec3(x))\n",
    "        x = F.tanh(self.dec4(x))\n",
    "        return x, y"
   ]
  },
  {
   "cell_type": "markdown",
   "metadata": {},
   "source": [
    "**AE-based feature extraction**"
   ]
  },
  {
   "cell_type": "code",
   "execution_count": 15,
   "metadata": {},
   "outputs": [
    {
     "name": "stdout",
     "output_type": "stream",
     "text": [
      "Autoencoder(\n",
      "  (enc1): Linear(in_features=784, out_features=128, bias=True)\n",
      "  (enc2): Linear(in_features=128, out_features=64, bias=True)\n",
      "  (enc3): Linear(in_features=64, out_features=12, bias=True)\n",
      "  (enc4): Linear(in_features=12, out_features=3, bias=True)\n",
      "  (dec1): Linear(in_features=3, out_features=12, bias=True)\n",
      "  (dec2): Linear(in_features=12, out_features=64, bias=True)\n",
      "  (dec3): Linear(in_features=64, out_features=128, bias=True)\n",
      "  (dec4): Linear(in_features=128, out_features=784, bias=True)\n",
      ")\n"
     ]
    },
    {
     "name": "stderr",
     "output_type": "stream",
     "text": [
      "/Users/felipemontanocampos/anaconda3/lib/python3.7/site-packages/torch/nn/functional.py:1614: UserWarning: nn.functional.tanh is deprecated. Use torch.tanh instead.\n",
      "  warnings.warn(\"nn.functional.tanh is deprecated. Use torch.tanh instead.\")\n"
     ]
    },
    {
     "name": "stdout",
     "output_type": "stream",
     "text": [
      "0\n",
      "1\n",
      "2\n",
      "3\n",
      "4\n",
      "5\n",
      "6\n",
      "7\n",
      "8\n",
      "9\n",
      "10\n",
      "11\n",
      "12\n",
      "13\n",
      "14\n",
      "15\n",
      "16\n",
      "17\n",
      "18\n",
      "19\n",
      "20\n",
      "21\n",
      "22\n",
      "23\n",
      "24\n",
      "25\n",
      "26\n",
      "27\n",
      "28\n",
      "29\n",
      "30\n",
      "31\n",
      "32\n",
      "33\n",
      "34\n",
      "35\n",
      "36\n",
      "37\n",
      "38\n",
      "39\n"
     ]
    }
   ],
   "source": [
    "device = 'cuda' if torch.cuda.is_available() else 'cpu'\n",
    "\n",
    "#Parameters\n",
    "learning_rate = 0.001\n",
    "net = Autoencoder()\n",
    "criterion = nn.MSELoss()\n",
    "optimizer = optim.Adam(net.parameters(), lr= learning_rate)\n",
    "print(net)\n",
    "num_epochs = 40 \n",
    "#Train the model\n",
    "for epoch in range(num_epochs):\n",
    "    for data in train_loader:\n",
    "        img, _ = data \n",
    "        img = img.to(device)\n",
    "        img = img.view(img.size(0), -1)\n",
    "        optimizer.zero_grad()\n",
    "        feat_reduc, enc = net(img)\n",
    "        loss = criterion(feat_reduc, img)\n",
    "        loss.backward()\n",
    "        optimizer.step()\n",
    "    print(epoch)"
   ]
  },
  {
   "cell_type": "code",
   "execution_count": 16,
   "metadata": {},
   "outputs": [],
   "source": [
    "net.eval()      \n",
    "#Training set \n",
    "train_loader = torch.utils.data.DataLoader(train_dataset, batch_size=60000, shuffle=True, num_workers=0)\n",
    "       \n",
    "iter_train = iter(train_loader)\n",
    "train_x, train_y = next(iter_train)\n",
    "train_x = train_x.to(device)        \n",
    "train_x = train_x.view(train_x.size(0),-1)\n",
    "reconstruct_train, train_x_extracted = net(train_x.float())\n",
    "train_x = train_x.detach().cpu().numpy()\n",
    "train_y = train_y.detach().cpu().numpy()\n",
    "train_x_extracted = train_x_extracted.float().detach().cpu().numpy()       \n",
    "        \n",
    "#Test set\n",
    "test_loader = torch.utils.data.DataLoader(test_dataset , batch_size=10000, shuffle=True, num_workers=0)\n",
    "     \n",
    "iter_test = iter(test_loader)\n",
    "test_x, test_y = next(iter_test)        \n",
    "test_x = test_x.to(device)      \n",
    "test_x = test_x.view(test_x.size(0),-1)\n",
    "reconstruct_test, test_x_extracted = net(test_x.float())\n",
    "test_x = test_x.detach().cpu().numpy()\n",
    "test_y = test_y.detach().cpu().numpy()\n",
    "test_x_extracted = test_x_extracted.detach().cpu().numpy()\n",
    "        \n",
    "        "
   ]
  },
  {
   "cell_type": "code",
   "execution_count": 18,
   "metadata": {},
   "outputs": [
    {
     "name": "stderr",
     "output_type": "stream",
     "text": [
      "/Users/felipemontanocampos/anaconda3/lib/python3.7/site-packages/sklearn/linear_model/logistic.py:432: FutureWarning: Default solver will be changed to 'lbfgs' in 0.22. Specify a solver to silence this warning.\n",
      "  FutureWarning)\n",
      "/Users/felipemontanocampos/anaconda3/lib/python3.7/site-packages/sklearn/linear_model/logistic.py:469: FutureWarning: Default multi_class will be changed to 'auto' in 0.22. Specify the multi_class option to silence this warning.\n",
      "  \"this warning.\", FutureWarning)\n"
     ]
    },
    {
     "name": "stdout",
     "output_type": "stream",
     "text": [
      "Accuracies using Extracted Features:\n",
      "Training Accuracy:0.7013\n",
      "Test Accuracy:0.7043\n"
     ]
    }
   ],
   "source": [
    "#Extracted Features\n",
    "from sklearn.linear_model import LogisticRegression\n",
    "from sklearn.metrics import accuracy_score\n",
    "clf = LogisticRegression(random_state=0, max_iter = 100).fit(train_x_extracted, train_y)\n",
    "predict_train_x_extracted = clf.predict(train_x_extracted)\n",
    "predict_test_y_extracted = clf.predict(test_x_extracted)\n",
    "\n",
    "train_accuracy_extracted = accuracy_score(train_y,predict_train_x_extracted)\n",
    "test_accuracy_extracted = accuracy_score(test_y, predict_test_y_extracted)\n",
    "\n",
    "print(\"Accuracies using Extracted Features:\")\n",
    "print(\"Training Accuracy:\"+str(train_accuracy_extracted))\n",
    "print(\"Test Accuracy:\"+str(test_accuracy_extracted))"
   ]
  },
  {
   "cell_type": "markdown",
   "metadata": {},
   "source": [
    "**CAE-based feature extraction**"
   ]
  },
  {
   "cell_type": "code",
   "execution_count": 5,
   "metadata": {},
   "outputs": [
    {
     "name": "stdout",
     "output_type": "stream",
     "text": [
      "Autoencoder(\n",
      "  (enc1): Linear(in_features=784, out_features=128, bias=True)\n",
      "  (enc2): Linear(in_features=128, out_features=64, bias=True)\n",
      "  (enc3): Linear(in_features=64, out_features=12, bias=True)\n",
      "  (enc4): Linear(in_features=12, out_features=3, bias=True)\n",
      "  (dec1): Linear(in_features=3, out_features=12, bias=True)\n",
      "  (dec2): Linear(in_features=12, out_features=64, bias=True)\n",
      "  (dec3): Linear(in_features=64, out_features=128, bias=True)\n",
      "  (dec4): Linear(in_features=128, out_features=784, bias=True)\n",
      ")\n"
     ]
    },
    {
     "name": "stderr",
     "output_type": "stream",
     "text": [
      "/Users/felipemontanocampos/anaconda3/lib/python3.7/site-packages/torch/nn/functional.py:1614: UserWarning: nn.functional.tanh is deprecated. Use torch.tanh instead.\n",
      "  warnings.warn(\"nn.functional.tanh is deprecated. Use torch.tanh instead.\")\n"
     ]
    },
    {
     "name": "stdout",
     "output_type": "stream",
     "text": [
      "0\n",
      "1\n",
      "2\n",
      "3\n",
      "4\n",
      "5\n",
      "6\n",
      "7\n",
      "8\n",
      "9\n",
      "10\n",
      "11\n",
      "12\n",
      "13\n",
      "14\n",
      "15\n",
      "16\n",
      "17\n",
      "18\n",
      "19\n",
      "20\n",
      "21\n",
      "22\n",
      "23\n",
      "24\n",
      "25\n",
      "26\n",
      "27\n",
      "28\n",
      "29\n",
      "30\n",
      "31\n",
      "32\n",
      "33\n",
      "34\n",
      "35\n",
      "36\n",
      "37\n",
      "38\n",
      "39\n"
     ]
    }
   ],
   "source": [
    "device = 'cuda' if torch.cuda.is_available() else 'cpu'\n",
    "\n",
    "#Parameters\n",
    "learning_rate = 0.001\n",
    "lamb = 1e-3\n",
    "net = Autoencoder()\n",
    "criterion = nn.MSELoss()\n",
    "optimizer = optim.Adam(net.parameters(), lr= learning_rate)\n",
    "print(net)\n",
    "num_epochs = 40 \n",
    "#Train the model\n",
    "for epoch in range(num_epochs):\n",
    "    for data in train_loader:\n",
    "        img, _ = data \n",
    "        img = img.to(device)\n",
    "        img = img.view(img.size(0), -1)\n",
    "        img.requires_grad_(True)\n",
    "        img.retain_grad()\n",
    "        feat_reduc, enc = net(img)\n",
    "        enc.backward(torch.ones(enc.size()), retain_graph=True)\n",
    "        loss = criterion(feat_reduc, img)\n",
    "        loss += lamb * torch.sqrt(torch.sum((pow(img.grad,2))))\n",
    "        img.grad.data.zero_()\n",
    "        #Drop gradient\n",
    "        img.requires_grad_(False)\n",
    "        optimizer.zero_grad()\n",
    "        loss.backward()\n",
    "        optimizer.step()\n",
    "    print(epoch)"
   ]
  },
  {
   "cell_type": "code",
   "execution_count": 6,
   "metadata": {},
   "outputs": [],
   "source": [
    "net.eval()      \n",
    "#Training set \n",
    "train_loader = torch.utils.data.DataLoader(train_dataset, batch_size=60000, shuffle=True, num_workers=0)\n",
    "       \n",
    "iter_train = iter(train_loader)\n",
    "train_x, train_y = next(iter_train)\n",
    "train_x = train_x.to(device)        \n",
    "train_x = train_x.view(train_x.size(0),-1)\n",
    "reconstruct_train, train_x_extracted = net(train_x.float())\n",
    "train_x = train_x.detach().cpu().numpy()\n",
    "train_y = train_y.detach().cpu().numpy()\n",
    "train_x_extracted = train_x_extracted.float().detach().cpu().numpy()       \n",
    "        \n",
    "#Test set\n",
    "test_loader = torch.utils.data.DataLoader(test_dataset , batch_size=10000, shuffle=True, num_workers=0)\n",
    "     \n",
    "iter_test = iter(test_loader)\n",
    "test_x, test_y = next(iter_test)        \n",
    "test_x = test_x.to(device)      \n",
    "test_x = test_x.view(test_x.size(0),-1)\n",
    "reconstruct_test, test_x_extracted = net(test_x.float())\n",
    "test_x = test_x.detach().cpu().numpy()\n",
    "test_y = test_y.detach().cpu().numpy()\n",
    "test_x_extracted = test_x_extracted.detach().cpu().numpy()\n",
    "        "
   ]
  },
  {
   "cell_type": "code",
   "execution_count": 8,
   "metadata": {},
   "outputs": [
    {
     "name": "stderr",
     "output_type": "stream",
     "text": [
      "/Users/felipemontanocampos/anaconda3/lib/python3.7/site-packages/sklearn/linear_model/logistic.py:432: FutureWarning: Default solver will be changed to 'lbfgs' in 0.22. Specify a solver to silence this warning.\n",
      "  FutureWarning)\n",
      "/Users/felipemontanocampos/anaconda3/lib/python3.7/site-packages/sklearn/linear_model/logistic.py:469: FutureWarning: Default multi_class will be changed to 'auto' in 0.22. Specify the multi_class option to silence this warning.\n",
      "  \"this warning.\", FutureWarning)\n"
     ]
    },
    {
     "name": "stdout",
     "output_type": "stream",
     "text": [
      "Accuracies using Extracted Features:\n",
      "Training Accuracy:0.7175833333333334\n",
      "Test Accuracy:0.7184\n"
     ]
    }
   ],
   "source": [
    "#Extracted Features\n",
    "from sklearn.linear_model import LogisticRegression\n",
    "from sklearn.metrics import accuracy_score\n",
    "clf = LogisticRegression(random_state=0, max_iter = 100).fit(train_x_extracted, train_y)\n",
    "predict_train_x_extracted = clf.predict(train_x_extracted)\n",
    "predict_test_y_extracted = clf.predict(test_x_extracted)\n",
    "\n",
    "train_accuracy_extracted = accuracy_score(train_y,predict_train_x_extracted)\n",
    "test_accuracy_extracted = accuracy_score(test_y, predict_test_y_extracted)\n",
    "\n",
    "print(\"Accuracies using Extracted Features:\")\n",
    "print(\"Training Accuracy:\"+str(train_accuracy_extracted))\n",
    "print(\"Test Accuracy:\"+str(test_accuracy_extracted))"
   ]
  },
  {
   "cell_type": "markdown",
   "metadata": {},
   "source": [
    "**PCA**"
   ]
  },
  {
   "cell_type": "code",
   "execution_count": 9,
   "metadata": {},
   "outputs": [
    {
     "name": "stderr",
     "output_type": "stream",
     "text": [
      "/Users/felipemontanocampos/anaconda3/lib/python3.7/site-packages/sklearn/linear_model/logistic.py:432: FutureWarning: Default solver will be changed to 'lbfgs' in 0.22. Specify a solver to silence this warning.\n",
      "  FutureWarning)\n",
      "/Users/felipemontanocampos/anaconda3/lib/python3.7/site-packages/sklearn/linear_model/logistic.py:469: FutureWarning: Default multi_class will be changed to 'auto' in 0.22. Specify the multi_class option to silence this warning.\n",
      "  \"this warning.\", FutureWarning)\n"
     ]
    },
    {
     "name": "stdout",
     "output_type": "stream",
     "text": [
      "Accuracies using Extracted Features:\n",
      "Training Accuracy:0.45026666666666665\n",
      "Test Accuracy:0.1788\n"
     ]
    }
   ],
   "source": [
    "#Training set \n",
    "train_x = train_dataset.data\n",
    "train_x = train_x.view(train_x.size(0),-1)\n",
    "train_y = train_dataset.targets\n",
    "train_x = train_x.detach().cpu().numpy()\n",
    "train_y = train_y.detach().cpu().numpy()\n",
    "\n",
    "#Test Set\n",
    "\n",
    "test_x = test_dataset.data\n",
    "test_x = test_x.view(test_x.size(0),-1)\n",
    "test_y = test_dataset.targets\n",
    "test_x = test_x.detach().cpu().numpy()\n",
    "test_y = test_y.detach().cpu().numpy()\n",
    "\n",
    "#Training Transformation\n",
    "from sklearn.decomposition import PCA\n",
    "import pandas as pd\n",
    "\n",
    "pca = PCA(n_components=3)\n",
    "principalComponents = pca.fit_transform(train_x)\n",
    "train_pca_x = pd.DataFrame(data = principalComponents\n",
    "             , columns = ['principal component 1', 'principal component 2' , 'principal component 3'])\n",
    "pca = PCA(n_components=3)\n",
    "principalComponents = pca.fit_transform(test_x)\n",
    "test_pca_x = pd.DataFrame(data = principalComponents\n",
    "             , columns = ['principal component 1', 'principal component 2' , 'principal component 3'])\n",
    "\n",
    "\n",
    "#Logistic Regression\n",
    "clf = LogisticRegression(random_state=0, max_iter = 100).fit(train_pca_x, train_y)\n",
    "predict_train = clf.predict(train_pca_x)\n",
    "predict_test = clf.predict(test_pca_x)\n",
    "\n",
    "\n",
    "train_accuracy_extracted = accuracy_score(train_y,predict_train)\n",
    "test_accuracy_extracted = accuracy_score(test_y, predict_test)\n",
    "\n",
    "print(\"Accuracies using Extracted Features:\")\n",
    "print(\"Training Accuracy:\"+str(train_accuracy_extracted))\n",
    "print(\"Test Accuracy:\"+str(test_accuracy_extracted))"
   ]
  },
  {
   "cell_type": "code",
   "execution_count": null,
   "metadata": {},
   "outputs": [],
   "source": []
  }
 ],
 "metadata": {
  "kernelspec": {
   "display_name": "Python 3",
   "language": "python",
   "name": "python3"
  },
  "language_info": {
   "codemirror_mode": {
    "name": "ipython",
    "version": 3
   },
   "file_extension": ".py",
   "mimetype": "text/x-python",
   "name": "python",
   "nbconvert_exporter": "python",
   "pygments_lexer": "ipython3",
   "version": "3.7.3"
  },
  "varInspector": {
   "cols": {
    "lenName": 16,
    "lenType": 16,
    "lenVar": 40
   },
   "kernels_config": {
    "python": {
     "delete_cmd_postfix": "",
     "delete_cmd_prefix": "del ",
     "library": "var_list.py",
     "varRefreshCmd": "print(var_dic_list())"
    },
    "r": {
     "delete_cmd_postfix": ") ",
     "delete_cmd_prefix": "rm(",
     "library": "var_list.r",
     "varRefreshCmd": "cat(var_dic_list()) "
    }
   },
   "types_to_exclude": [
    "module",
    "function",
    "builtin_function_or_method",
    "instance",
    "_Feature"
   ],
   "window_display": false
  }
 },
 "nbformat": 4,
 "nbformat_minor": 2
}
