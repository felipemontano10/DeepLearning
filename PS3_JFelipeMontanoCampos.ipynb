{
  "nbformat": 4,
  "nbformat_minor": 0,
  "metadata": {
    "colab": {
      "name": "PS3_JFelipeMontanoCampos.ipynb",
      "provenance": [],
      "authorship_tag": "ABX9TyPdhVlt7znd2JBouGO0bduO",
      "include_colab_link": true
    },
    "kernelspec": {
      "name": "python3",
      "display_name": "Python 3"
    }
  },
  "cells": [
    {
      "cell_type": "markdown",
      "metadata": {
        "id": "view-in-github",
        "colab_type": "text"
      },
      "source": [
        "<a href=\"https://colab.research.google.com/github/felipemontano10/DeepLearning/blob/master/PS3_JFelipeMontanoCampos.ipynb\" target=\"_parent\"><img src=\"https://colab.research.google.com/assets/colab-badge.svg\" alt=\"Open In Colab\"/></a>"
      ]
    },
    {
      "cell_type": "markdown",
      "metadata": {
        "id": "vXI5IF9-8XaV"
      },
      "source": [
        "### ECE 685D - Fall 2020\n",
        "## Problem Set 3 \n",
        "\n",
        "> J. Felipe Montano-Campos"
      ]
    },
    {
      "cell_type": "markdown",
      "metadata": {
        "id": "UBBOnwiF8Wjt"
      },
      "source": [
        "**Problem 3: Binary Classification with Generalized Linear Models**\n"
      ]
    },
    {
      "cell_type": "code",
      "metadata": {
        "id": "2rMDvYhl856J"
      },
      "source": [
        "import pandas as pd \n",
        "from sklearn.model_selection import train_test_split\n",
        "import numpy as np\n",
        "from numpy.linalg import inv\n",
        "from sklearn import preprocessing"
      ],
      "execution_count": 1,
      "outputs": []
    },
    {
      "cell_type": "code",
      "metadata": {
        "id": "KYG0rwoP_YuW",
        "outputId": "988b2297-49d0-4848-d1c4-364237e530c0",
        "colab": {
          "resources": {
            "http://localhost:8080/nbextensions/google.colab/files.js": {
              "data": "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",
              "ok": true,
              "headers": [
                [
                  "content-type",
                  "application/javascript"
                ]
              ],
              "status": 200,
              "status_text": ""
            }
          },
          "base_uri": "https://localhost:8080/",
          "height": 72
        }
      },
      "source": [
        "from google.colab import files\n",
        "uploaded = files.upload()"
      ],
      "execution_count": 2,
      "outputs": [
        {
          "output_type": "display_data",
          "data": {
            "text/html": [
              "\n",
              "     <input type=\"file\" id=\"files-f41ddcd8-d639-4fe1-b5c6-24604c30bb30\" name=\"files[]\" multiple disabled\n",
              "        style=\"border:none\" />\n",
              "     <output id=\"result-f41ddcd8-d639-4fe1-b5c6-24604c30bb30\">\n",
              "      Upload widget is only available when the cell has been executed in the\n",
              "      current browser session. Please rerun this cell to enable.\n",
              "      </output>\n",
              "      <script src=\"/nbextensions/google.colab/files.js\"></script> "
            ],
            "text/plain": [
              "<IPython.core.display.HTML object>"
            ]
          },
          "metadata": {
            "tags": []
          }
        },
        {
          "output_type": "stream",
          "text": [
            "Saving breast_cancer.csv to breast_cancer.csv\n"
          ],
          "name": "stdout"
        }
      ]
    },
    {
      "cell_type": "code",
      "metadata": {
        "id": "P-v0M0QC8_zM"
      },
      "source": [
        "#Data Preparation \n",
        "cancer_data = pd.read_csv(\"breast_cancer.csv\") \n",
        "\n",
        "targets = cancer_data[\"diagnosis\"]\n",
        "targets = targets.replace({\"B\": 0, \"M\": 1})\n",
        "\n",
        "features = ['radius_mean', 'texture_mean', 'smoothness_mean',\n",
        "       'compactness_mean', 'symmetry_mean', 'fractal_dimension_mean',\n",
        "       'radius_se', 'texture_se', 'smoothness_se', 'compactness_se',\n",
        "       'symmetry_se', 'fractal_dimension_se']\n",
        "\n",
        "features_df = cancer_data[features]\n",
        "\n",
        "X_train, X_test, y_train, y_test = train_test_split(features_df, targets, test_size=0.3, random_state=40)\n",
        "\n",
        "\n"
      ],
      "execution_count": 3,
      "outputs": []
    },
    {
      "cell_type": "markdown",
      "metadata": {
        "id": "6yTwsADfCMD4"
      },
      "source": [
        "**Discriminant Analysis**"
      ]
    },
    {
      "cell_type": "code",
      "metadata": {
        "id": "U7n_wLyd9NwY"
      },
      "source": [
        "##Discriminant Analysis\n",
        "\n",
        "def discriminant_binary(X_train, y_train, X_test, y_test):\n",
        "    train = pd.concat([X_train, y_train], axis=1, sort=False)\n",
        "    sigma =  np.cov(X_train.T)\n",
        "    sigma_inv = inv(sigma)\n",
        "    mu_1 = train.loc[train[\"diagnosis\"]==1].mean() \n",
        "    mu_2 = train.loc[train[\"diagnosis\"]==0].mean()\n",
        "    mu_1 = np.array(mu_1.drop(index = \"diagnosis\"))\n",
        "    mu_2 = np.array(mu_2.drop(index = \"diagnosis\"))\n",
        "    p_c1 = np.mean(np.array(train[\"diagnosis\"]))\n",
        "    p_c2 = 1-p_c1\n",
        "    w = np.matmul(sigma_inv,(mu_1-mu_2))\n",
        "    w_0 = -0.5*np.matmul(np.matmul(mu_1.T,sigma_inv),mu_1)+ 0.5*np.matmul(np.matmul(mu_2.T,sigma_inv),mu_2)+np.log(p_c1/p_c2)\n",
        "    train_pred = w_0 + np.matmul(np.array(X_train),w)\n",
        "    train_pred[train_pred > 0] =1\n",
        "    train_pred[train_pred < 0] = 0\n",
        "    correct_train = (train_pred == y_train)\n",
        "    accuracy_train = correct_train.sum() / correct_train.size\n",
        "    test_pred = w_0 + np.matmul(np.array(X_test),w)\n",
        "    test_pred[test_pred > 0] =1\n",
        "    test_pred[test_pred < 0] = 0\n",
        "    correct_test = (test_pred == y_test)    \n",
        "    accuracy_test = correct_test.sum() / correct_test.size\n",
        "    \n",
        "    return (accuracy_test, accuracy_train)"
      ],
      "execution_count": 5,
      "outputs": []
    },
    {
      "cell_type": "code",
      "metadata": {
        "id": "iyR3iWQY_y-l",
        "outputId": "c7d7d4c1-5cc9-407c-bfb9-c5694dc55e88",
        "colab": {
          "base_uri": "https://localhost:8080/",
          "height": 51
        }
      },
      "source": [
        "train_acc, test_acc = discriminant_binary(X_train, y_train, X_test, y_test)\n",
        "print(\"Training Accuracy:\"+str(train_acc)) \n",
        "print(\"Test Accuracy:\"+str(test_acc)) "
      ],
      "execution_count": 7,
      "outputs": [
        {
          "output_type": "stream",
          "text": [
            "Training Accuracy:0.935672514619883\n",
            "Test Accuracy:0.8944723618090452\n"
          ],
          "name": "stdout"
        }
      ]
    },
    {
      "cell_type": "markdown",
      "metadata": {
        "id": "nVBSj_g6CQwu"
      },
      "source": [
        "**Logistic Regression**"
      ]
    },
    {
      "cell_type": "code",
      "metadata": {
        "id": "ydYrYKwmIZtX"
      },
      "source": [
        "#Import Packages\n",
        "import torch\n",
        "import torch.nn as nn\n",
        "import matplotlib.pyplot as plt\n",
        "\n",
        "#Pre Process Data\n",
        "X_train = preprocessing.scale(X_train)\n",
        "X_test = preprocessing.scale(X_test)"
      ],
      "execution_count": 8,
      "outputs": []
    },
    {
      "cell_type": "code",
      "metadata": {
        "id": "OMggustjBZA5"
      },
      "source": [
        "class LogisticRegressionModel(nn.Module):\n",
        "    def __init__(self, input_dim, output_dim):\n",
        "        super(LogisticRegressionModel, self).__init__()\n",
        "        self.linear = nn.Linear(input_dim, output_dim,bias=False)\n",
        "\n",
        "    def forward(self, x):\n",
        "        out = self.linear(x)\n",
        "        return out\n",
        "\n",
        "\n",
        "n_epochs = 50\n",
        "n_samples = X_train.shape[0]\n",
        "n_features = X_train.shape[1]\n",
        "n_classes = y_train.value_counts().shape[0]\n",
        "learning_rate = 0.1"
      ],
      "execution_count": 10,
      "outputs": []
    },
    {
      "cell_type": "code",
      "metadata": {
        "id": "pQ40Qz8QBa-_"
      },
      "source": [
        "#Define the Logistic Regression Function to train the model\n",
        "\n",
        "def LR(X_train, y_train, X_test, y_test, n_epochs, n_features,n_classes,learning_rate):\n",
        "    X, y = torch.from_numpy(np.array(X_train)).float(), torch.from_numpy(np.array(y_train)).long()\n",
        "    Xtest, ytest = torch.from_numpy(np.array(X_test)).float(), torch.from_numpy(np.array(y_test)).long()    \n",
        "    model = LogisticRegressionModel(n_features, n_classes)\n",
        "    optimizer = torch.optim.SGD(model.parameters(), lr= learning_rate) # Experiment to see the senstivity of learning rate with SGD\n",
        "    criterion = nn.CrossEntropyLoss()\n",
        "    # Train\n",
        "    model.train('True')\n",
        "    loss_train = []\n",
        "    loss_test = []\n",
        "    train_list = []\n",
        "    test_list = []\n",
        "    for epoch in range(n_epochs):\n",
        "        print(\"Epoch number:\"+str(epoch))        \n",
        "        y_hat = model(X)\n",
        "        loss = criterion(y_hat.squeeze(), y)\n",
        "        optimizer.zero_grad()\n",
        "        loss.backward() # Backward Pass\n",
        "        optimizer.step()\n",
        "        loss_train.append(loss.item())\n",
        "        #Training Accuracy\n",
        "        _, predicted = torch.max(y_hat.data,1)\n",
        "        correct = (predicted == y) \n",
        "        accuracy = int(correct.sum()) / correct.shape[0]\n",
        "        print(\"Training Accuracy\")\n",
        "        print(accuracy)\n",
        "        train_list.append(accuracy)\n",
        "        #Test Accuracy\n",
        "        y_hat_test = model(Xtest)     \n",
        "        losstest = criterion(y_hat_test.squeeze(), ytest)\n",
        "        loss_test.append(losstest.item())\n",
        "        _, predicted_test = torch.max(y_hat_test.data,1)\n",
        "        correct_test = (predicted_test == ytest)    \n",
        "        accuracy_test = int(correct_test.sum()) / correct_test.shape[0]\n",
        "        print(\"Test Accuracy\")\n",
        "        print(accuracy_test)\n",
        "        test_list.append(accuracy_test)\n",
        "    return (loss_train, loss_test ,train_list,test_list)\n"
      ],
      "execution_count": 11,
      "outputs": []
    },
    {
      "cell_type": "code",
      "metadata": {
        "id": "75Pl0SR5BbE6",
        "outputId": "23627960-0046-4144-aa6e-c533a9787e2b",
        "colab": {
          "base_uri": "https://localhost:8080/",
          "height": 1000
        }
      },
      "source": [
        "loss_train, loss_test, train_list, test_list = LR(X_train, y_train, X_test, y_test, n_epochs, n_features,n_classes,learning_rate)\n"
      ],
      "execution_count": 12,
      "outputs": [
        {
          "output_type": "stream",
          "text": [
            "Epoch number:0\n",
            "Training Accuracy\n",
            "0.42462311557788945\n",
            "Test Accuracy\n",
            "0.52046783625731\n",
            "Epoch number:1\n",
            "Training Accuracy\n",
            "0.4849246231155779\n",
            "Test Accuracy\n",
            "0.5789473684210527\n",
            "Epoch number:2\n",
            "Training Accuracy\n",
            "0.5603015075376885\n",
            "Test Accuracy\n",
            "0.6491228070175439\n",
            "Epoch number:3\n",
            "Training Accuracy\n",
            "0.6633165829145728\n",
            "Test Accuracy\n",
            "0.7134502923976608\n",
            "Epoch number:4\n",
            "Training Accuracy\n",
            "0.6859296482412061\n",
            "Test Accuracy\n",
            "0.7309941520467836\n",
            "Epoch number:5\n",
            "Training Accuracy\n",
            "0.7261306532663316\n",
            "Test Accuracy\n",
            "0.7719298245614035\n",
            "Epoch number:6\n",
            "Training Accuracy\n",
            "0.7562814070351759\n",
            "Test Accuracy\n",
            "0.7719298245614035\n",
            "Epoch number:7\n",
            "Training Accuracy\n",
            "0.7889447236180904\n",
            "Test Accuracy\n",
            "0.8128654970760234\n",
            "Epoch number:8\n",
            "Training Accuracy\n",
            "0.8165829145728644\n",
            "Test Accuracy\n",
            "0.8304093567251462\n",
            "Epoch number:9\n",
            "Training Accuracy\n",
            "0.8391959798994975\n",
            "Test Accuracy\n",
            "0.8304093567251462\n",
            "Epoch number:10\n",
            "Training Accuracy\n",
            "0.8567839195979899\n",
            "Test Accuracy\n",
            "0.847953216374269\n",
            "Epoch number:11\n",
            "Training Accuracy\n",
            "0.8693467336683417\n",
            "Test Accuracy\n",
            "0.847953216374269\n",
            "Epoch number:12\n",
            "Training Accuracy\n",
            "0.8844221105527639\n",
            "Test Accuracy\n",
            "0.8538011695906432\n",
            "Epoch number:13\n",
            "Training Accuracy\n",
            "0.8894472361809045\n",
            "Test Accuracy\n",
            "0.8654970760233918\n",
            "Epoch number:14\n",
            "Training Accuracy\n",
            "0.8994974874371859\n",
            "Test Accuracy\n",
            "0.8888888888888888\n",
            "Epoch number:15\n",
            "Training Accuracy\n",
            "0.9045226130653267\n",
            "Test Accuracy\n",
            "0.8888888888888888\n",
            "Epoch number:16\n",
            "Training Accuracy\n",
            "0.9120603015075377\n",
            "Test Accuracy\n",
            "0.8947368421052632\n",
            "Epoch number:17\n",
            "Training Accuracy\n",
            "0.9195979899497487\n",
            "Test Accuracy\n",
            "0.8947368421052632\n",
            "Epoch number:18\n",
            "Training Accuracy\n",
            "0.9195979899497487\n",
            "Test Accuracy\n",
            "0.8947368421052632\n",
            "Epoch number:19\n",
            "Training Accuracy\n",
            "0.9246231155778895\n",
            "Test Accuracy\n",
            "0.8947368421052632\n",
            "Epoch number:20\n",
            "Training Accuracy\n",
            "0.9271356783919598\n",
            "Test Accuracy\n",
            "0.8947368421052632\n",
            "Epoch number:21\n",
            "Training Accuracy\n",
            "0.9271356783919598\n",
            "Test Accuracy\n",
            "0.8947368421052632\n",
            "Epoch number:22\n",
            "Training Accuracy\n",
            "0.9271356783919598\n",
            "Test Accuracy\n",
            "0.8947368421052632\n",
            "Epoch number:23\n",
            "Training Accuracy\n",
            "0.9321608040201005\n",
            "Test Accuracy\n",
            "0.8947368421052632\n",
            "Epoch number:24\n",
            "Training Accuracy\n",
            "0.9346733668341709\n",
            "Test Accuracy\n",
            "0.8947368421052632\n",
            "Epoch number:25\n",
            "Training Accuracy\n",
            "0.9346733668341709\n",
            "Test Accuracy\n",
            "0.8947368421052632\n",
            "Epoch number:26\n",
            "Training Accuracy\n",
            "0.9346733668341709\n",
            "Test Accuracy\n",
            "0.8947368421052632\n",
            "Epoch number:27\n",
            "Training Accuracy\n",
            "0.9346733668341709\n",
            "Test Accuracy\n",
            "0.8947368421052632\n",
            "Epoch number:28\n",
            "Training Accuracy\n",
            "0.9346733668341709\n",
            "Test Accuracy\n",
            "0.9005847953216374\n",
            "Epoch number:29\n",
            "Training Accuracy\n",
            "0.9346733668341709\n",
            "Test Accuracy\n",
            "0.9005847953216374\n",
            "Epoch number:30\n",
            "Training Accuracy\n",
            "0.9321608040201005\n",
            "Test Accuracy\n",
            "0.9005847953216374\n",
            "Epoch number:31\n",
            "Training Accuracy\n",
            "0.9321608040201005\n",
            "Test Accuracy\n",
            "0.9005847953216374\n",
            "Epoch number:32\n",
            "Training Accuracy\n",
            "0.9321608040201005\n",
            "Test Accuracy\n",
            "0.9005847953216374\n",
            "Epoch number:33\n",
            "Training Accuracy\n",
            "0.9321608040201005\n",
            "Test Accuracy\n",
            "0.9005847953216374\n",
            "Epoch number:34\n",
            "Training Accuracy\n",
            "0.9321608040201005\n",
            "Test Accuracy\n",
            "0.9005847953216374\n",
            "Epoch number:35\n",
            "Training Accuracy\n",
            "0.9321608040201005\n",
            "Test Accuracy\n",
            "0.9005847953216374\n",
            "Epoch number:36\n",
            "Training Accuracy\n",
            "0.9346733668341709\n",
            "Test Accuracy\n",
            "0.9005847953216374\n",
            "Epoch number:37\n",
            "Training Accuracy\n",
            "0.9346733668341709\n",
            "Test Accuracy\n",
            "0.9005847953216374\n",
            "Epoch number:38\n",
            "Training Accuracy\n",
            "0.9346733668341709\n",
            "Test Accuracy\n",
            "0.9005847953216374\n",
            "Epoch number:39\n",
            "Training Accuracy\n",
            "0.9346733668341709\n",
            "Test Accuracy\n",
            "0.9064327485380117\n",
            "Epoch number:40\n",
            "Training Accuracy\n",
            "0.9346733668341709\n",
            "Test Accuracy\n",
            "0.9064327485380117\n",
            "Epoch number:41\n",
            "Training Accuracy\n",
            "0.9346733668341709\n",
            "Test Accuracy\n",
            "0.9064327485380117\n",
            "Epoch number:42\n",
            "Training Accuracy\n",
            "0.9346733668341709\n",
            "Test Accuracy\n",
            "0.9064327485380117\n",
            "Epoch number:43\n",
            "Training Accuracy\n",
            "0.9346733668341709\n",
            "Test Accuracy\n",
            "0.9064327485380117\n",
            "Epoch number:44\n",
            "Training Accuracy\n",
            "0.9346733668341709\n",
            "Test Accuracy\n",
            "0.9064327485380117\n",
            "Epoch number:45\n",
            "Training Accuracy\n",
            "0.9346733668341709\n",
            "Test Accuracy\n",
            "0.9064327485380117\n",
            "Epoch number:46\n",
            "Training Accuracy\n",
            "0.9346733668341709\n",
            "Test Accuracy\n",
            "0.9064327485380117\n",
            "Epoch number:47\n",
            "Training Accuracy\n",
            "0.9346733668341709\n",
            "Test Accuracy\n",
            "0.9064327485380117\n",
            "Epoch number:48\n",
            "Training Accuracy\n",
            "0.9346733668341709\n",
            "Test Accuracy\n",
            "0.9064327485380117\n",
            "Epoch number:49\n",
            "Training Accuracy\n",
            "0.9346733668341709\n",
            "Test Accuracy\n",
            "0.9064327485380117\n"
          ],
          "name": "stdout"
        }
      ]
    },
    {
      "cell_type": "code",
      "metadata": {
        "id": "nz6u5mD3BbHk",
        "outputId": "de75dd0e-a2a4-4adc-b26e-e306ce8bc5e8",
        "colab": {
          "base_uri": "https://localhost:8080/",
          "height": 295
        }
      },
      "source": [
        "##Plot losses\n",
        "\n",
        "plt.plot(list(range(n_epochs)),loss_train, label = \"Training Set\" )\n",
        "plt.plot(list(range(n_epochs)),loss_test, label = \"Test Set\" )\n",
        "plt.title('Cross-Entropy Loss')\n",
        "plt.ylabel('Loss')\n",
        "plt.xlabel('Number of Epochs')\n",
        "plt.legend(loc='upper right')\n",
        "plt.show()"
      ],
      "execution_count": 13,
      "outputs": [
        {
          "output_type": "display_data",
          "data": {
            "image/png": "[encoded data removed]",
            "text/plain": [
              "<Figure size 432x288 with 1 Axes>"
            ]
          },
          "metadata": {
            "tags": [],
            "needs_background": "light"
          }
        }
      ]
    },
    {
      "cell_type": "code",
      "metadata": {
        "id": "4jRpaGgDBbKM",
        "outputId": "5b271023-d5fc-480f-a852-26c0f3c8d9b7",
        "colab": {
          "base_uri": "https://localhost:8080/",
          "height": 295
        }
      },
      "source": [
        "\n",
        "#Plot Accuracy\n",
        "plt.plot(list(range(n_epochs)),train_list, label = \"Training Set\" )\n",
        "plt.plot(list(range(n_epochs)),test_list, label = \"Test Set\" )\n",
        "plt.title('Evolution of Accuracy')\n",
        "plt.ylabel('Accuracy')\n",
        "plt.xlabel('Number of Epochs')\n",
        "plt.legend(loc='lower right')\n",
        "plt.show()"
      ],
      "execution_count": 14,
      "outputs": [
        {
          "output_type": "display_data",
          "data": {
            "image/png": "[encoded data removed]",
            "text/plain": [
              "<Figure size 432x288 with 1 Axes>"
            ]
          },
          "metadata": {
            "tags": [],
            "needs_background": "light"
          }
        }
      ]
    },
    {
      "cell_type": "markdown",
      "metadata": {
        "id": "CAuxfUqRBZrl"
      },
      "source": [
        "**Problem 5: First-order Optimization Methods**"
      ]
    },
    {
      "cell_type": "code",
      "metadata": {
        "id": "XKnJ_KhxBhRN"
      },
      "source": [
        "import scipy\n",
        "import scipy.io\n",
        "\n"
      ],
      "execution_count": 15,
      "outputs": []
    },
    {
      "cell_type": "code",
      "metadata": {
        "id": "aztKHUZxEKya",
        "outputId": "0fc7347e-8510-4b49-f569-28b8d03e59a6",
        "colab": {
          "resources": {
            "http://localhost:8080/nbextensions/google.colab/files.js": {
              "data": "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",
              "ok": true,
              "headers": [
                [
                  "content-type",
                  "application/javascript"
                ]
              ],
              "status": 200,
              "status_text": ""
            }
          },
          "base_uri": "https://localhost:8080/",
          "height": 72
        }
      },
      "source": [
        "from google.colab import files\n",
        "uploaded = files.upload()"
      ],
      "execution_count": 16,
      "outputs": [
        {
          "output_type": "display_data",
          "data": {
            "text/html": [
              "\n",
              "     <input type=\"file\" id=\"files-d6f29b9a-724a-4abf-bb0c-88f52083876b\" name=\"files[]\" multiple disabled\n",
              "        style=\"border:none\" />\n",
              "     <output id=\"result-d6f29b9a-724a-4abf-bb0c-88f52083876b\">\n",
              "      Upload widget is only available when the cell has been executed in the\n",
              "      current browser session. Please rerun this cell to enable.\n",
              "      </output>\n",
              "      <script src=\"/nbextensions/google.colab/files.js\"></script> "
            ],
            "text/plain": [
              "<IPython.core.display.HTML object>"
            ]
          },
          "metadata": {
            "tags": []
          }
        },
        {
          "output_type": "stream",
          "text": [
            "Saving mnist-original.mat to mnist-original.mat\n"
          ],
          "name": "stdout"
        }
      ]
    },
    {
      "cell_type": "code",
      "metadata": {
        "id": "jT_D-1RpGpHH"
      },
      "source": [
        "#import Data\n",
        "mnist_data = scipy.io.loadmat('mnist-original.mat')\n",
        "X = mnist_data['data'].T\n",
        "y = mnist_data['label'].T\n",
        "#Pre process\n",
        "from sklearn.preprocessing import MinMaxScaler\n",
        "scaler = MinMaxScaler()\n",
        "scaler.fit(X)\n",
        "X = scaler.transform(X)\n",
        "#Train and test set\n",
        "train_dataset, test_dataset, train_labels, test_labels = train_test_split(X, y, test_size=1/7, random_state=671)\n",
        "train_labels = pd.get_dummies(pd.DataFrame(train_labels)[0], prefix='numb')\n",
        "test_labels = pd.get_dummies(pd.DataFrame(test_labels)[0], prefix='numb')\n",
        "print (train_dataset.shape, train_labels.shape)\n",
        "print (test_dataset.shape, test_labels.shape)\n",
        "#Get everything in np.array\n",
        "train_labels = np.array(train_labels)\n",
        "test_labels = np.array(test_labels)\n",
        "#Use Pytorch\n",
        "X, y = torch.from_numpy(np.array(train_dataset)).float(), torch.from_numpy(np.array(train_labels)).long()\n",
        "Xtest, ytest = torch.from_numpy(np.array(test_dataset)).float(), torch.from_numpy(np.array(test_labels)).long()\n"
      ],
      "execution_count": 9,
      "outputs": []
    },
    {
      "cell_type": "code",
      "metadata": {
        "id": "hzdB3dR3Js87"
      },
      "source": [
        "#Define logistic regression\n",
        "class LogisticRegressionModel(nn.Module):\n",
        "    def __init__(self, input_dim, output_dim):\n",
        "        super(LogisticRegressionModel, self).__init__()\n",
        "        self.linear = nn.Linear(input_dim, output_dim,bias=True)\n",
        "\n",
        "    def forward(self, x):\n",
        "        out = self.linear(x)\n",
        "        return out"
      ],
      "execution_count": null,
      "outputs": []
    },
    {
      "cell_type": "markdown",
      "metadata": {
        "id": "KHYBS9bHFRQq"
      },
      "source": [
        "**Momentum Method**"
      ]
    },
    {
      "cell_type": "code",
      "metadata": {
        "id": "L1SFaOmNFQri"
      },
      "source": [
        ""
      ],
      "execution_count": null,
      "outputs": []
    },
    {
      "cell_type": "markdown",
      "metadata": {
        "id": "mR9NtmWcJwZq"
      },
      "source": [
        "**Fit a GMM to the data generated**"
      ]
    },
    {
      "cell_type": "code",
      "metadata": {
        "id": "_KFQ810GJwso"
      },
      "source": [
        "from sklearn import mixture\n",
        "\n",
        "K = [1,2,3,4,5,6,7]\n",
        "\n",
        "likelihood = []\n",
        "for k in K:\n",
        "    gmm = mixture.GaussianMixture(n_components=k, max_iter=1000, covariance_type='full').fit(data_set)\n",
        "    score = gmm.score(data_set)\n",
        "    likelihood.append(score)"
      ],
      "execution_count": null,
      "outputs": []
    },
    {
      "cell_type": "markdown",
      "metadata": {
        "id": "5c4QSUyzJ1sj"
      },
      "source": [
        "**Plot of the Log-Likelihood Function**"
      ]
    },
    {
      "cell_type": "code",
      "metadata": {
        "id": "7xEh2RTeJ5Qe",
        "outputId": "408e45d2-befc-4bd9-a3e9-2512d786febd",
        "colab": {
          "base_uri": "https://localhost:8080/",
          "height": 299
        }
      },
      "source": [
        "plt.plot(K, likelihood)\n",
        "plt.title('Gaussian Mixture Model')\n",
        "plt.xlabel('Number of Components $K$')\n",
        "plt.ylabel('Log-Likelihood')\n",
        "plt.show()"
      ],
      "execution_count": null,
      "outputs": [
        {
          "output_type": "display_data",
          "data": {
            "image/png": "[encoded data removed]",
            "text/plain": [
              "<Figure size 432x288 with 1 Axes>"
            ]
          },
          "metadata": {
            "tags": [],
            "needs_background": "light"
          }
        }
      ]
    },
    {
      "cell_type": "markdown",
      "metadata": {
        "id": "rQo-LisAmlW6"
      },
      "source": [
        "**Problem 3: Bayesian linear regression**"
      ]
    },
    {
      "cell_type": "markdown",
      "metadata": {
        "id": "1wlZPCcyc7aU"
      },
      "source": [
        "**a) and b) Please look at the pdf file** "
      ]
    },
    {
      "cell_type": "markdown",
      "metadata": {
        "id": "59xG_nhXdBkD"
      },
      "source": [
        "**c) Plot the contour of prior and posterior distributions**"
      ]
    },
    {
      "cell_type": "code",
      "metadata": {
        "id": "uXxQbQRBmq-C"
      },
      "source": [
        "import numpy as np\n",
        "from numpy.linalg import inv\n",
        "\n",
        "def sum_norm(N,mu,var):\n",
        "    data = np.array([0,0])\n",
        "    data = np.expand_dims(data, axis=0)\n",
        "    for i in list(range(N)):\n",
        "        array = np.random.multivariate_normal(mu, var)\n",
        "        array = np.expand_dims(array,axis=0)\n",
        "        data = np.append(data,array,axis=0)\n",
        "        value = data.sum(axis=0)\n",
        "    return value  "
      ],
      "execution_count": null,
      "outputs": []
    },
    {
      "cell_type": "markdown",
      "metadata": {
        "id": "cMTfjpi2dk9g"
      },
      "source": [
        "**Set up the values of the parameters**"
      ]
    },
    {
      "cell_type": "code",
      "metadata": {
        "id": "yulEjThFmvJi"
      },
      "source": [
        "N = 10\n",
        "mu_0 = np.array([0.5, 0.5])\n",
        "sigma_0 = np.array([[0.1,0],[0,0.1]])\n",
        "x = np.array([1.5,1.5])\n",
        "sigma_y = np.array([[0.2,0.1],[0.1,0.1]])\n",
        "sigma_inv = inv(sigma_0)+N*inv(sigma_y)\n",
        "mu = np.dot(np.dot(inv(sigma_inv),inv(sigma_0)),mu_0)+ np.dot(np.dot(inv(sigma_inv),inv(sigma_y)),sum_norm(N,x,sigma_y))\n",
        "sigma = inv(sigma_inv)"
      ],
      "execution_count": null,
      "outputs": []
    },
    {
      "cell_type": "markdown",
      "metadata": {
        "id": "IyeCNbO4dtjv"
      },
      "source": [
        "**Contour of the prior**"
      ]
    },
    {
      "cell_type": "code",
      "metadata": {
        "id": "Bl2DD8aKmvmL",
        "outputId": "db3bd840-88ab-421a-e16e-e851460fc76c",
        "colab": {
          "base_uri": "https://localhost:8080/",
          "height": 299
        }
      },
      "source": [
        "import matplotlib.pyplot as plt \n",
        "prior = np.random.multivariate_normal(mu_0,sigma_0,10**3)\n",
        "plt.hist2d(prior[:,0],prior[:,1], bins=40)\n",
        "plt.xlabel(r\"$X_{1}$\")\n",
        "plt.ylabel(r\"$X_{2}$\")\n",
        "plt.title(\"Prior Distribution\") \n",
        "plt.colorbar()\n",
        "plt.show()  "
      ],
      "execution_count": null,
      "outputs": [
        {
          "output_type": "display_data",
          "data": {
            "image/png": "[encoded data removed]",
            "text/plain": [
              "<Figure size 432x288 with 2 Axes>"
            ]
          },
          "metadata": {
            "tags": [],
            "needs_background": "light"
          }
        }
      ]
    },
    {
      "cell_type": "markdown",
      "metadata": {
        "id": "MzJlp837eOeg"
      },
      "source": [
        "**Contour of the posterior**"
      ]
    },
    {
      "cell_type": "code",
      "metadata": {
        "id": "JVkzyaM2eS37",
        "outputId": "3af009ba-9080-4b6d-fc24-266cc54a0701",
        "colab": {
          "base_uri": "https://localhost:8080/",
          "height": 299
        }
      },
      "source": [
        "posterior = np.random.multivariate_normal(mu,sigma,10**3)\n",
        "plt.hist2d(posterior[:,0],posterior[:,1], bins=40)\n",
        "plt.xlabel(r\"$X_{1}$\")\n",
        "plt.ylabel(r\"$X_{2}$\")\n",
        "plt.title(\"Posterior Distribution\") \n",
        "plt.colorbar()\n",
        "plt.show()  "
      ],
      "execution_count": null,
      "outputs": [
        {
          "output_type": "display_data",
          "data": {
            "image/png": "[encoded data removed]",
            "text/plain": [
              "<Figure size 432x288 with 2 Axes>"
            ]
          },
          "metadata": {
            "tags": [],
            "needs_background": "light"
          }
        }
      ]
    },
    {
      "cell_type": "markdown",
      "metadata": {
        "id": "BTbg11F1m2zH"
      },
      "source": [
        "**d) Plot the contour of the prior and posterior distribution**"
      ]
    },
    {
      "cell_type": "markdown",
      "metadata": {
        "id": "Sr4UIaOEm-w0"
      },
      "source": [
        "**Set up the value of the parameters**"
      ]
    },
    {
      "cell_type": "code",
      "metadata": {
        "id": "wxywn5b4m3lX"
      },
      "source": [
        "N = 10\n",
        "mu_0 = np.array([0.5, 0.5])\n",
        "sigma_0 = np.array([[10,0],[0,10]])\n",
        "x = np.array([1.5,1.5])\n",
        "sigma_y = np.array([[0.2,0.1],[0.1,0.1]])\n",
        "sigma_inv = inv(sigma_0)+N*inv(sigma_y)\n",
        "mu = np.dot(np.dot(inv(sigma_inv),inv(sigma_0)),mu_0)+ np.dot(np.dot(inv(sigma_inv),inv(sigma_y)),sum_norm(N,x,sigma_y))\n",
        "sigma = inv(sigma_inv)\n"
      ],
      "execution_count": null,
      "outputs": []
    },
    {
      "cell_type": "markdown",
      "metadata": {
        "id": "nKotE2jGnEmO"
      },
      "source": [
        "**Contour of the Prior**"
      ]
    },
    {
      "cell_type": "code",
      "metadata": {
        "id": "zfDwm56Om7F9",
        "outputId": "19eb32e7-4357-4276-9c07-a71904ef446f",
        "colab": {
          "base_uri": "https://localhost:8080/",
          "height": 299
        }
      },
      "source": [
        "prior = np.random.multivariate_normal(mu_0,sigma_0,10**3)\n",
        "plt.hist2d(prior[:,0],prior[:,1], bins=40)\n",
        "plt.xlabel(r\"$X_{1}$\")\n",
        "plt.ylabel(r\"$X_{2}$\")\n",
        "plt.title(\"Prior Distribution\") \n",
        "plt.colorbar()\n",
        "plt.show() \n"
      ],
      "execution_count": null,
      "outputs": [
        {
          "output_type": "display_data",
          "data": {
            "image/png": "[encoded data removed]",
            "text/plain": [
              "<Figure size 432x288 with 2 Axes>"
            ]
          },
          "metadata": {
            "tags": [],
            "needs_background": "light"
          }
        }
      ]
    },
    {
      "cell_type": "markdown",
      "metadata": {
        "id": "kxtFDs-qfJzl"
      },
      "source": [
        "**Countour of the Posterior**"
      ]
    },
    {
      "cell_type": "code",
      "metadata": {
        "id": "Vt5oj2BqfL7R",
        "outputId": "b5c0629f-c329-4934-d325-26a1ccf7fe07",
        "colab": {
          "base_uri": "https://localhost:8080/",
          "height": 299
        }
      },
      "source": [
        "posterior = np.random.multivariate_normal(mu,sigma,10**3)\n",
        "plt.hist2d(posterior[:,0],posterior[:,1], bins=40)\n",
        "plt.xlabel(r\"$X_{1}$\")\n",
        "plt.ylabel(r\"$X_{2}$\")\n",
        "plt.title(\"Posterior Distribution\") \n",
        "plt.colorbar()\n",
        "plt.show() "
      ],
      "execution_count": null,
      "outputs": [
        {
          "output_type": "display_data",
          "data": {
            "image/png": "[encoded data removed]",
            "text/plain": [
              "<Figure size 432x288 with 2 Axes>"
            ]
          },
          "metadata": {
            "tags": [],
            "needs_background": "light"
          }
        }
      ]
    },
    {
      "cell_type": "markdown",
      "metadata": {
        "id": "hmD_sg54fSXr"
      },
      "source": [
        "**Set up the value of the parameters**"
      ]
    },
    {
      "cell_type": "code",
      "metadata": {
        "id": "4T6bhagHfQMk"
      },
      "source": [
        "N = 100\n",
        "mu_0 = np.array([0.5, 0.5])\n",
        "sigma_0 = np.array([[0.1,0],[0,0.1]])\n",
        "x = np.array([1.5,1.5])\n",
        "sigma_y = np.array([[0.2,0.1],[0.1,0.1]])\n",
        "\n",
        "sigma_inv = inv(sigma_0)+N*inv(sigma_y)\n",
        "mu = np.dot(np.dot(inv(sigma_inv),inv(sigma_0)),mu_0)+ np.dot(np.dot(inv(sigma_inv),inv(sigma_y)),sum_norm(N,x,sigma_y))\n",
        "sigma = inv(sigma_inv)"
      ],
      "execution_count": null,
      "outputs": []
    },
    {
      "cell_type": "markdown",
      "metadata": {
        "id": "Yx2YlQWefvW4"
      },
      "source": [
        "**Contour of the Prior**"
      ]
    },
    {
      "cell_type": "code",
      "metadata": {
        "id": "2t0nm-JzfvpK",
        "outputId": "56b96dfc-c4f3-473d-cb95-8f886d04491d",
        "colab": {
          "base_uri": "https://localhost:8080/",
          "height": 299
        }
      },
      "source": [
        "prior = np.random.multivariate_normal(mu_0,sigma_0,10**3)\n",
        "plt.hist2d(prior[:,0],prior[:,1], bins=40)\n",
        "plt.xlabel(r\"$X_{1}$\")\n",
        "plt.ylabel(r\"$X_{2}$\")\n",
        "plt.title(\"Prior Distribution\") \n",
        "plt.colorbar()\n",
        "plt.show() "
      ],
      "execution_count": null,
      "outputs": [
        {
          "output_type": "display_data",
          "data": {
            "image/png": "[encoded data removed]",
            "text/plain": [
              "<Figure size 432x288 with 2 Axes>"
            ]
          },
          "metadata": {
            "tags": [],
            "needs_background": "light"
          }
        }
      ]
    },
    {
      "cell_type": "markdown",
      "metadata": {
        "id": "Tn0cMMkufv0c"
      },
      "source": [
        "**Countour of the Posterior**"
      ]
    },
    {
      "cell_type": "code",
      "metadata": {
        "id": "T6iPMhXjfv61",
        "outputId": "5a27f429-9e04-4224-aece-ee2807185241",
        "colab": {
          "base_uri": "https://localhost:8080/",
          "height": 299
        }
      },
      "source": [
        "posterior = np.random.multivariate_normal(mu,sigma,10**3)\n",
        "plt.hist2d(posterior[:,0],posterior[:,1], bins=40)\n",
        "plt.xlabel(r\"$X_{1}$\")\n",
        "plt.ylabel(r\"$X_{2}$\")\n",
        "plt.title(\"Posterior Distribution\") \n",
        "plt.colorbar()\n",
        "plt.show() "
      ],
      "execution_count": null,
      "outputs": [
        {
          "output_type": "display_data",
          "data": {
            "image/png": "[encoded data removed]",
            "text/plain": [
              "<Figure size 432x288 with 2 Axes>"
            ]
          },
          "metadata": {
            "tags": [],
            "needs_background": "light"
          }
        }
      ]
    },
    {
      "cell_type": "markdown",
      "metadata": {
        "id": "J1viVU_bhU0L"
      },
      "source": [
        "**e) Conclusion from part d**"
      ]
    },
    {
      "cell_type": "markdown",
      "metadata": {
        "id": "8rzvt1XchaEv"
      },
      "source": [
        "We can obseve that if we increase the variance of the prior, the variance of the posterior also increase and the precision of our estimates are less accurate. On the other hand, keeping the variance of the prior equal, as $N$ increases we can observe that the precision of our estimates is better (i.e., the variance of the posterior decreases). This result is intuitive since the more sensors we have, the better we can estimate the location of the object.  "
      ]
    },
    {
      "cell_type": "markdown",
      "metadata": {
        "id": "cZzdT9cUh3XT"
      },
      "source": [
        "**Problem 4: Bias-variance trade- off**"
      ]
    },
    {
      "cell_type": "code",
      "metadata": {
        "id": "Psvuon86f8TN"
      },
      "source": [
        "import numpy as np\n",
        "import matplotlib.pyplot as plt\n"
      ],
      "execution_count": null,
      "outputs": []
    },
    {
      "cell_type": "markdown",
      "metadata": {
        "id": "uHxTm_fMiXcy"
      },
      "source": [
        "**Create the training and test set**"
      ]
    },
    {
      "cell_type": "code",
      "metadata": {
        "id": "0Q7N6VXMiXAL"
      },
      "source": [
        "training = np.linspace(0, 0.8, 5)\n",
        "labels  =  np.sin(2*np.pi*training) + np.cos(4*np.pi*training)\n",
        "test = np.linspace(0,0.99,100)\n",
        "labels_test  =  np.sin(2*np.pi*test) + np.cos(4*np.pi*test)\n",
        "M = np.linspace(0,15,16)"
      ],
      "execution_count": null,
      "outputs": []
    },
    {
      "cell_type": "markdown",
      "metadata": {
        "id": "rqEixfD2igKq"
      },
      "source": [
        "**Calculate the SSE for the $M$ polynomials models**"
      ]
    },
    {
      "cell_type": "code",
      "metadata": {
        "id": "Ypu7_orKifB5",
        "outputId": "96db606c-246e-4148-fe7e-15096ad15b5c",
        "colab": {
          "base_uri": "https://localhost:8080/",
          "height": 791
        }
      },
      "source": [
        "sqrt_errors_train = []\n",
        "sqrt_errors_test = []\n",
        "\n",
        "for i in M:\n",
        "    error_train = np.sum((np.polyval(np.polyfit(training, labels, i), training) - labels)**2)\n",
        "    error_test = np.sum((np.polyval(np.polyfit(training, labels, i), test) - labels_test)**2)\n",
        "    sqrt_errors_train.append(error_train)\n",
        "    sqrt_errors_test.append(error_test)"
      ],
      "execution_count": null,
      "outputs": [
        {
          "output_type": "stream",
          "text": [
            "/usr/local/lib/python3.6/dist-packages/IPython/core/interactiveshell.py:2882: RankWarning: Polyfit may be poorly conditioned\n",
            "  exec(code_obj, self.user_global_ns, self.user_ns)\n",
            "/usr/local/lib/python3.6/dist-packages/IPython/core/interactiveshell.py:2882: RankWarning: Polyfit may be poorly conditioned\n",
            "  exec(code_obj, self.user_global_ns, self.user_ns)\n",
            "/usr/local/lib/python3.6/dist-packages/IPython/core/interactiveshell.py:2882: RankWarning: Polyfit may be poorly conditioned\n",
            "  exec(code_obj, self.user_global_ns, self.user_ns)\n",
            "/usr/local/lib/python3.6/dist-packages/IPython/core/interactiveshell.py:2882: RankWarning: Polyfit may be poorly conditioned\n",
            "  exec(code_obj, self.user_global_ns, self.user_ns)\n",
            "/usr/local/lib/python3.6/dist-packages/IPython/core/interactiveshell.py:2882: RankWarning: Polyfit may be poorly conditioned\n",
            "  exec(code_obj, self.user_global_ns, self.user_ns)\n",
            "/usr/local/lib/python3.6/dist-packages/IPython/core/interactiveshell.py:2882: RankWarning: Polyfit may be poorly conditioned\n",
            "  exec(code_obj, self.user_global_ns, self.user_ns)\n",
            "/usr/local/lib/python3.6/dist-packages/IPython/core/interactiveshell.py:2882: RankWarning: Polyfit may be poorly conditioned\n",
            "  exec(code_obj, self.user_global_ns, self.user_ns)\n",
            "/usr/local/lib/python3.6/dist-packages/IPython/core/interactiveshell.py:2882: RankWarning: Polyfit may be poorly conditioned\n",
            "  exec(code_obj, self.user_global_ns, self.user_ns)\n",
            "/usr/local/lib/python3.6/dist-packages/IPython/core/interactiveshell.py:2882: RankWarning: Polyfit may be poorly conditioned\n",
            "  exec(code_obj, self.user_global_ns, self.user_ns)\n",
            "/usr/local/lib/python3.6/dist-packages/IPython/core/interactiveshell.py:2882: RankWarning: Polyfit may be poorly conditioned\n",
            "  exec(code_obj, self.user_global_ns, self.user_ns)\n",
            "/usr/local/lib/python3.6/dist-packages/IPython/core/interactiveshell.py:2882: RankWarning: Polyfit may be poorly conditioned\n",
            "  exec(code_obj, self.user_global_ns, self.user_ns)\n",
            "/usr/local/lib/python3.6/dist-packages/IPython/core/interactiveshell.py:2882: RankWarning: Polyfit may be poorly conditioned\n",
            "  exec(code_obj, self.user_global_ns, self.user_ns)\n",
            "/usr/local/lib/python3.6/dist-packages/IPython/core/interactiveshell.py:2882: RankWarning: Polyfit may be poorly conditioned\n",
            "  exec(code_obj, self.user_global_ns, self.user_ns)\n",
            "/usr/local/lib/python3.6/dist-packages/IPython/core/interactiveshell.py:2882: RankWarning: Polyfit may be poorly conditioned\n",
            "  exec(code_obj, self.user_global_ns, self.user_ns)\n",
            "/usr/local/lib/python3.6/dist-packages/IPython/core/interactiveshell.py:2882: RankWarning: Polyfit may be poorly conditioned\n",
            "  exec(code_obj, self.user_global_ns, self.user_ns)\n",
            "/usr/local/lib/python3.6/dist-packages/IPython/core/interactiveshell.py:2882: RankWarning: Polyfit may be poorly conditioned\n",
            "  exec(code_obj, self.user_global_ns, self.user_ns)\n",
            "/usr/local/lib/python3.6/dist-packages/IPython/core/interactiveshell.py:2882: RankWarning: Polyfit may be poorly conditioned\n",
            "  exec(code_obj, self.user_global_ns, self.user_ns)\n",
            "/usr/local/lib/python3.6/dist-packages/IPython/core/interactiveshell.py:2882: RankWarning: Polyfit may be poorly conditioned\n",
            "  exec(code_obj, self.user_global_ns, self.user_ns)\n",
            "/usr/local/lib/python3.6/dist-packages/IPython/core/interactiveshell.py:2882: RankWarning: Polyfit may be poorly conditioned\n",
            "  exec(code_obj, self.user_global_ns, self.user_ns)\n",
            "/usr/local/lib/python3.6/dist-packages/IPython/core/interactiveshell.py:2882: RankWarning: Polyfit may be poorly conditioned\n",
            "  exec(code_obj, self.user_global_ns, self.user_ns)\n",
            "/usr/local/lib/python3.6/dist-packages/IPython/core/interactiveshell.py:2882: RankWarning: Polyfit may be poorly conditioned\n",
            "  exec(code_obj, self.user_global_ns, self.user_ns)\n",
            "/usr/local/lib/python3.6/dist-packages/IPython/core/interactiveshell.py:2882: RankWarning: Polyfit may be poorly conditioned\n",
            "  exec(code_obj, self.user_global_ns, self.user_ns)\n"
          ],
          "name": "stderr"
        }
      ]
    },
    {
      "cell_type": "markdown",
      "metadata": {
        "id": "f3DlxGihivJj"
      },
      "source": [
        "**Plot for the training and test set**"
      ]
    },
    {
      "cell_type": "code",
      "metadata": {
        "id": "4XlTJo_-iqp3",
        "outputId": "49b9f5bd-2746-4341-dd2a-d42dbf74c0bb",
        "colab": {
          "base_uri": "https://localhost:8080/",
          "height": 295
        }
      },
      "source": [
        "plt.plot(M, sqrt_errors_train)\n",
        "plt.title('Training Set')\n",
        "plt.xlabel('Degree of Polynomial')\n",
        "plt.ylabel('Sum-of-Squares error')\n",
        "plt.show()"
      ],
      "execution_count": null,
      "outputs": [
        {
          "output_type": "display_data",
          "data": {
            "image/png": "[encoded data removed]",
            "text/plain": [
              "<Figure size 432x288 with 1 Axes>"
            ]
          },
          "metadata": {
            "tags": [],
            "needs_background": "light"
          }
        }
      ]
    },
    {
      "cell_type": "code",
      "metadata": {
        "id": "xRwyxVgkizix",
        "outputId": "64ad2861-7e8e-44fc-9a33-bf54b102f250",
        "colab": {
          "base_uri": "https://localhost:8080/",
          "height": 295
        }
      },
      "source": [
        "plt.plot(M, sqrt_errors_test)\n",
        "plt.title('Test Set')\n",
        "plt.xlabel('Degree of Polynomial')\n",
        "plt.ylabel('Sum-of-Squares error')\n",
        "plt.show()"
      ],
      "execution_count": null,
      "outputs": [
        {
          "output_type": "display_data",
          "data": {
            "image/png": "[encoded data removed]",
            "text/plain": [
              "<Figure size 432x288 with 1 Axes>"
            ]
          },
          "metadata": {
            "tags": [],
            "needs_background": "light"
          }
        }
      ]
    },
    {
      "cell_type": "markdown",
      "metadata": {
        "id": "0TSfxZGsi5VM"
      },
      "source": [
        "**$L_{2}$ Regularization Penalty**"
      ]
    },
    {
      "cell_type": "code",
      "metadata": {
        "id": "dUABKKrbi1Ym"
      },
      "source": [
        "lambda_values = np.linspace(10**-2, 50, 5000)\n",
        "lambda_values_ln = np.log(lambda_values)\n",
        "\n",
        "training_matrix = []\n",
        "for i in list(range(1,15)):\n",
        "    training_matrix.append(np.power(training,i))\n",
        "training_matrix = np.array(training_matrix)\n",
        "training_matrix = training_matrix.transpose()\n",
        "\n",
        "test_matrix = []\n",
        "for i in list(range(1,15)):\n",
        "    test_matrix.append(np.power(test,i))\n",
        "test_matrix = np.array(test_matrix)\n",
        "test_matrix = test_matrix.transpose()\n"
      ],
      "execution_count": null,
      "outputs": []
    },
    {
      "cell_type": "code",
      "metadata": {
        "id": "RIezQaYIjOM1"
      },
      "source": [
        "from sklearn.linear_model import Ridge\n",
        "\n",
        "sqrt_errors_train_lasso = []\n",
        "sqrt_errors_test_lasso = []\n",
        "\n",
        "\n",
        "for lamb in lambda_values:\n",
        "    clf = Ridge(alpha= lamb)\n",
        "    clf.fit(training_matrix, labels)\n",
        "    train_predict = clf.predict(training_matrix)\n",
        "    test_predict = clf.predict(test_matrix)\n",
        "    error_train = np.sum((train_predict - labels)**2)\n",
        "    error_test = np.sum((test_predict - labels_test)**2)\n",
        "    sqrt_errors_train_lasso.append(error_train)\n",
        "    sqrt_errors_test_lasso.append(error_test)  "
      ],
      "execution_count": null,
      "outputs": []
    },
    {
      "cell_type": "markdown",
      "metadata": {
        "id": "5F0rPyUBjRng"
      },
      "source": [
        "**Plot for the training and test set**"
      ]
    },
    {
      "cell_type": "code",
      "metadata": {
        "id": "mrRexJfMjQo8",
        "outputId": "b583abe9-8732-4094-c69b-6a0599fd9cbd",
        "colab": {
          "base_uri": "https://localhost:8080/",
          "height": 298
        }
      },
      "source": [
        "plt.plot(lambda_values_ln,sqrt_errors_train_lasso )\n",
        "plt.title('Training Set')\n",
        "plt.xlabel(r'ln$(\\lambda)$')\n",
        "plt.ylabel('Sum-of-Squares error')\n",
        "plt.show()"
      ],
      "execution_count": null,
      "outputs": [
        {
          "output_type": "display_data",
          "data": {
            "image/png": "[encoded data removed]",
            "text/plain": [
              "<Figure size 432x288 with 1 Axes>"
            ]
          },
          "metadata": {
            "tags": [],
            "needs_background": "light"
          }
        }
      ]
    },
    {
      "cell_type": "code",
      "metadata": {
        "id": "nOHknsZwjXzG",
        "outputId": "6c40f1d8-4566-4ef4-bafc-70482ac9639b",
        "colab": {
          "base_uri": "https://localhost:8080/",
          "height": 298
        }
      },
      "source": [
        "plt.plot(lambda_values_ln, sqrt_errors_test_lasso)\n",
        "plt.title('Test Set')\n",
        "plt.xlabel(r'ln$(\\lambda)$')\n",
        "plt.ylabel('Sum-of-Squares error')\n",
        "plt.show()\n",
        "\n"
      ],
      "execution_count": null,
      "outputs": [
        {
          "output_type": "display_data",
          "data": {
            "image/png": "[encoded data removed]",
            "text/plain": [
              "<Figure size 432x288 with 1 Axes>"
            ]
          },
          "metadata": {
            "tags": [],
            "needs_background": "light"
          }
        }
      ]
    },
    {
      "cell_type": "markdown",
      "metadata": {
        "id": "Kuijta9yjrxr"
      },
      "source": [
        "**Problem 5: Minimizing Minkowski Loss**"
      ]
    },
    {
      "cell_type": "markdown",
      "metadata": {
        "id": "ap5dW9qajxyU"
      },
      "source": [
        "Please see the pdf."
      ]
    },
    {
      "cell_type": "markdown",
      "metadata": {
        "id": "FaSLggT0j4pF"
      },
      "source": [
        "**Problem 6: Nonlinear Basis Functions**"
      ]
    },
    {
      "cell_type": "markdown",
      "metadata": {
        "id": "EN923M9jkI1J"
      },
      "source": [
        "**Create the data sets**"
      ]
    },
    {
      "cell_type": "code",
      "metadata": {
        "id": "KKcCa0FbjbVF"
      },
      "source": [
        "import numpy as np\n",
        "from random import choices\n",
        "\n",
        "#GMM1\n",
        "gmm_1 = {}\n",
        "gmm_1[\"mu\"] = np.array([0,0])\n",
        "gmm_1[\"cov\"] = np.array([[0.1 , 0], [0 ,0.1]])\n",
        "\n",
        "gmm1 = np.random.multivariate_normal(gmm_1[\"mu\"], gmm_1[\"cov\"], 100)    \n",
        "\n",
        "\n",
        "#GMM2\n",
        "gaussian_dist = np.array([1,2])\n",
        "mix_coeff = np.array([1/2, 1/2])\n",
        "\n",
        "gmm_2 = {}\n",
        "gmm_2[\"mu_1\"] = np.array([-1,-1])\n",
        "gmm_2[\"mu_2\"] = np.array([1,1])\n",
        "gmm_2[\"cov_1\"] = np.array([[0.1 , 0], [0 ,0.1]])\n",
        "gmm_2[\"cov_2\"] = np.array([[0.1 , 0], [0 ,0.1]])\n",
        "\n",
        "gmm2 = np.array([0,0])\n",
        "gmm2 = np.expand_dims(gmm2, axis=0)\n",
        "for i in list(range(200)):\n",
        "    choice = choices(gaussian_dist, mix_coeff)[0]\n",
        "    array = np.random.multivariate_normal(gmm_2[\"mu_\"+str(choice)], gmm_2[\"cov_\"+str(choice)])    \n",
        "    array = np.expand_dims(array, axis=0)\n",
        "    gmm2 = np.append(gmm2, array, axis = 0)\n",
        "\n",
        "gmm2 = np.delete(gmm2,0, axis=0)"
      ],
      "execution_count": null,
      "outputs": []
    },
    {
      "cell_type": "markdown",
      "metadata": {
        "id": "vGFdZBTHkLha"
      },
      "source": [
        "**Plot the two data sets**"
      ]
    },
    {
      "cell_type": "code",
      "metadata": {
        "id": "k__qH2GKkHzx",
        "outputId": "b3412c64-6d02-4290-c90e-497b29c1990d",
        "colab": {
          "base_uri": "https://localhost:8080/",
          "height": 295
        }
      },
      "source": [
        "import matplotlib.pyplot as plt\n",
        "plt.scatter(gmm1[:,0],gmm1[:,1], c='b', marker='x', label='GMM-1 ')\n",
        "plt.scatter(gmm2[:,0],gmm2[:,1], c='r', marker='s', label='GMM-2 ')\n",
        "plt.title(\"Raw Data\")\n",
        "plt.legend(loc='upper left')\n",
        "plt.xlabel(\"Dimension 1\")\n",
        "plt.ylabel(\"Dimension 2\")\n",
        "plt.show()"
      ],
      "execution_count": null,
      "outputs": [
        {
          "output_type": "display_data",
          "data": {
            "image/png": "[encoded data removed]",
            "text/plain": [
              "<Figure size 432x288 with 1 Axes>"
            ]
          },
          "metadata": {
            "tags": [],
            "needs_background": "light"
          }
        }
      ]
    },
    {
      "cell_type": "markdown",
      "metadata": {
        "id": "q3h8UrkjpFZ1"
      },
      "source": [
        "As we can see we can not find a single line that separates the two data sets."
      ]
    },
    {
      "cell_type": "markdown",
      "metadata": {
        "id": "ccOO5G_8kWo_"
      },
      "source": [
        "**Transform the value of our features using the Gaussian basis functions**"
      ]
    },
    {
      "cell_type": "code",
      "metadata": {
        "id": "hVa0piW-kOc2"
      },
      "source": [
        "def gaussian_basis(x,mu):\n",
        "    output = []\n",
        "    iterations = x.shape[0]\n",
        "    for i in list(range(iterations)):\n",
        "        phi = np.exp(-0.5*np.dot(x[i,:]-mu,x[i,:]-mu))\n",
        "        output.append(phi)\n",
        "    return output\n",
        "\n",
        "gmm1_transformed = np.column_stack((gaussian_basis(gmm1,gmm_1[\"mu\"]),gaussian_basis(gmm1,gmm_2[\"mu_1\"])))        \n",
        "gmm2_transformed = np.column_stack((gaussian_basis(gmm2,gmm_1[\"mu\"]),gaussian_basis(gmm2,gmm_2[\"mu_1\"]))) "
      ],
      "execution_count": null,
      "outputs": []
    },
    {
      "cell_type": "markdown",
      "metadata": {
        "id": "PsEBrN0JkqpI"
      },
      "source": [
        "**Plot the transformed data**"
      ]
    },
    {
      "cell_type": "markdown",
      "metadata": {
        "id": "1ZowCZPKkynz"
      },
      "source": [
        "As we can clearly see, the transformed data is \"more\" separable since the red squares and the blue crosses are more segregated."
      ]
    },
    {
      "cell_type": "code",
      "metadata": {
        "id": "xf8ybzWXkuXW"
      },
      "source": [
        ""
      ],
      "execution_count": null,
      "outputs": []
    }
  ]
}