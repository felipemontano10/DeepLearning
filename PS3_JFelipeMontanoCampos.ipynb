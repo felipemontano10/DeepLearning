{
  "nbformat": 4,
  "nbformat_minor": 0,
  "metadata": {
    "colab": {
      "name": "PS3_JFelipeMontanoCampos.ipynb",
      "provenance": [],
      "collapsed_sections": [],
      "authorship_tag": "ABX9TyPOnnqz2emQZwuJ/Uv4pJBI",
      "include_colab_link": true
    },
    "kernelspec": {
      "name": "python3",
      "display_name": "Python 3"
    }
  },
  "cells": [
    {
      "cell_type": "markdown",
      "metadata": {
        "id": "view-in-github",
        "colab_type": "text"
      },
      "source": [
        "<a href=\"https://colab.research.google.com/github/felipemontano10/DeepLearning/blob/master/PS3_JFelipeMontanoCampos.ipynb\" target=\"_parent\"><img src=\"https://colab.research.google.com/assets/colab-badge.svg\" alt=\"Open In Colab\"/></a>"
      ]
    },
    {
      "cell_type": "markdown",
      "metadata": {
        "id": "vXI5IF9-8XaV"
      },
      "source": [
        "### ECE 685D - Fall 2020\n",
        "## Problem Set 3 \n",
        "\n",
        "> J. Felipe Montano-Campos"
      ]
    },
    {
      "cell_type": "markdown",
      "metadata": {
        "id": "UBBOnwiF8Wjt"
      },
      "source": [
        "**Problem 3: Binary Classification with Generalized Linear Models**\n"
      ]
    },
    {
      "cell_type": "code",
      "metadata": {
        "id": "2rMDvYhl856J"
      },
      "source": [
        "import pandas as pd \n",
        "from sklearn.model_selection import train_test_split\n",
        "import numpy as np\n",
        "from numpy.linalg import inv\n",
        "from sklearn import preprocessing"
      ],
      "execution_count": 5,
      "outputs": []
    },
    {
      "cell_type": "code",
      "metadata": {
        "id": "KYG0rwoP_YuW",
        "outputId": "d249432d-1744-4eda-edf9-d5687a8a84a6",
        "colab": {
          "resources": {
            "http://localhost:8080/nbextensions/google.colab/files.js": {
              "data": "Ly8gQ29weXJpZ2h0IDIwMTcgR29vZ2xlIExMQwovLwovLyBMaWNlbnNlZCB1bmRlciB0aGUgQXBhY2hlIExpY2Vuc2UsIFZlcnNpb24gMi4wICh0aGUgIkxpY2Vuc2UiKTsKLy8geW91IG1heSBub3QgdXNlIHRoaXMgZmlsZSBleGNlcHQgaW4gY29tcGxpYW5jZSB3aXRoIHRoZSBMaWNlbnNlLgovLyBZb3UgbWF5IG9idGFpbiBhIGNvcHkgb2YgdGhlIExpY2Vuc2UgYXQKLy8KLy8gICAgICBodHRwOi8vd3d3LmFwYWNoZS5vcmcvbGljZW5zZXMvTElDRU5TRS0yLjAKLy8KLy8gVW5sZXNzIHJlcXVpcmVkIGJ5IGFwcGxpY2FibGUgbGF3IG9yIGFncmVlZCB0byBpbiB3cml0aW5nLCBzb2Z0d2FyZQovLyBkaXN0cmlidXRlZCB1bmRlciB0aGUgTGljZW5zZSBpcyBkaXN0cmlidXRlZCBvbiBhbiAiQVMgSVMiIEJBU0lTLAovLyBXSVRIT1VUIFdBUlJBTlRJRVMgT1IgQ09ORElUSU9OUyBPRiBBTlkgS0lORCwgZWl0aGVyIGV4cHJlc3Mgb3IgaW1wbGllZC4KLy8gU2VlIHRoZSBMaWNlbnNlIGZvciB0aGUgc3BlY2lmaWMgbGFuZ3VhZ2UgZ292ZXJuaW5nIHBlcm1pc3Npb25zIGFuZAovLyBsaW1pdGF0aW9ucyB1bmRlciB0aGUgTGljZW5zZS4KCi8qKgogKiBAZmlsZW92ZXJ2aWV3IEhlbHBlcnMgZm9yIGdvb2dsZS5jb2xhYiBQeXRob24gbW9kdWxlLgogKi8KKGZ1bmN0aW9uKHNjb3BlKSB7CmZ1bmN0aW9uIHNwYW4odGV4dCwgc3R5bGVBdHRyaWJ1dGVzID0ge30pIHsKICBjb25zdCBlbGVtZW50ID0gZG9jdW1lbnQuY3JlYXRlRWxlbWVudCgnc3BhbicpOwogIGVsZW1lbnQudGV4dENvbnRlbnQgPSB0ZXh0OwogIGZvciAoY29uc3Qga2V5IG9mIE9iamVjdC5rZXlzKHN0eWxlQXR0cmlidXRlcykpIHsKICAgIGVsZW1lbnQuc3R5bGVba2V5XSA9IHN0eWxlQXR0cmlidXRlc1trZXldOwogIH0KICByZXR1cm4gZWxlbWVudDsKfQoKLy8gTWF4IG51bWJlciBvZiBieXRlcyB3aGljaCB3aWxsIGJlIHVwbG9hZGVkIGF0IGEgdGltZS4KY29uc3QgTUFYX1BBWUxPQURfU0laRSA9IDEwMCAqIDEwMjQ7CgpmdW5jdGlvbiBfdXBsb2FkRmlsZXMoaW5wdXRJZCwgb3V0cHV0SWQpIHsKICBjb25zdCBzdGVwcyA9IHVwbG9hZEZpbGVzU3RlcChpbnB1dElkLCBvdXRwdXRJZCk7CiAgY29uc3Qgb3V0cHV0RWxlbWVudCA9IGRvY3VtZW50LmdldEVsZW1lbnRCeUlkKG91dHB1dElkKTsKICAvLyBDYWNoZSBzdGVwcyBvbiB0aGUgb3V0cHV0RWxlbWVudCB0byBtYWtlIGl0IGF2YWlsYWJsZSBmb3IgdGhlIG5leHQgY2FsbAogIC8vIHRvIHVwbG9hZEZpbGVzQ29udGludWUgZnJvbSBQeXRob24uCiAgb3V0cHV0RWxlbWVudC5zdGVwcyA9IHN0ZXBzOwoKICByZXR1cm4gX3VwbG9hZEZpbGVzQ29udGludWUob3V0cHV0SWQpOwp9CgovLyBUaGlzIGlzIHJvdWdobHkgYW4gYXN5bmMgZ2VuZXJhdG9yIChub3Qgc3VwcG9ydGVkIGluIHRoZSBicm93c2VyIHlldCksCi8vIHdoZXJlIHRoZXJlIGFyZSBtdWx0aXBsZSBhc3luY2hyb25vdXMgc3RlcHMgYW5kIHRoZSBQeXRob24gc2lkZSBpcyBnb2luZwovLyB0byBwb2xsIGZvciBjb21wbGV0aW9uIG9mIGVhY2ggc3RlcC4KLy8gVGhpcyB1c2VzIGEgUHJvbWlzZSB0byBibG9jayB0aGUgcHl0aG9uIHNpZGUgb24gY29tcGxldGlvbiBvZiBlYWNoIHN0ZXAsCi8vIHRoZW4gcGFzc2VzIHRoZSByZXN1bHQgb2YgdGhlIHByZXZpb3VzIHN0ZXAgYXMgdGhlIGlucHV0IHRvIHRoZSBuZXh0IHN0ZXAuCmZ1bmN0aW9uIF91cGxvYWRGaWxlc0NvbnRpbnVlKG91dHB1dElkKSB7CiAgY29uc3Qgb3V0cHV0RWxlbWVudCA9IGRvY3VtZW50LmdldEVsZW1lbnRCeUlkKG91dHB1dElkKTsKICBjb25zdCBzdGVwcyA9IG91dHB1dEVsZW1lbnQuc3RlcHM7CgogIGNvbnN0IG5leHQgPSBzdGVwcy5uZXh0KG91dHB1dEVsZW1lbnQubGFzdFByb21pc2VWYWx1ZSk7CiAgcmV0dXJuIFByb21pc2UucmVzb2x2ZShuZXh0LnZhbHVlLnByb21pc2UpLnRoZW4oKHZhbHVlKSA9PiB7CiAgICAvLyBDYWNoZSB0aGUgbGFzdCBwcm9taXNlIHZhbHVlIHRvIG1ha2UgaXQgYXZhaWxhYmxlIHRvIHRoZSBuZXh0CiAgICAvLyBzdGVwIG9mIHRoZSBnZW5lcmF0b3IuCiAgICBvdXRwdXRFbGVtZW50Lmxhc3RQcm9taXNlVmFsdWUgPSB2YWx1ZTsKICAgIHJldHVybiBuZXh0LnZhbHVlLnJlc3BvbnNlOwogIH0pOwp9CgovKioKICogR2VuZXJhdG9yIGZ1bmN0aW9uIHdoaWNoIGlzIGNhbGxlZCBiZXR3ZWVuIGVhY2ggYXN5bmMgc3RlcCBvZiB0aGUgdXBsb2FkCiAqIHByb2Nlc3MuCiAqIEBwYXJhbSB7c3RyaW5nfSBpbnB1dElkIEVsZW1lbnQgSUQgb2YgdGhlIGlucHV0IGZpbGUgcGlja2VyIGVsZW1lbnQuCiAqIEBwYXJhbSB7c3RyaW5nfSBvdXRwdXRJZCBFbGVtZW50IElEIG9mIHRoZSBvdXRwdXQgZGlzcGxheS4KICogQHJldHVybiB7IUl0ZXJhYmxlPCFPYmplY3Q+fSBJdGVyYWJsZSBvZiBuZXh0IHN0ZXBzLgogKi8KZnVuY3Rpb24qIHVwbG9hZEZpbGVzU3RlcChpbnB1dElkLCBvdXRwdXRJZCkgewogIGNvbnN0IGlucHV0RWxlbWVudCA9IGRvY3VtZW50LmdldEVsZW1lbnRCeUlkKGlucHV0SWQpOwogIGlucHV0RWxlbWVudC5kaXNhYmxlZCA9IGZhbHNlOwoKICBjb25zdCBvdXRwdXRFbGVtZW50ID0gZG9jdW1lbnQuZ2V0RWxlbWVudEJ5SWQob3V0cHV0SWQpOwogIG91dHB1dEVsZW1lbnQuaW5uZXJIVE1MID0gJyc7CgogIGNvbnN0IHBpY2tlZFByb21pc2UgPSBuZXcgUHJvbWlzZSgocmVzb2x2ZSkgPT4gewogICAgaW5wdXRFbGVtZW50LmFkZEV2ZW50TGlzdGVuZXIoJ2NoYW5nZScsIChlKSA9PiB7CiAgICAgIHJlc29sdmUoZS50YXJnZXQuZmlsZXMpOwogICAgfSk7CiAgfSk7CgogIGNvbnN0IGNhbmNlbCA9IGRvY3VtZW50LmNyZWF0ZUVsZW1lbnQoJ2J1dHRvbicpOwogIGlucHV0RWxlbWVudC5wYXJlbnRFbGVtZW50LmFwcGVuZENoaWxkKGNhbmNlbCk7CiAgY2FuY2VsLnRleHRDb250ZW50ID0gJ0NhbmNlbCB1cGxvYWQnOwogIGNvbnN0IGNhbmNlbFByb21pc2UgPSBuZXcgUHJvbWlzZSgocmVzb2x2ZSkgPT4gewogICAgY2FuY2VsLm9uY2xpY2sgPSAoKSA9PiB7CiAgICAgIHJlc29sdmUobnVsbCk7CiAgICB9OwogIH0pOwoKICAvLyBXYWl0IGZvciB0aGUgdXNlciB0byBwaWNrIHRoZSBmaWxlcy4KICBjb25zdCBmaWxlcyA9IHlpZWxkIHsKICAgIHByb21pc2U6IFByb21pc2UucmFjZShbcGlja2VkUHJvbWlzZSwgY2FuY2VsUHJvbWlzZV0pLAogICAgcmVzcG9uc2U6IHsKICAgICAgYWN0aW9uOiAnc3RhcnRpbmcnLAogICAgfQogIH07CgogIGNhbmNlbC5yZW1vdmUoKTsKCiAgLy8gRGlzYWJsZSB0aGUgaW5wdXQgZWxlbWVudCBzaW5jZSBmdXJ0aGVyIHBpY2tzIGFyZSBub3QgYWxsb3dlZC4KICBpbnB1dEVsZW1lbnQuZGlzYWJsZWQgPSB0cnVlOwoKICBpZiAoIWZpbGVzKSB7CiAgICByZXR1cm4gewogICAgICByZXNwb25zZTogewogICAgICAgIGFjdGlvbjogJ2NvbXBsZXRlJywKICAgICAgfQogICAgfTsKICB9CgogIGZvciAoY29uc3QgZmlsZSBvZiBmaWxlcykgewogICAgY29uc3QgbGkgPSBkb2N1bWVudC5jcmVhdGVFbGVtZW50KCdsaScpOwogICAgbGkuYXBwZW5kKHNwYW4oZmlsZS5uYW1lLCB7Zm9udFdlaWdodDogJ2JvbGQnfSkpOwogICAgbGkuYXBwZW5kKHNwYW4oCiAgICAgICAgYCgke2ZpbGUudHlwZSB8fCAnbi9hJ30pIC0gJHtmaWxlLnNpemV9IGJ5dGVzLCBgICsKICAgICAgICBgbGFzdCBtb2RpZmllZDogJHsKICAgICAgICAgICAgZmlsZS5sYXN0TW9kaWZpZWREYXRlID8gZmlsZS5sYXN0TW9kaWZpZWREYXRlLnRvTG9jYWxlRGF0ZVN0cmluZygpIDoKICAgICAgICAgICAgICAgICAgICAgICAgICAgICAgICAgICAgJ24vYSd9IC0gYCkpOwogICAgY29uc3QgcGVyY2VudCA9IHNwYW4oJzAlIGRvbmUnKTsKICAgIGxpLmFwcGVuZENoaWxkKHBlcmNlbnQpOwoKICAgIG91dHB1dEVsZW1lbnQuYXBwZW5kQ2hpbGQobGkpOwoKICAgIGNvbnN0IGZpbGVEYXRhUHJvbWlzZSA9IG5ldyBQcm9taXNlKChyZXNvbHZlKSA9PiB7CiAgICAgIGNvbnN0IHJlYWRlciA9IG5ldyBGaWxlUmVhZGVyKCk7CiAgICAgIHJlYWRlci5vbmxvYWQgPSAoZSkgPT4gewogICAgICAgIHJlc29sdmUoZS50YXJnZXQucmVzdWx0KTsKICAgICAgfTsKICAgICAgcmVhZGVyLnJlYWRBc0FycmF5QnVmZmVyKGZpbGUpOwogICAgfSk7CiAgICAvLyBXYWl0IGZvciB0aGUgZGF0YSB0byBiZSByZWFkeS4KICAgIGxldCBmaWxlRGF0YSA9IHlpZWxkIHsKICAgICAgcHJvbWlzZTogZmlsZURhdGFQcm9taXNlLAogICAgICByZXNwb25zZTogewogICAgICAgIGFjdGlvbjogJ2NvbnRpbnVlJywKICAgICAgfQogICAgfTsKCiAgICAvLyBVc2UgYSBjaHVua2VkIHNlbmRpbmcgdG8gYXZvaWQgbWVzc2FnZSBzaXplIGxpbWl0cy4gU2VlIGIvNjIxMTU2NjAuCiAgICBsZXQgcG9zaXRpb24gPSAwOwogICAgd2hpbGUgKHBvc2l0aW9uIDwgZmlsZURhdGEuYnl0ZUxlbmd0aCkgewogICAgICBjb25zdCBsZW5ndGggPSBNYXRoLm1pbihmaWxlRGF0YS5ieXRlTGVuZ3RoIC0gcG9zaXRpb24sIE1BWF9QQVlMT0FEX1NJWkUpOwogICAgICBjb25zdCBjaHVuayA9IG5ldyBVaW50OEFycmF5KGZpbGVEYXRhLCBwb3NpdGlvbiwgbGVuZ3RoKTsKICAgICAgcG9zaXRpb24gKz0gbGVuZ3RoOwoKICAgICAgY29uc3QgYmFzZTY0ID0gYnRvYShTdHJpbmcuZnJvbUNoYXJDb2RlLmFwcGx5KG51bGwsIGNodW5rKSk7CiAgICAgIHlpZWxkIHsKICAgICAgICByZXNwb25zZTogewogICAgICAgICAgYWN0aW9uOiAnYXBwZW5kJywKICAgICAgICAgIGZpbGU6IGZpbGUubmFtZSwKICAgICAgICAgIGRhdGE6IGJhc2U2NCwKICAgICAgICB9LAogICAgICB9OwogICAgICBwZXJjZW50LnRleHRDb250ZW50ID0KICAgICAgICAgIGAke01hdGgucm91bmQoKHBvc2l0aW9uIC8gZmlsZURhdGEuYnl0ZUxlbmd0aCkgKiAxMDApfSUgZG9uZWA7CiAgICB9CiAgfQoKICAvLyBBbGwgZG9uZS4KICB5aWVsZCB7CiAgICByZXNwb25zZTogewogICAgICBhY3Rpb246ICdjb21wbGV0ZScsCiAgICB9CiAgfTsKfQoKc2NvcGUuZ29vZ2xlID0gc2NvcGUuZ29vZ2xlIHx8IHt9OwpzY29wZS5nb29nbGUuY29sYWIgPSBzY29wZS5nb29nbGUuY29sYWIgfHwge307CnNjb3BlLmdvb2dsZS5jb2xhYi5fZmlsZXMgPSB7CiAgX3VwbG9hZEZpbGVzLAogIF91cGxvYWRGaWxlc0NvbnRpbnVlLAp9Owp9KShzZWxmKTsK",
              "ok": true,
              "headers": [
                [
                  "content-type",
                  "application/javascript"
                ]
              ],
              "status": 200,
              "status_text": ""
            }
          },
          "base_uri": "https://localhost:8080/",
          "height": 72
        }
      },
      "source": [
        "from google.colab import files\n",
        "uploaded = files.upload()"
      ],
      "execution_count": null,
      "outputs": [
        {
          "output_type": "display_data",
          "data": {
            "text/html": [
              "\n",
              "     <input type=\"file\" id=\"files-9c39e247-86b5-432e-a280-5de600ffd2a6\" name=\"files[]\" multiple disabled\n",
              "        style=\"border:none\" />\n",
              "     <output id=\"result-9c39e247-86b5-432e-a280-5de600ffd2a6\">\n",
              "      Upload widget is only available when the cell has been executed in the\n",
              "      current browser session. Please rerun this cell to enable.\n",
              "      </output>\n",
              "      <script src=\"/nbextensions/google.colab/files.js\"></script> "
            ],
            "text/plain": [
              "<IPython.core.display.HTML object>"
            ]
          },
          "metadata": {
            "tags": []
          }
        },
        {
          "output_type": "stream",
          "text": [
            "Saving breast_cancer.csv to breast_cancer.csv\n"
          ],
          "name": "stdout"
        }
      ]
    },
    {
      "cell_type": "code",
      "metadata": {
        "id": "P-v0M0QC8_zM"
      },
      "source": [
        "#Data Preparation \n",
        "cancer_data = pd.read_csv(\"breast_cancer.csv\") \n",
        "\n",
        "targets = cancer_data[\"diagnosis\"]\n",
        "targets = targets.replace({\"B\": 0, \"M\": 1})\n",
        "\n",
        "features = ['radius_mean', 'texture_mean', 'smoothness_mean',\n",
        "       'compactness_mean', 'symmetry_mean', 'fractal_dimension_mean',\n",
        "       'radius_se', 'texture_se', 'smoothness_se', 'compactness_se',\n",
        "       'symmetry_se', 'fractal_dimension_se']\n",
        "\n",
        "features_df = cancer_data[features]\n",
        "\n",
        "X_train, X_test, y_train, y_test = train_test_split(features_df, targets, test_size=0.3, random_state=40)\n",
        "\n",
        "\n"
      ],
      "execution_count": null,
      "outputs": []
    },
    {
      "cell_type": "markdown",
      "metadata": {
        "id": "6yTwsADfCMD4"
      },
      "source": [
        "**Discriminant Analysis**"
      ]
    },
    {
      "cell_type": "code",
      "metadata": {
        "id": "U7n_wLyd9NwY"
      },
      "source": [
        "##Discriminant Analysis\n",
        "\n",
        "def discriminant_binary(X_train, y_train, X_test, y_test):\n",
        "    train = pd.concat([X_train, y_train], axis=1, sort=False)\n",
        "    train_1 = train.loc[train[\"diagnosis\"]==1]\n",
        "    train_1 = train_1.drop(columns = [\"diagnosis\"])\n",
        "    train_0 = train.loc[train[\"diagnosis\"]==0]    \n",
        "    train_0 = train_0.drop(columns = [\"diagnosis\"])\n",
        "    sigma_1 = np.cov(train_1.T)\n",
        "    sigma_0 = np.cov(train_0.T)\n",
        "    sigma =  (train_1.shape[0]/train.shape[0])*sigma_1 +(train_0.shape[0]/train.shape[0])*sigma_0\n",
        "    sigma_inv = inv(sigma)\n",
        "    mu_1 = train.loc[train[\"diagnosis\"]==1].mean() \n",
        "    mu_2 = train.loc[train[\"diagnosis\"]==0].mean()\n",
        "    mu_1 = np.array(mu_1.drop(index = \"diagnosis\"))\n",
        "    mu_2 = np.array(mu_2.drop(index = \"diagnosis\"))\n",
        "    p_c1 = np.mean(np.array(train[\"diagnosis\"]))\n",
        "    p_c2 = 1-p_c1\n",
        "    w = np.matmul(sigma_inv,(mu_1-mu_2))\n",
        "    w_0 = -0.5*np.matmul(np.matmul(mu_1.T,sigma_inv),mu_1)+ 0.5*np.matmul(np.matmul(mu_2.T,sigma_inv),mu_2)+np.log(p_c1/p_c2)\n",
        "    train_pred = w_0 + np.matmul(np.array(X_train),w)\n",
        "    train_pred[train_pred > 0] =1\n",
        "    train_pred[train_pred < 0] = 0\n",
        "    correct_train = (train_pred == y_train)\n",
        "    accuracy_train = correct_train.sum() / correct_train.size\n",
        "    test_pred = w_0 + np.matmul(np.array(X_test),w)\n",
        "    test_pred[test_pred > 0] =1\n",
        "    test_pred[test_pred < 0] = 0\n",
        "    correct_test = (test_pred == y_test)    \n",
        "    accuracy_test = correct_test.sum() / correct_test.size\n",
        "    \n",
        "    return (accuracy_test, accuracy_train)"
      ],
      "execution_count": null,
      "outputs": []
    },
    {
      "cell_type": "code",
      "metadata": {
        "id": "iyR3iWQY_y-l",
        "outputId": "165e8289-9ccc-49bc-c5ea-05e89d7ea6d2",
        "colab": {
          "base_uri": "https://localhost:8080/"
        }
      },
      "source": [
        "test_acc, train_acc = discriminant_binary(X_train, y_train, X_test, y_test)\n",
        "print(\"Training Accuracy:\"+str(train_acc)) \n",
        "print(\"Test Accuracy:\"+str(test_acc)) "
      ],
      "execution_count": null,
      "outputs": [
        {
          "output_type": "stream",
          "text": [
            "Training Accuracy:0.9246231155778895\n",
            "Test Accuracy:0.9532163742690059\n"
          ],
          "name": "stdout"
        }
      ]
    },
    {
      "cell_type": "markdown",
      "metadata": {
        "id": "nVBSj_g6CQwu"
      },
      "source": [
        "**Logistic Regression**"
      ]
    },
    {
      "cell_type": "code",
      "metadata": {
        "id": "ydYrYKwmIZtX"
      },
      "source": [
        "#Import Packages\n",
        "import torch\n",
        "import torch.nn as nn\n",
        "import matplotlib.pyplot as plt\n",
        "\n",
        "#Pre Process Data\n",
        "X_train = preprocessing.scale(X_train)\n",
        "X_test = preprocessing.scale(X_test)"
      ],
      "execution_count": null,
      "outputs": []
    },
    {
      "cell_type": "code",
      "metadata": {
        "id": "OMggustjBZA5"
      },
      "source": [
        "class LogisticRegressionModel(nn.Module):\n",
        "    def __init__(self, input_dim, output_dim):\n",
        "        super(LogisticRegressionModel, self).__init__()\n",
        "        self.linear = nn.Linear(input_dim, output_dim,bias=False)\n",
        "\n",
        "    def forward(self, x):\n",
        "        out = self.linear(x)\n",
        "        return out\n",
        "\n",
        "\n",
        "n_epochs = 50\n",
        "n_samples = X_train.shape[0]\n",
        "n_features = X_train.shape[1]\n",
        "n_classes = y_train.value_counts().shape[0]\n",
        "learning_rate = 0.1"
      ],
      "execution_count": null,
      "outputs": []
    },
    {
      "cell_type": "code",
      "metadata": {
        "id": "pQ40Qz8QBa-_"
      },
      "source": [
        "#Define the Logistic Regression Function to train the model\n",
        "\n",
        "def LR(X_train, y_train, X_test, y_test, n_epochs, n_features,n_classes,learning_rate):\n",
        "    X, y = torch.from_numpy(np.array(X_train)).float(), torch.from_numpy(np.array(y_train)).long()\n",
        "    Xtest, ytest = torch.from_numpy(np.array(X_test)).float(), torch.from_numpy(np.array(y_test)).long()    \n",
        "    model = LogisticRegressionModel(n_features, n_classes)\n",
        "    optimizer = torch.optim.SGD(model.parameters(), lr= learning_rate) # Experiment to see the senstivity of learning rate with SGD\n",
        "    criterion = nn.CrossEntropyLoss()\n",
        "    # Train\n",
        "    model.train('True')\n",
        "    loss_train = []\n",
        "    loss_test = []\n",
        "    train_list = []\n",
        "    test_list = []\n",
        "    for epoch in range(n_epochs):\n",
        "        y_hat = model(X)\n",
        "        loss = criterion(y_hat.squeeze(), y)\n",
        "        optimizer.zero_grad()\n",
        "        loss.backward() # Backward Pass\n",
        "        optimizer.step()\n",
        "        loss_train.append(loss.item())\n",
        "        #Training Accuracy\n",
        "        _, predicted = torch.max(y_hat.data,1)\n",
        "        correct = (predicted == y) \n",
        "        accuracy = int(correct.sum()) / correct.shape[0]\n",
        "        train_list.append(accuracy)\n",
        "        #Test Accuracy\n",
        "        y_hat_test = model(Xtest)     \n",
        "        losstest = criterion(y_hat_test.squeeze(), ytest)\n",
        "        loss_test.append(losstest.item())\n",
        "        _, predicted_test = torch.max(y_hat_test.data,1)\n",
        "        correct_test = (predicted_test == ytest)    \n",
        "        accuracy_test = int(correct_test.sum()) / correct_test.shape[0]\n",
        "        print(\"Epoch number: \"+str(epoch)+\" | Training Accuracy: \"+str(accuracy)+\" | Test Accuracy: \"+str(accuracy_test))\n",
        "        test_list.append(accuracy_test)\n",
        "    return (loss_train, loss_test ,train_list,test_list)\n"
      ],
      "execution_count": null,
      "outputs": []
    },
    {
      "cell_type": "code",
      "metadata": {
        "id": "75Pl0SR5BbE6",
        "outputId": "8a912f7b-ff94-4348-c437-97b941fb32d1",
        "colab": {
          "base_uri": "https://localhost:8080/"
        }
      },
      "source": [
        "loss_train, loss_test, train_list, test_list = LR(X_train, y_train, X_test, y_test, n_epochs, n_features,n_classes,learning_rate)\n"
      ],
      "execution_count": null,
      "outputs": [
        {
          "output_type": "stream",
          "text": [
            "Epoch number: 0 | Training Accuracy: 0.7160804020100503 | Test Accuracy: 0.7894736842105263\n",
            "Epoch number: 1 | Training Accuracy: 0.7688442211055276 | Test Accuracy: 0.8011695906432749\n",
            "Epoch number: 2 | Training Accuracy: 0.8065326633165829 | Test Accuracy: 0.8128654970760234\n",
            "Epoch number: 3 | Training Accuracy: 0.8266331658291457 | Test Accuracy: 0.8245614035087719\n",
            "Epoch number: 4 | Training Accuracy: 0.8442211055276382 | Test Accuracy: 0.8362573099415205\n",
            "Epoch number: 5 | Training Accuracy: 0.8618090452261307 | Test Accuracy: 0.8421052631578947\n",
            "Epoch number: 6 | Training Accuracy: 0.8743718592964824 | Test Accuracy: 0.8596491228070176\n",
            "Epoch number: 7 | Training Accuracy: 0.8869346733668342 | Test Accuracy: 0.8654970760233918\n",
            "Epoch number: 8 | Training Accuracy: 0.8969849246231156 | Test Accuracy: 0.8888888888888888\n",
            "Epoch number: 9 | Training Accuracy: 0.9045226130653267 | Test Accuracy: 0.8888888888888888\n",
            "Epoch number: 10 | Training Accuracy: 0.9045226130653267 | Test Accuracy: 0.8888888888888888\n",
            "Epoch number: 11 | Training Accuracy: 0.9095477386934674 | Test Accuracy: 0.8947368421052632\n",
            "Epoch number: 12 | Training Accuracy: 0.9170854271356784 | Test Accuracy: 0.8947368421052632\n",
            "Epoch number: 13 | Training Accuracy: 0.9195979899497487 | Test Accuracy: 0.8947368421052632\n",
            "Epoch number: 14 | Training Accuracy: 0.9246231155778895 | Test Accuracy: 0.8888888888888888\n",
            "Epoch number: 15 | Training Accuracy: 0.9271356783919598 | Test Accuracy: 0.8947368421052632\n",
            "Epoch number: 16 | Training Accuracy: 0.9271356783919598 | Test Accuracy: 0.8947368421052632\n",
            "Epoch number: 17 | Training Accuracy: 0.9271356783919598 | Test Accuracy: 0.8947368421052632\n",
            "Epoch number: 18 | Training Accuracy: 0.9296482412060302 | Test Accuracy: 0.9005847953216374\n",
            "Epoch number: 19 | Training Accuracy: 0.9321608040201005 | Test Accuracy: 0.9005847953216374\n",
            "Epoch number: 20 | Training Accuracy: 0.9296482412060302 | Test Accuracy: 0.9005847953216374\n",
            "Epoch number: 21 | Training Accuracy: 0.9296482412060302 | Test Accuracy: 0.9005847953216374\n",
            "Epoch number: 22 | Training Accuracy: 0.9296482412060302 | Test Accuracy: 0.9005847953216374\n",
            "Epoch number: 23 | Training Accuracy: 0.9346733668341709 | Test Accuracy: 0.9005847953216374\n",
            "Epoch number: 24 | Training Accuracy: 0.9346733668341709 | Test Accuracy: 0.9005847953216374\n",
            "Epoch number: 25 | Training Accuracy: 0.9371859296482412 | Test Accuracy: 0.9005847953216374\n",
            "Epoch number: 26 | Training Accuracy: 0.9371859296482412 | Test Accuracy: 0.9005847953216374\n",
            "Epoch number: 27 | Training Accuracy: 0.9371859296482412 | Test Accuracy: 0.9005847953216374\n",
            "Epoch number: 28 | Training Accuracy: 0.9371859296482412 | Test Accuracy: 0.9005847953216374\n",
            "Epoch number: 29 | Training Accuracy: 0.9371859296482412 | Test Accuracy: 0.9064327485380117\n",
            "Epoch number: 30 | Training Accuracy: 0.9371859296482412 | Test Accuracy: 0.9064327485380117\n",
            "Epoch number: 31 | Training Accuracy: 0.9371859296482412 | Test Accuracy: 0.9064327485380117\n",
            "Epoch number: 32 | Training Accuracy: 0.9371859296482412 | Test Accuracy: 0.9064327485380117\n",
            "Epoch number: 33 | Training Accuracy: 0.9371859296482412 | Test Accuracy: 0.9064327485380117\n",
            "Epoch number: 34 | Training Accuracy: 0.9371859296482412 | Test Accuracy: 0.9064327485380117\n",
            "Epoch number: 35 | Training Accuracy: 0.9371859296482412 | Test Accuracy: 0.9064327485380117\n",
            "Epoch number: 36 | Training Accuracy: 0.9371859296482412 | Test Accuracy: 0.9064327485380117\n",
            "Epoch number: 37 | Training Accuracy: 0.9371859296482412 | Test Accuracy: 0.9064327485380117\n",
            "Epoch number: 38 | Training Accuracy: 0.9396984924623115 | Test Accuracy: 0.9064327485380117\n",
            "Epoch number: 39 | Training Accuracy: 0.9396984924623115 | Test Accuracy: 0.9064327485380117\n",
            "Epoch number: 40 | Training Accuracy: 0.9396984924623115 | Test Accuracy: 0.9064327485380117\n",
            "Epoch number: 41 | Training Accuracy: 0.9396984924623115 | Test Accuracy: 0.9064327485380117\n",
            "Epoch number: 42 | Training Accuracy: 0.9396984924623115 | Test Accuracy: 0.9064327485380117\n",
            "Epoch number: 43 | Training Accuracy: 0.9396984924623115 | Test Accuracy: 0.9064327485380117\n",
            "Epoch number: 44 | Training Accuracy: 0.9396984924623115 | Test Accuracy: 0.9064327485380117\n",
            "Epoch number: 45 | Training Accuracy: 0.9396984924623115 | Test Accuracy: 0.9064327485380117\n",
            "Epoch number: 46 | Training Accuracy: 0.9396984924623115 | Test Accuracy: 0.9064327485380117\n",
            "Epoch number: 47 | Training Accuracy: 0.9396984924623115 | Test Accuracy: 0.9064327485380117\n",
            "Epoch number: 48 | Training Accuracy: 0.9396984924623115 | Test Accuracy: 0.9064327485380117\n",
            "Epoch number: 49 | Training Accuracy: 0.9396984924623115 | Test Accuracy: 0.9064327485380117\n"
          ],
          "name": "stdout"
        }
      ]
    },
    {
      "cell_type": "code",
      "metadata": {
        "id": "nz6u5mD3BbHk",
        "outputId": "ab695189-bf68-4d92-bcec-91e0e311d8a3",
        "colab": {
          "base_uri": "https://localhost:8080/",
          "height": 295
        }
      },
      "source": [
        "##Plot losses\n",
        "\n",
        "plt.plot(list(range(n_epochs)),loss_train, label = \"Training Set\" )\n",
        "plt.plot(list(range(n_epochs)),loss_test, label = \"Test Set\" )\n",
        "plt.title('Cross-Entropy Loss')\n",
        "plt.ylabel('Loss')\n",
        "plt.xlabel('Number of Epochs')\n",
        "plt.legend(loc='upper right')\n",
        "plt.show()"
      ],
      "execution_count": null,
      "outputs": [
        {
          "output_type": "display_data",
          "data": {
            "image/png": "[encoded data removed]",
            "text/plain": [
              "<Figure size 432x288 with 1 Axes>"
            ]
          },
          "metadata": {
            "tags": [],
            "needs_background": "light"
          }
        }
      ]
    },
    {
      "cell_type": "code",
      "metadata": {
        "id": "4jRpaGgDBbKM",
        "outputId": "c84c8cae-3a28-4003-941d-e63362c3666d",
        "colab": {
          "base_uri": "https://localhost:8080/",
          "height": 295
        }
      },
      "source": [
        "\n",
        "#Plot Accuracy\n",
        "plt.plot(list(range(n_epochs)),train_list, label = \"Training Set\" )\n",
        "plt.plot(list(range(n_epochs)),test_list, label = \"Test Set\" )\n",
        "plt.title('Evolution of Accuracy')\n",
        "plt.ylabel('Accuracy')\n",
        "plt.xlabel('Number of Epochs')\n",
        "plt.legend(loc='lower right')\n",
        "plt.show()"
      ],
      "execution_count": null,
      "outputs": [
        {
          "output_type": "display_data",
          "data": {
            "image/png": "[encoded data removed]",
            "text/plain": [
              "<Figure size 432x288 with 1 Axes>"
            ]
          },
          "metadata": {
            "tags": [],
            "needs_background": "light"
          }
        }
      ]
    },
    {
      "cell_type": "markdown",
      "metadata": {
        "id": "mHPnK6P6UQSv"
      },
      "source": [
        "**Problem 4: Binary Classification with Neural Networks**"
      ]
    },
    {
      "cell_type": "markdown",
      "metadata": {
        "id": "MduTALqmUV9H"
      },
      "source": [
        "**2.a**"
      ]
    },
    {
      "cell_type": "code",
      "metadata": {
        "id": "Y4NSOKHnUZRi"
      },
      "source": [
        "#Data Preparation \n",
        "cancer_data = pd.read_csv(\"breast_cancer.csv\") \n",
        "\n",
        "targets = cancer_data[\"diagnosis\"]\n",
        "targets = targets.replace({\"B\": 0, \"M\": 1})\n",
        "\n",
        "features = ['radius_mean', 'texture_mean', 'smoothness_mean',\n",
        "       'compactness_mean', 'symmetry_mean', 'fractal_dimension_mean',\n",
        "       'radius_se', 'texture_se', 'smoothness_se', 'compactness_se',\n",
        "       'symmetry_se', 'fractal_dimension_se']\n",
        "\n",
        "features_df = cancer_data[features]\n",
        "\n",
        "X_train, X_test, y_train, y_test = train_test_split(features_df, targets, test_size=0.3, random_state=40)\n",
        "X_train = preprocessing.scale(X_train)\n",
        "X_test = preprocessing.scale(X_test)"
      ],
      "execution_count": null,
      "outputs": []
    },
    {
      "cell_type": "code",
      "metadata": {
        "id": "TV4Y6_o2UZY-"
      },
      "source": [
        "#Let's define a class of a Multiilayer Perceptron Model. \n",
        "import torch\n",
        "import torch.nn as nn\n",
        "import numpy as np\n",
        "import matplotlib.pyplot as plt\n",
        "\n",
        "\n",
        "\n",
        "\n",
        "class MLP(nn.Module):\n",
        "    def __init__(self, inputs, outputs, hidden_layers, neurons_per_layer, bias):\n",
        "        super(MLP, self).__init__()\n",
        "        # initialize empty list of fully connected layers\n",
        "        hidden = nn.ModuleList()\n",
        "        \n",
        "        # append input layer\n",
        "        self.input = nn.Linear(in_features = inputs, out_features = neurons_per_layer, bias = bias)\n",
        "        \n",
        "        # add hidden_layers\n",
        "        self.hidden_layers = hidden_layers\n",
        "        for i in range(hidden_layers):\n",
        "            hidden.append(nn.Linear(in_features = neurons_per_layer, out_features = neurons_per_layer, bias = bias))\n",
        "        \n",
        "        # add output layer\n",
        "        self.output = nn.Linear(in_features = neurons_per_layer, out_features = outputs, bias = bias)\n",
        "        \n",
        "        # create model\n",
        "        self.hidden = hidden\n",
        "        \n",
        "    def forward(self, x):\n",
        "        x = torch.relu(self.input(x))\n",
        "        for i in range(self.hidden_layers):\n",
        "            x = torch.relu(self.hidden[i](x))\n",
        "        \n",
        "        x = self.output(x)\n",
        "        return x\n"
      ],
      "execution_count": 7,
      "outputs": []
    },
    {
      "cell_type": "code",
      "metadata": {
        "id": "njK8WrG2UZhX"
      },
      "source": [
        "#Let's define our parameters         \n",
        "inputs =  X_train.shape[1] #Refer to the features\n",
        "outputs = y_train.value_counts().shape[0] #Refer to the labels \n",
        "hidden_layers = 2\n",
        "neurons = 16\n",
        "n_epochs = 400\n",
        "learning_rate  = 0.01\n",
        "#Conver to torch our training and test set \n",
        "Xtrain, ytrain = torch.from_numpy(np.array(X_train)).float(), torch.from_numpy(np.array(y_train)).long()\n",
        "Xtest, ytest = torch.from_numpy(np.array(X_test)).float(), torch.from_numpy(np.array(y_test)).long()\n"
      ],
      "execution_count": null,
      "outputs": []
    },
    {
      "cell_type": "code",
      "metadata": {
        "id": "F31UPYnpUZl_"
      },
      "source": [
        "#Define our model \n",
        "model =  MLP(inputs = inputs, outputs = outputs, hidden_layers = hidden_layers, neurons_per_layer = neurons, bias = True)\n",
        "criterion = nn.CrossEntropyLoss()\n",
        "optimizer = torch.optim.SGD(model.parameters(), lr = learning_rate)\n",
        "#Info that we need \n",
        "train_acc = []\n",
        "test_acc = []\n",
        "train_loss = []\n",
        "test_loss = []\n",
        "#Lets train the model:\n",
        "for epochs in range(n_epochs):\n",
        "    model.train()\n",
        "    optimizer.zero_grad() #Forward pass\n",
        "    y_hat = model(Xtrain) #Train Prediction\n",
        "    loss = criterion(y_hat,ytrain)\n",
        "    _, predicted = torch.max(y_hat.data,1)\n",
        "    correct = (predicted == ytrain)    \n",
        "    accuracy = int(correct.sum()) / correct.shape[0]\n",
        "    train_acc.append(accuracy)\n",
        "    train_loss.append(loss.item())\n",
        "    model.eval()\n",
        "    y_hat_test = model(Xtest)\n",
        "    loss_test = criterion(y_hat_test, ytest)\n",
        "    _, predicted_test = torch.max(y_hat_test.data,1)\n",
        "    correct_test = (predicted_test == ytest)    \n",
        "    accuracy_test = int(correct_test.sum()) / correct_test.shape[0]    \n",
        "    test_acc.append(accuracy_test)\n",
        "    test_loss.append(loss_test.item())    \n",
        "    loss.backward()\n",
        "    optimizer.step()\n"
      ],
      "execution_count": null,
      "outputs": []
    },
    {
      "cell_type": "code",
      "metadata": {
        "id": "6tFVEfm9UZpG",
        "outputId": "300bff56-b373-4d5e-9f16-534f545f4744",
        "colab": {
          "base_uri": "https://localhost:8080/",
          "height": 295
        }
      },
      "source": [
        "##Plot losses\n",
        "\n",
        "plt.plot(list(range(n_epochs)),train_loss, label = \"Training Set\" )\n",
        "plt.plot(list(range(n_epochs)),test_loss, label = \"Test Set\" )\n",
        "plt.title('Cross-Entropy Loss')\n",
        "plt.ylabel('Loss')\n",
        "plt.xlabel('Number of Epochs')\n",
        "plt.legend(loc='upper right')\n",
        "plt.show()"
      ],
      "execution_count": null,
      "outputs": [
        {
          "output_type": "display_data",
          "data": {
            "image/png": "[encoded data removed]",
            "text/plain": [
              "<Figure size 432x288 with 1 Axes>"
            ]
          },
          "metadata": {
            "tags": [],
            "needs_background": "light"
          }
        }
      ]
    },
    {
      "cell_type": "code",
      "metadata": {
        "id": "y5tG5205UZuG",
        "outputId": "a76070bc-21cd-4819-c1bd-5ff05ed5a325",
        "colab": {
          "base_uri": "https://localhost:8080/",
          "height": 295
        }
      },
      "source": [
        "##Plot accuracy\n",
        "\n",
        "plt.plot(list(range(n_epochs)),train_acc, label = \"Training Set\" )\n",
        "plt.plot(list(range(n_epochs)),test_acc, label = \"Test Set\" )\n",
        "plt.title('Accuracy')\n",
        "plt.ylabel('Acuraccy')\n",
        "plt.xlabel('Number of Epochs')\n",
        "plt.legend(loc='lower right')\n",
        "plt.show()\n"
      ],
      "execution_count": null,
      "outputs": [
        {
          "output_type": "display_data",
          "data": {
            "image/png": "[encoded data removed]",
            "text/plain": [
              "<Figure size 432x288 with 1 Axes>"
            ]
          },
          "metadata": {
            "tags": [],
            "needs_background": "light"
          }
        }
      ]
    },
    {
      "cell_type": "markdown",
      "metadata": {
        "id": "p1EfG2ubUwlW"
      },
      "source": [
        "**2b.**"
      ]
    },
    {
      "cell_type": "code",
      "metadata": {
        "id": "yU1UAmOoUZxh"
      },
      "source": [
        "#Definte the number of Hidden Layers and Neurons\n",
        "N_list = [1,2,3,4,5,6,7,8]\n",
        "M_list = [ 2 , 4 , 8 , 16, 32, 64, 128]\n",
        "inputs =  X_train.shape[1] #Refer to the features\n",
        "outputs = y_train.value_counts().shape[0] #Refer to the labels \n",
        "n_epochs = 400\n",
        "learning_rate  = 0.01\n",
        "#Matrix where to store the results \n",
        "gradients = np.empty([len(N_list),len(M_list)])\n",
        "accuracy = np.empty([len(N_list),len(M_list)])       \n",
        "#Lets Define our loop \n",
        "\n",
        "for N in range(len(N_list)):\n",
        "    for M in range(len(M_list)):\n",
        "        model =  MLP(inputs = inputs, outputs = outputs, hidden_layers = N_list[N], neurons_per_layer = M_list[M], bias = True)\n",
        "        criterion = nn.CrossEntropyLoss()\n",
        "        optimizer = torch.optim.SGD(model.parameters(), lr = learning_rate)\n",
        "        #Info that we need \n",
        "        test_acc = []\n",
        "        #Lets train the model:\n",
        "        for epochs in range(n_epochs):\n",
        "            model.train()\n",
        "            optimizer.zero_grad() #Forward pass\n",
        "            y_hat = model(Xtrain) #Train Prediction\n",
        "            loss = criterion(y_hat,ytrain)\n",
        "#            _, predicted = torch.max(y_hat.data,1)\n",
        "#            correct = (predicted == ytrain)    \n",
        "#            accuracy = int(correct.sum()) / correct.shape[0]\n",
        "            model.eval()\n",
        "            y_hat_test = model(Xtest)\n",
        "            loss_test = criterion(y_hat_test, ytest)\n",
        "            _, predicted_test = torch.max(y_hat_test.data,1)\n",
        "            correct_test = (predicted_test == ytest)    \n",
        "            accuracy_test = int(correct_test.sum()) / correct_test.shape[0]    \n",
        "            test_acc.append(accuracy_test)\n",
        "            loss.backward()\n",
        "            optimizer.step()\n",
        "            if epochs==n_epochs-1:\n",
        "                grad = np.linalg.norm(np.array(model.input.weight.grad))\n",
        "\n",
        "        accuracy[N,M] = test_acc[-1]\n",
        "        gradients[N,M] = grad\n"
      ],
      "execution_count": null,
      "outputs": []
    },
    {
      "cell_type": "code",
      "metadata": {
        "id": "IWgthwbiU12A",
        "outputId": "7a3a3aaa-1899-4aef-fae8-0d05442eae83",
        "colab": {
          "base_uri": "https://localhost:8080/",
          "height": 295
        }
      },
      "source": [
        "# Heat map for the Accuracy in the Test Test\n",
        "plt.pcolormesh(np.transpose(accuracy))\n",
        "plt.xticks(np.arange(0.5, 8.5, 1), N_list)\n",
        "plt.yticks(np.arange(0.5, 7.5, 1), M_list)\n",
        "plt.colorbar()\n",
        "plt.title('Test Accuracy')\n",
        "plt.ylabel('Neurons per Layer')\n",
        "plt.xlabel('Hidden Layers')\n",
        "plt.show()"
      ],
      "execution_count": null,
      "outputs": [
        {
          "output_type": "display_data",
          "data": {
            "image/png": "[encoded data removed]",
            "text/plain": [
              "<Figure size 432x288 with 2 Axes>"
            ]
          },
          "metadata": {
            "tags": [],
            "needs_background": "light"
          }
        }
      ]
    },
    {
      "cell_type": "markdown",
      "metadata": {
        "id": "iGahKeSQwjW0"
      },
      "source": [
        "As we can see in the heat map, the more neurons per layer we have, conditionally on having not many hidden layers, the better is the test accuracy. On the other hand, we can see that as the hidden layers increase, for any number of neurons per layer, the test accuracy decreases since we are over-fitting the training data. In other words, we need to feed the model with more data so the test accuracy gets increased. "
      ]
    },
    {
      "cell_type": "code",
      "metadata": {
        "id": "dQUma7G4U2Sg",
        "outputId": "aa519e64-2dc5-461c-d35b-47a15a9aa12c",
        "colab": {
          "base_uri": "https://localhost:8080/",
          "height": 295
        }
      },
      "source": [
        "# Heat map for the Gradient\n",
        "plt.pcolormesh(np.transpose(gradients))\n",
        "plt.xticks(np.arange(0.5, 8.5, 1), N_list)\n",
        "plt.yticks(np.arange(0.5, 7.5, 1), M_list)\n",
        "plt.colorbar()\n",
        "plt.title('L-2 Norm of the Gradient')\n",
        "plt.ylabel('Neurons per Layer')\n",
        "plt.xlabel('Hidden Layers')\n",
        "plt.show()"
      ],
      "execution_count": null,
      "outputs": [
        {
          "output_type": "display_data",
          "data": {
            "image/png": "[encoded data removed]",
            "text/plain": [
              "<Figure size 432x288 with 2 Axes>"
            ]
          },
          "metadata": {
            "tags": [],
            "needs_background": "light"
          }
        }
      ]
    },
    {
      "cell_type": "markdown",
      "metadata": {
        "id": "C9_7TQgixfUv"
      },
      "source": [
        "As we can see in the heat map, the L-2 Norm of the gradient of the weights that connect the input layer with the first hidden layer is bigger when we have less number of hidden layers, for all the specifications of Neurons per layer. This is the case because the less hidden layeres the model has, the less complex is. So, at each iteration the weights are updated in greater quantities since the model does not have many layers to learn. On the other hand, when we have complex models, the weights of all the hidden layers are being updated so the weights of the input layer will be less modified because the model is learning in several hidden layers."
      ]
    },
    {
      "cell_type": "markdown",
      "metadata": {
        "id": "hOi5vIxoU6IQ"
      },
      "source": [
        "**3.**"
      ]
    },
    {
      "cell_type": "code",
      "metadata": {
        "id": "KhkUQ0y8U8CO"
      },
      "source": [
        "#Let's define the parameters\n",
        "inputs =  X_train.shape[1] #Refer to the features\n",
        "outputs = y_train.value_counts().shape[0] #Refer to the labels \n",
        "hidden_layers = 2\n",
        "neurons = 16\n",
        "n_epochs = 400\n",
        "learning_rate  = 0.01\n",
        "#Define our model \n",
        "model =  MLP(inputs = inputs, outputs = outputs, hidden_layers = hidden_layers, neurons_per_layer = neurons, bias = True)\n",
        "criterion = nn.CrossEntropyLoss()\n",
        "#Info that we need \n",
        "train_acc = []\n",
        "test_acc = []\n",
        "train_loss = []\n",
        "test_loss = []\n",
        "#Lets train the model:\n",
        "for epochs in range(n_epochs):\n",
        "    model.train()\n",
        "    optimizer.zero_grad() #Forward pass\n",
        "    y_hat = model(Xtrain) #Train Prediction\n",
        "    loss = criterion(y_hat,ytrain)\n",
        "    _, predicted = torch.max(y_hat.data,1)\n",
        "    correct = (predicted == ytrain)    \n",
        "    accuracy = int(correct.sum()) / correct.shape[0]\n",
        "    train_acc.append(accuracy)\n",
        "    train_loss.append(loss.item())\n",
        "    #Initialize weights and bias\n",
        "    w_1 = torch.zeros(16,12)\n",
        "    w_2 = torch.zeros(16,16)\n",
        "    w_3 = torch.zeros(16,16)\n",
        "    w_4 = torch.zeros(2,16)\n",
        "    b_1 = torch.zeros(16)\n",
        "    b_2 = torch.zeros(16)\n",
        "    b_3 = torch.zeros(16)\n",
        "    b_4 = torch.zeros(2)\n",
        "    #Backpropagation\n",
        "    for i in range(Xtrain.shape[0]):\n",
        "        #Forward pass\n",
        "        z_2 = torch.matmul(model.input.weight, Xtrain[i]) + model.input.bias\n",
        "        a_2 = torch.relu(z_2)\n",
        "        z_3 = torch.matmul(model.hidden[0].weight, a_2) + model.hidden[0].bias\n",
        "        a_3 = torch.relu(z_3)\n",
        "        z_4 = torch.matmul(model.hidden[1].weight, a_3) + model.hidden[1].bias\n",
        "        a_4 = torch.relu(z_4)\n",
        "        z_5 = torch.matmul(model.output.weight, a_4) + model.output.bias      \n",
        "        #Compute output error grdient\n",
        "        delta_4 = - torch.tensor([(1 - ytrain[i]), ytrain[i]]) + torch.exp(z_5) / torch.sum(torch.exp(z_5))\n",
        "        #For the previous layers\n",
        "        delta_3 = torch.mul(torch.matmul(torch.transpose(model.output.weight, 0, 1), delta_4), (z_4 > 0))\n",
        "        delta_2 = torch.mul(torch.matmul(torch.transpose(model.hidden[1].weight, 0, 1), delta_3), (z_3 > 0))\n",
        "        delta_1 = torch.mul(torch.matmul(torch.transpose(model.hidden[0].weight, 0, 1), delta_2), (z_2 > 0))\n",
        "        #Gradients\n",
        "        w_1 += torch.ger(delta_1,Xtrain[i])/Xtrain.shape[0]   \n",
        "        w_2 += torch.ger(delta_2, a_2) / Xtrain.shape[0]\n",
        "        w_3 += torch.ger(delta_3, a_3) / Xtrain.shape[0]\n",
        "        w_4 += torch.ger(delta_4, a_4) / Xtrain.shape[0]\n",
        "        b_1 += delta_1/Xtrain.shape[0]   \n",
        "        b_2 += delta_2/Xtrain.shape[0]\n",
        "        b_3 += delta_3/Xtrain.shape[0]\n",
        "        b_4 += delta_4/Xtrain.shape[0]\n",
        "    with torch.no_grad():\n",
        "            model.input.weight -= learning_rate*w_1\n",
        "            model.input.bias -= learning_rate*b_1\n",
        "            model.hidden[0].weight -= learning_rate*w_2\n",
        "            model.hidden[0].bias -= learning_rate*b_2\n",
        "            model.hidden[1].weight -= learning_rate*w_3\n",
        "            model.hidden[1].bias -= learning_rate*b_3\n",
        "            model.output.weight -= learning_rate*w_4\n",
        "            model.output.bias -= learning_rate*b_4        \n",
        "    model.eval()\n",
        "    y_hat_test = model(Xtest)\n",
        "    loss_test = criterion(y_hat_test, ytest)\n",
        "    _, predicted_test = torch.max(y_hat_test.data,1)\n",
        "    correct_test = (predicted_test == ytest)    \n",
        "    accuracy_test = int(correct_test.sum()) / correct_test.shape[0]    \n",
        "    test_acc.append(accuracy_test)\n",
        "    test_loss.append(loss_test.item())   "
      ],
      "execution_count": null,
      "outputs": []
    },
    {
      "cell_type": "code",
      "metadata": {
        "id": "d7j-fxHLU_Rr",
        "outputId": "ffff64c2-f3d5-42b3-8010-f5df11a6fda6",
        "colab": {
          "base_uri": "https://localhost:8080/",
          "height": 295
        }
      },
      "source": [
        "##Plot losses\n",
        "\n",
        "plt.plot(list(range(n_epochs)),train_loss, label = \"Training Set\" )\n",
        "plt.plot(list(range(n_epochs)),test_loss, label = \"Test Set\" )\n",
        "plt.title('Cross-Entropy Loss')\n",
        "plt.ylabel('Loss')\n",
        "plt.xlabel('Number of Epochs')\n",
        "plt.legend(loc='upper right')\n",
        "plt.show()"
      ],
      "execution_count": null,
      "outputs": [
        {
          "output_type": "display_data",
          "data": {
            "image/png": "[encoded data removed]",
            "text/plain": [
              "<Figure size 432x288 with 1 Axes>"
            ]
          },
          "metadata": {
            "tags": [],
            "needs_background": "light"
          }
        }
      ]
    },
    {
      "cell_type": "code",
      "metadata": {
        "id": "raoQimFkVBHB",
        "outputId": "f75c6710-bffd-43e7-fa0f-8eb5d17e80ec",
        "colab": {
          "base_uri": "https://localhost:8080/",
          "height": 295
        }
      },
      "source": [
        "##Plot accuracy\n",
        "\n",
        "plt.plot(list(range(n_epochs)),train_acc, label = \"Training Set\")\n",
        "plt.plot(list(range(n_epochs)),test_acc, label = \"Test Set\" )\n",
        "plt.title('Accuracy')\n",
        "plt.ylabel('Acuraccy')\n",
        "plt.xlabel('Number of Epochs')\n",
        "plt.legend(loc='lower right')\n",
        "plt.show()\n",
        "\n"
      ],
      "execution_count": null,
      "outputs": [
        {
          "output_type": "display_data",
          "data": {
            "image/png": "[encoded data removed]",
            "text/plain": [
              "<Figure size 432x288 with 1 Axes>"
            ]
          },
          "metadata": {
            "tags": [],
            "needs_background": "light"
          }
        }
      ]
    },
    {
      "cell_type": "markdown",
      "metadata": {
        "id": "CAuxfUqRBZrl"
      },
      "source": [
        "**Problem 5: First-order Optimization Methods**"
      ]
    },
    {
      "cell_type": "code",
      "metadata": {
        "id": "XKnJ_KhxBhRN"
      },
      "source": [
        "import scipy\n",
        "import scipy.io\n",
        "\n"
      ],
      "execution_count": 1,
      "outputs": []
    },
    {
      "cell_type": "code",
      "metadata": {
        "id": "aztKHUZxEKya",
        "outputId": "1f3e91d4-6f88-4cb7-d43b-95be493c9053",
        "colab": {
          "resources": {
            "http://localhost:8080/nbextensions/google.colab/files.js": {
              "data": "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",
              "ok": true,
              "headers": [
                [
                  "content-type",
                  "application/javascript"
                ]
              ],
              "status": 200,
              "status_text": ""
            }
          },
          "base_uri": "https://localhost:8080/",
          "height": 72
        }
      },
      "source": [
        "from google.colab import files\n",
        "uploaded = files.upload()"
      ],
      "execution_count": 2,
      "outputs": [
        {
          "output_type": "display_data",
          "data": {
            "text/html": [
              "\n",
              "     <input type=\"file\" id=\"files-301b38e2-02d7-4a76-a06c-6f7be63f0e34\" name=\"files[]\" multiple disabled\n",
              "        style=\"border:none\" />\n",
              "     <output id=\"result-301b38e2-02d7-4a76-a06c-6f7be63f0e34\">\n",
              "      Upload widget is only available when the cell has been executed in the\n",
              "      current browser session. Please rerun this cell to enable.\n",
              "      </output>\n",
              "      <script src=\"/nbextensions/google.colab/files.js\"></script> "
            ],
            "text/plain": [
              "<IPython.core.display.HTML object>"
            ]
          },
          "metadata": {
            "tags": []
          }
        },
        {
          "output_type": "stream",
          "text": [
            "Saving mnist-original.mat to mnist-original.mat\n"
          ],
          "name": "stdout"
        }
      ]
    },
    {
      "cell_type": "code",
      "metadata": {
        "id": "jT_D-1RpGpHH",
        "outputId": "ee5eb342-74a7-4dfd-acb4-51d4690dfd50",
        "colab": {
          "base_uri": "https://localhost:8080/"
        }
      },
      "source": [
        "#import Data\n",
        "mnist_data = scipy.io.loadmat('mnist-original.mat')\n",
        "X = mnist_data['data'].T\n",
        "y = mnist_data['label'].T\n",
        "#Pre process\n",
        "from sklearn.preprocessing import MinMaxScaler\n",
        "scaler = MinMaxScaler()\n",
        "scaler.fit(X)\n",
        "X = scaler.transform(X)\n",
        "#Train and test set\n",
        "train_dataset, test_dataset, train_labels, test_labels = train_test_split(X, y, test_size=1/7, random_state=671)\n",
        "train_labels = pd.get_dummies(pd.DataFrame(train_labels)[0], prefix='numb')\n",
        "test_labels = pd.get_dummies(pd.DataFrame(test_labels)[0], prefix='numb')\n",
        "print (train_dataset.shape, train_labels.shape)\n",
        "print (test_dataset.shape, test_labels.shape)\n",
        "#Get everything in np.array\n",
        "train_labels = np.array(train_labels)\n",
        "test_labels = np.array(test_labels)\n",
        "#Use Pytorch\n",
        "X, y = torch.from_numpy(np.array(train_dataset)).float(), torch.from_numpy(np.array(train_labels)).long()\n",
        "Xtest, ytest = torch.from_numpy(np.array(test_dataset)).float(), torch.from_numpy(np.array(test_labels)).long()\n"
      ],
      "execution_count": 8,
      "outputs": [
        {
          "output_type": "stream",
          "text": [
            "(60000, 784) (60000, 10)\n",
            "(10000, 784) (10000, 10)\n"
          ],
          "name": "stdout"
        }
      ]
    },
    {
      "cell_type": "code",
      "metadata": {
        "id": "hzdB3dR3Js87"
      },
      "source": [
        "#Define logistic regression\n",
        "class LogisticRegressionModel(nn.Module):\n",
        "    def __init__(self, input_dim, output_dim):\n",
        "        super(LogisticRegressionModel, self).__init__()\n",
        "        self.linear = nn.Linear(input_dim, output_dim,bias=True)\n",
        "\n",
        "    def forward(self, x):\n",
        "        out = self.linear(x)\n",
        "        return out"
      ],
      "execution_count": 9,
      "outputs": []
    },
    {
      "cell_type": "markdown",
      "metadata": {
        "id": "KHYBS9bHFRQq"
      },
      "source": [
        "**Momentum Method**"
      ]
    },
    {
      "cell_type": "code",
      "metadata": {
        "id": "L1SFaOmNFQri",
        "outputId": "035ad305-fb16-42ac-c259-3db85edae4d8",
        "colab": {
          "base_uri": "https://localhost:8080/"
        }
      },
      "source": [
        "#Initialize Model Parameters\n",
        "\n",
        "lambdas = [0.01,0.1,1]\n",
        "learning_rate = 0.001\n",
        "beta = 0.9\n",
        "n_epochs = 200      \n",
        "batch_sizes = [500,60000]    \n",
        "    \n",
        "#Estimation \n",
        "for batch_size in batch_sizes:\n",
        "    print(\"BATCH SIZE:\"+str(batch_size))\n",
        "    for lambda_param in lambdas:\n",
        "        model = LogisticRegressionModel(X.shape[1], y.shape[1])\n",
        "        criterion = nn.CrossEntropyLoss()\n",
        "        m_w = torch.zeros((X.shape[1],y.shape[1] ))\n",
        "        m_w = m_w.T\n",
        "        m_b = torch.zeros(y.shape[1])\n",
        "        print(\"LAMBDA:\"+str(lambda_param))\n",
        "        for epoch in list(range(n_epochs))[1:]:\n",
        "             # X is a torch Variable\n",
        "            permutation = torch.randperm(X.size()[0])\n",
        "            for i in range(0,X.size()[0], batch_size):\n",
        "                indices = permutation[i:i+batch_size]\n",
        "                batch_x, batch_y = X[indices], y[indices]\n",
        "                y_hat = model(batch_x)\n",
        "                b = list(model.parameters())[1]\n",
        "                w = list(model.parameters())[0]\n",
        "                l2_regularization = torch.norm(b) + torch.norm(w)\n",
        "                loss = criterion(y_hat.squeeze(), torch.max(batch_y, 1)[1]) + lambda_param*l2_regularization\n",
        "                if w.grad is not None:\n",
        "                    w.grad.zero_()\n",
        "                if b.grad is not None:\n",
        "                    b.grad.zero_()\n",
        "                loss.backward()\n",
        "                with torch.no_grad():  # 3\n",
        "                    m_w = beta*m_w + w.grad\n",
        "                    m_b = beta*m_b +b.grad\n",
        "                    w -= learning_rate * m_w\n",
        "                    b -= learning_rate * m_b\n",
        "                #Test Accuracy\n",
        "            y_hat_test = model(Xtest)     \n",
        "            _, predicted_test = torch.max(y_hat_test.data,1)\n",
        "            correct_test = (predicted_test == torch.max(ytest, 1)[1])    \n",
        "            accuracy_test = int(correct_test.sum()) / correct_test.shape[0]\n",
        "            if (epoch+1)%(5*10)==0:    \n",
        "                print(\"Epoch number:\"+str(epoch+1)+\" | Test Accuracy \"+str(accuracy_test))\n",
        "\n"
      ],
      "execution_count": null,
      "outputs": [
        {
          "output_type": "stream",
          "text": [
            "BATCH SIZE:500\n",
            "LAMBDA:0.01\n",
            "Epoch number:50 | Test Accuracy 0.8896\n",
            "Epoch number:100 | Test Accuracy 0.8978\n",
            "Epoch number:150 | Test Accuracy 0.9017\n",
            "Epoch number:200 | Test Accuracy 0.9046\n",
            "LAMBDA:0.1\n",
            "Epoch number:50 | Test Accuracy 0.879\n",
            "Epoch number:100 | Test Accuracy 0.8814\n",
            "Epoch number:150 | Test Accuracy 0.8818\n",
            "Epoch number:200 | Test Accuracy 0.8816\n",
            "LAMBDA:1\n",
            "Epoch number:50 | Test Accuracy 0.7401\n",
            "Epoch number:100 | Test Accuracy 0.6525\n",
            "Epoch number:150 | Test Accuracy 0.6669\n",
            "Epoch number:200 | Test Accuracy 0.7163\n",
            "BATCH SIZE:60000\n",
            "LAMBDA:0.01\n",
            "Epoch number:50 | Test Accuracy 0.5927\n",
            "Epoch number:100 | Test Accuracy 0.7334\n",
            "Epoch number:150 | Test Accuracy 0.7708\n",
            "Epoch number:200 | Test Accuracy 0.7922\n",
            "LAMBDA:0.1\n",
            "Epoch number:50 | Test Accuracy 0.6487\n",
            "Epoch number:100 | Test Accuracy 0.7501\n",
            "Epoch number:150 | Test Accuracy 0.7771\n",
            "Epoch number:200 | Test Accuracy 0.7925\n",
            "LAMBDA:1\n",
            "Epoch number:50 | Test Accuracy 0.6244\n",
            "Epoch number:100 | Test Accuracy 0.7464\n",
            "Epoch number:150 | Test Accuracy 0.7713\n",
            "Epoch number:200 | Test Accuracy 0.7761\n"
          ],
          "name": "stdout"
        }
      ]
    },
    {
      "cell_type": "code",
      "metadata": {
        "id": "er8pu4ndXbmk",
        "outputId": "b9d2cc2c-6e7c-4ac2-d12e-c65b8214119e",
        "colab": {
          "base_uri": "https://localhost:8080/"
        }
      },
      "source": [
        "#Initialize Model Parameters\n",
        "\n",
        "lambdas = [0.01,0.1,1]\n",
        "learning_rate = 0.001\n",
        "beta = 0.9\n",
        "n_epochs = 2      \n",
        "batch_sizes = [1]    \n",
        "    \n",
        "#Estimation \n",
        "for batch_size in batch_sizes:\n",
        "    print(\"BATCH SIZE:\"+str(batch_size))\n",
        "    for lambda_param in lambdas:\n",
        "        model = LogisticRegressionModel(X.shape[1], y.shape[1])\n",
        "        criterion = nn.CrossEntropyLoss()\n",
        "        m_w = torch.zeros((X.shape[1],y.shape[1] ))\n",
        "        m_w = m_w.T\n",
        "        m_b = torch.zeros(y.shape[1])\n",
        "        print(\"LAMBDA:\"+str(lambda_param))\n",
        "        for epoch in list(range(n_epochs))[1:]:\n",
        "             # X is a torch Variable\n",
        "            permutation = torch.randperm(X.size()[0])\n",
        "            for i in range(0,X.size()[0], batch_size):\n",
        "                indices = permutation[i:i+batch_size]\n",
        "                batch_x, batch_y = X[indices], y[indices]\n",
        "                y_hat = model(batch_x)\n",
        "                b = list(model.parameters())[1]\n",
        "                w = list(model.parameters())[0]\n",
        "                l2_regularization = torch.norm(b) + torch.norm(w)\n",
        "                loss = criterion(y_hat, torch.max(batch_y, 1)[1]) + lambda_param*l2_regularization\n",
        "                if w.grad is not None:\n",
        "                    w.grad.zero_()\n",
        "                if b.grad is not None:\n",
        "                    b.grad.zero_()\n",
        "                loss.backward()\n",
        "                with torch.no_grad():  # 3\n",
        "                    m_w = beta*m_w + w.grad\n",
        "                    m_b = beta*m_b +b.grad\n",
        "                    w -= learning_rate * m_w\n",
        "                    b -= learning_rate * m_b\n",
        "                #Test Accuracy\n",
        "            y_hat_test = model(Xtest)     \n",
        "            _, predicted_test = torch.max(y_hat_test.data,1)\n",
        "            correct_test = (predicted_test == torch.max(ytest, 1)[1])    \n",
        "            accuracy_test = int(correct_test.sum()) / correct_test.shape[0]\n",
        "            if (epoch+1)%(1)==0:    \n",
        "                print(\"Epoch number:\"+str(epoch+1)+\" | Test Accuracy \"+str(accuracy_test))\n"
      ],
      "execution_count": null,
      "outputs": [
        {
          "output_type": "stream",
          "text": [
            "BATCH SIZE:1\n",
            "LAMBDA:0.01\n",
            "Epoch number:2 | Test Accuracy 0.9019\n",
            "LAMBDA:0.1\n",
            "Epoch number:2 | Test Accuracy 0.8613\n",
            "LAMBDA:1\n",
            "Epoch number:2 | Test Accuracy 0.4374\n"
          ],
          "name": "stdout"
        }
      ]
    },
    {
      "cell_type": "markdown",
      "metadata": {
        "id": "mR9NtmWcJwZq"
      },
      "source": [
        "**NAG Method**"
      ]
    },
    {
      "cell_type": "code",
      "metadata": {
        "id": "_KFQ810GJwso",
        "outputId": "2eef7c91-fa91-4442-b3ee-57cd1cc05f8a",
        "colab": {
          "base_uri": "https://localhost:8080/"
        }
      },
      "source": [
        "lambdas = [0.01,0.1,1]\n",
        "learning_rate = 0.001\n",
        "beta = 0.95\n",
        "n_epochs = 200    \n",
        "batch_sizes = [500,60000]    \n",
        "    \n",
        "#Estimation \n",
        "for batch_size in batch_sizes:\n",
        "    print(\"BATCH SIZE:\"+str(batch_size))\n",
        "    for lambda_param in lambdas:\n",
        "        model = LogisticRegressionModel(X.shape[1], y.shape[1])\n",
        "        criterion = nn.CrossEntropyLoss()\n",
        "        m_w = torch.zeros((X.shape[1],y.shape[1] ))\n",
        "        m_w = m_w.T\n",
        "        m_b = torch.zeros(y.shape[1]) \n",
        "        lambdas_sequence = [0]\n",
        "        print(\"LAMBDA:\"+str(lambda_param))\n",
        "        for epoch in range(n_epochs):\n",
        "             # X is a torch Variable\n",
        "            permutation = torch.randperm(X.size()[0])\n",
        "            lambdas_sequence.append((1+(1+4*lambdas_sequence[epoch]**2)**(0.5))/2)\n",
        "            gamma = (1-lambdas_sequence[epoch])/lambdas_sequence[epoch+1]\n",
        "            for i in range(0,X.size()[0], batch_size):\n",
        "                indices = permutation[i:i+batch_size]\n",
        "                batch_x, batch_y = X[indices], y[indices]\n",
        "                y_hat = model(batch_x)\n",
        "                w = list(model.parameters())[0]\n",
        "                b = list(model.parameters())[1]\n",
        "                l2_regularization = torch.norm(b) + torch.norm(w)\n",
        "                loss = criterion(y_hat.squeeze(), torch.max(batch_y, 1)[1]) + lambda_param*l2_regularization\n",
        "                if w.grad is not None:\n",
        "                    w.grad.zero_()\n",
        "                if b.grad is not None:\n",
        "                    b.grad.zero_()    \n",
        "                loss.backward()\n",
        "                \n",
        "                with torch.no_grad():\n",
        "                    m_w_old = m_w\n",
        "                    m_b_old = m_b\n",
        "                    m_w = w  - (1/beta)*w.grad\n",
        "                    m_b = b - (1/beta)*b.grad\n",
        "                    w = (1-gamma)*m_w+gamma*m_w_old\n",
        "                    b = (1-gamma)*m_b+gamma*m_b_old\n",
        "                model.linear.weight.data = w.clone()\n",
        "                model.linear.bias.data = b.clone()\n",
        "            #Test Accuracy\n",
        "            y_hat_test = model(Xtest)     \n",
        "            _, predicted_test = torch.max(y_hat_test.data,1)\n",
        "            correct_test = (predicted_test == torch.max(ytest, 1)[1])    \n",
        "            accuracy_test = int(correct_test.sum()) / correct_test.shape[0]\n",
        "            if (epoch+1)%(10*5)==0:    \n",
        "                print(\"Epoch number:\"+str(epoch+1)+\" | Test Accuracy \"+str(accuracy_test))\n"
      ],
      "execution_count": 11,
      "outputs": [
        {
          "output_type": "stream",
          "text": [
            "BATCH SIZE:500\n",
            "LAMBDA:0.01\n",
            "Epoch number:50 | Test Accuracy 0.8935\n",
            "Epoch number:100 | Test Accuracy 0.8764\n",
            "Epoch number:150 | Test Accuracy 0.8575\n",
            "Epoch number:200 | Test Accuracy 0.8787\n",
            "LAMBDA:0.1\n",
            "Epoch number:50 | Test Accuracy 0.7738\n",
            "Epoch number:100 | Test Accuracy 0.6157\n",
            "Epoch number:150 | Test Accuracy 0.6498\n",
            "Epoch number:200 | Test Accuracy 0.7572\n",
            "LAMBDA:1\n",
            "Epoch number:50 | Test Accuracy 0.3086\n",
            "Epoch number:100 | Test Accuracy 0.5147\n",
            "Epoch number:150 | Test Accuracy 0.4211\n",
            "Epoch number:200 | Test Accuracy 0.4493\n",
            "BATCH SIZE:60000\n",
            "LAMBDA:0.01\n",
            "Epoch number:50 | Test Accuracy 0.9\n",
            "Epoch number:100 | Test Accuracy 0.8993\n",
            "Epoch number:150 | Test Accuracy 0.9003\n",
            "Epoch number:200 | Test Accuracy 0.9041\n",
            "LAMBDA:0.1\n",
            "Epoch number:50 | Test Accuracy 0.8721\n",
            "Epoch number:100 | Test Accuracy 0.6815\n",
            "Epoch number:150 | Test Accuracy 0.5388\n",
            "Epoch number:200 | Test Accuracy 0.5801\n",
            "LAMBDA:1\n",
            "Epoch number:50 | Test Accuracy 0.2401\n",
            "Epoch number:100 | Test Accuracy 0.2899\n",
            "Epoch number:150 | Test Accuracy 0.555\n",
            "Epoch number:200 | Test Accuracy 0.2567\n"
          ],
          "name": "stdout"
        }
      ]
    },
    {
      "cell_type": "code",
      "metadata": {
        "id": "TdBCGd3DXuZF",
        "outputId": "f757d191-a213-425d-9dc8-eeaa05e7c760",
        "colab": {
          "base_uri": "https://localhost:8080/"
        }
      },
      "source": [
        "lambdas = [0.01,0.1,1]\n",
        "learning_rate = 0.001\n",
        "beta = 0.95\n",
        "n_epochs = 2    \n",
        "batch_sizes = [1]    \n",
        "    \n",
        "#Estimation \n",
        "for batch_size in batch_sizes:\n",
        "    print(\"BATCH SIZE:\"+str(batch_size))\n",
        "    for lambda_param in lambdas:\n",
        "        model = LogisticRegressionModel(X.shape[1], y.shape[1])\n",
        "        criterion = nn.CrossEntropyLoss()\n",
        "        m_w = torch.zeros((X.shape[1],y.shape[1] ))\n",
        "        m_w = m_w.T\n",
        "        m_b = torch.zeros(y.shape[1]) \n",
        "        lambdas_sequence = [0]\n",
        "        print(\"LAMBDA:\"+str(lambda_param))\n",
        "        for epoch in range(n_epochs):\n",
        "             # X is a torch Variable\n",
        "            permutation = torch.randperm(X.size()[0])\n",
        "            lambdas_sequence.append((1+(1+4*lambdas_sequence[epoch]**2)**(0.5))/2)\n",
        "            gamma = (1-lambdas_sequence[epoch])/lambdas_sequence[epoch+1]\n",
        "            for i in range(0,X.size()[0], batch_size):\n",
        "                indices = permutation[i:i+batch_size]\n",
        "                batch_x, batch_y = X[indices], y[indices]\n",
        "                y_hat = model(batch_x)\n",
        "                w = list(model.parameters())[0]\n",
        "                b = list(model.parameters())[1]\n",
        "                l2_regularization = torch.norm(b) + torch.norm(w)\n",
        "                loss = criterion(y_hat, torch.max(batch_y, 1)[1]) + lambda_param*l2_regularization\n",
        "                if w.grad is not None:\n",
        "                    w.grad.zero_()\n",
        "                if b.grad is not None:\n",
        "                    b.grad.zero_()    \n",
        "                loss.backward()\n",
        "                \n",
        "                with torch.no_grad():\n",
        "                    m_w_old = m_w\n",
        "                    m_b_old = m_b\n",
        "                    m_w = w  - (1/beta)*w.grad\n",
        "                    m_b = b - (1/beta)*b.grad\n",
        "                    w = (1-gamma)*m_w+gamma*m_w_old\n",
        "                    b = (1-gamma)*m_b+gamma*m_b_old\n",
        "                model.linear.weight.data = w.clone()\n",
        "                model.linear.bias.data = b.clone()\n",
        "            #Test Accuracy\n",
        "            y_hat_test = model(Xtest)     \n",
        "            _, predicted_test = torch.max(y_hat_test.data,1)\n",
        "            correct_test = (predicted_test == torch.max(ytest, 1)[1])    \n",
        "            accuracy_test = int(correct_test.sum()) / correct_test.shape[0]\n",
        "            if (epoch+1)%(1)==0:    \n",
        "                print(\"Epoch number:\"+str(epoch+1)+\" | Test Accuracy \"+str(accuracy_test))\n",
        "\n"
      ],
      "execution_count": 12,
      "outputs": [
        {
          "output_type": "stream",
          "text": [
            "BATCH SIZE:1\n",
            "LAMBDA:0.01\n",
            "Epoch number:1 | Test Accuracy 0.8398\n",
            "Epoch number:2 | Test Accuracy 0.822\n",
            "LAMBDA:0.1\n",
            "Epoch number:1 | Test Accuracy 0.738\n",
            "Epoch number:2 | Test Accuracy 0.678\n",
            "LAMBDA:1\n",
            "Epoch number:1 | Test Accuracy 0.383\n",
            "Epoch number:2 | Test Accuracy 0.2667\n"
          ],
          "name": "stdout"
        }
      ]
    },
    {
      "cell_type": "markdown",
      "metadata": {
        "id": "5c4QSUyzJ1sj"
      },
      "source": [
        "**RMSprop Method**"
      ]
    },
    {
      "cell_type": "code",
      "metadata": {
        "id": "7xEh2RTeJ5Qe",
        "outputId": "6b4a5d56-0df9-4755-e0a6-20519d7273f7",
        "colab": {
          "base_uri": "https://localhost:8080/"
        }
      },
      "source": [
        "#Initialize Model Parameters\n",
        "lambdas = [0.01,0.1,1]\n",
        "learning_rate = 0.001\n",
        "beta = 0.9\n",
        "gamma = 1\n",
        "epsilon = 10**(-8)\n",
        "n_epochs = 200     \n",
        "batch_sizes = [500,60000]    \n",
        "    \n",
        "#Estimation \n",
        "for batch_size in batch_sizes:\n",
        "    print(\"BATCH SIZE:\"+str(batch_size))\n",
        "    for lambda_param in lambdas:\n",
        "        model = LogisticRegressionModel(X.shape[1], y.shape[1])\n",
        "        criterion = nn.CrossEntropyLoss()\n",
        "        v_w = torch.zeros((X.shape[1],y.shape[1] ))\n",
        "        v_w = v_w.T\n",
        "        v_b = torch.zeros(y.shape[1])    \n",
        "        print(\"LAMBDA:\"+str(lambda_param))\n",
        "        for epoch in list(range(n_epochs))[1:]:\n",
        "             # X is a torch Variable\n",
        "            permutation = torch.randperm(X.size()[0])\n",
        "            for i in range(0,X.size()[0], batch_size):\n",
        "                indices = permutation[i:i+batch_size]\n",
        "                batch_x, batch_y = X[indices], y[indices]\n",
        "                y_hat = model(batch_x)\n",
        "                b = list(model.parameters())[1]\n",
        "                w = list(model.parameters())[0]\n",
        "                l2_regularization = torch.norm(b) + torch.norm(w)\n",
        "                loss = criterion(y_hat.squeeze(), torch.max(batch_y, 1)[1]) + lambda_param*l2_regularization\n",
        "                if w.grad is not None:\n",
        "                    w.grad.zero_()\n",
        "                if b.grad is not None:\n",
        "                    b.grad.zero_()\n",
        "                loss.backward()\n",
        "                with torch.no_grad():  # 3\n",
        "                    v_w = (1-beta)*v_w + beta*(w.grad*w.grad)\n",
        "                    v_b = (1-beta)*v_b + beta*(b.grad*b.grad)\n",
        "                    b_w = torch.div(gamma, epsilon + torch.sqrt(v_w)) \n",
        "                    b_b = torch.div(gamma, epsilon + torch.sqrt(v_b))\n",
        "                    w -= learning_rate * (w.grad*b_w)\n",
        "                    b -= learning_rate * (b.grad*b_b)\n",
        "            #Test Accuracy\n",
        "            y_hat_test = model(Xtest)     \n",
        "            _, predicted_test = torch.max(y_hat_test.data,1)\n",
        "            correct_test = (predicted_test == torch.max(ytest, 1)[1])    \n",
        "            accuracy_test = int(correct_test.sum()) / correct_test.shape[0]\n",
        "            if (epoch+1)%(5*10)==0:\n",
        "                print(\"Epoch number:\"+str(epoch+1)+\" | Test Accuracy \"+str(accuracy_test))\n",
        "\n",
        "    "
      ],
      "execution_count": null,
      "outputs": [
        {
          "output_type": "stream",
          "text": [
            "BATCH SIZE:500\n",
            "LAMBDA:0.01\n",
            "Epoch number:50 | Test Accuracy 0.9118\n",
            "Epoch number:100 | Test Accuracy 0.9097\n",
            "Epoch number:150 | Test Accuracy 0.9095\n",
            "Epoch number:200 | Test Accuracy 0.9097\n",
            "LAMBDA:0.1\n",
            "Epoch number:50 | Test Accuracy 0.8807\n",
            "Epoch number:100 | Test Accuracy 0.8799\n",
            "Epoch number:150 | Test Accuracy 0.8818\n",
            "Epoch number:200 | Test Accuracy 0.8795\n",
            "LAMBDA:1\n",
            "Epoch number:50 | Test Accuracy 0.7091\n",
            "Epoch number:100 | Test Accuracy 0.6722\n",
            "Epoch number:150 | Test Accuracy 0.6861\n",
            "Epoch number:200 | Test Accuracy 0.6546\n",
            "BATCH SIZE:60000\n",
            "LAMBDA:0.01\n",
            "Epoch number:50 | Test Accuracy 0.8221\n",
            "Epoch number:100 | Test Accuracy 0.8704\n",
            "Epoch number:150 | Test Accuracy 0.8908\n",
            "Epoch number:200 | Test Accuracy 0.9003\n",
            "LAMBDA:0.1\n",
            "Epoch number:50 | Test Accuracy 0.8216\n",
            "Epoch number:100 | Test Accuracy 0.8629\n",
            "Epoch number:150 | Test Accuracy 0.8738\n",
            "Epoch number:200 | Test Accuracy 0.8774\n",
            "LAMBDA:1\n",
            "Epoch number:50 | Test Accuracy 0.6992\n",
            "Epoch number:100 | Test Accuracy 0.6627\n",
            "Epoch number:150 | Test Accuracy 0.6519\n",
            "Epoch number:200 | Test Accuracy 0.6494\n"
          ],
          "name": "stdout"
        }
      ]
    },
    {
      "cell_type": "code",
      "metadata": {
        "id": "QfeNhKLqYRob",
        "outputId": "970353b0-726e-4553-b467-21b4b1978422",
        "colab": {
          "base_uri": "https://localhost:8080/"
        }
      },
      "source": [
        "#Initialize Model Parameters\n",
        "lambdas = [0.01,0.1,1]\n",
        "learning_rate = 0.001\n",
        "beta = 0.9\n",
        "gamma = 1\n",
        "epsilon = 10**(-8)\n",
        "n_epochs = 2    \n",
        "batch_sizes = [1]    \n",
        "    \n",
        "#Estimation \n",
        "for batch_size in batch_sizes:\n",
        "    print(\"BATCH SIZE:\"+str(batch_size))\n",
        "    for lambda_param in lambdas:\n",
        "        model = LogisticRegressionModel(X.shape[1], y.shape[1])\n",
        "        criterion = nn.CrossEntropyLoss()\n",
        "        v_w = torch.zeros((X.shape[1],y.shape[1] ))\n",
        "        v_w = v_w.T\n",
        "        v_b = torch.zeros(y.shape[1])    \n",
        "        print(\"LAMBDA:\"+str(lambda_param))\n",
        "        for epoch in list(range(n_epochs))[1:]:\n",
        "             # X is a torch Variable\n",
        "            permutation = torch.randperm(X.size()[0])\n",
        "            for i in range(0,X.size()[0], batch_size):\n",
        "                indices = permutation[i:i+batch_size]\n",
        "                batch_x, batch_y = X[indices], y[indices]\n",
        "                y_hat = model(batch_x)\n",
        "                b = list(model.parameters())[1]\n",
        "                w = list(model.parameters())[0]\n",
        "                l2_regularization = torch.norm(b) + torch.norm(w)\n",
        "                loss = criterion(y_hat, torch.max(batch_y, 1)[1]) + lambda_param*l2_regularization\n",
        "                if w.grad is not None:\n",
        "                    w.grad.zero_()\n",
        "                if b.grad is not None:\n",
        "                    b.grad.zero_()\n",
        "                loss.backward()\n",
        "                with torch.no_grad():  # 3\n",
        "                    v_w = (1-beta)*v_w + beta*(w.grad*w.grad)\n",
        "                    v_b = (1-beta)*v_b + beta*(b.grad*b.grad)\n",
        "                    b_w = torch.div(gamma, epsilon + torch.sqrt(v_w)) \n",
        "                    b_b = torch.div(gamma, epsilon + torch.sqrt(v_b))\n",
        "                    w -= learning_rate * (w.grad*b_w)\n",
        "                    b -= learning_rate * (b.grad*b_b)\n",
        "            #Test Accuracy\n",
        "            y_hat_test = model(Xtest)     \n",
        "            _, predicted_test = torch.max(y_hat_test.data,1)\n",
        "            correct_test = (predicted_test == torch.max(ytest, 1)[1])    \n",
        "            accuracy_test = int(correct_test.sum()) / correct_test.shape[0]\n",
        "            if (epoch+1)%(1)==0:\n",
        "                print(\"Epoch number:\"+str(epoch+1)+\" | Test Accuracy \"+str(accuracy_test))\n",
        "\n",
        "    "
      ],
      "execution_count": null,
      "outputs": [
        {
          "output_type": "stream",
          "text": [
            "BATCH SIZE:1\n",
            "LAMBDA:0.01\n",
            "Epoch number:2 | Test Accuracy 0.7677\n",
            "LAMBDA:0.1\n",
            "Epoch number:2 | Test Accuracy 0.7502\n",
            "LAMBDA:1\n",
            "Epoch number:2 | Test Accuracy 0.2219\n"
          ],
          "name": "stdout"
        }
      ]
    },
    {
      "cell_type": "markdown",
      "metadata": {
        "id": "rQo-LisAmlW6"
      },
      "source": [
        "**ADAM Method**"
      ]
    },
    {
      "cell_type": "code",
      "metadata": {
        "id": "Lu-RbZJPtOxw",
        "outputId": "0ed77cb7-c4a8-4b09-b279-9284f937e897",
        "colab": {
          "base_uri": "https://localhost:8080/"
        }
      },
      "source": [
        "#Initialize Model Parameters\n",
        "learning_rate = 0.001\n",
        "beta_1 = 0.9\n",
        "beta_2 = 0.999\n",
        "epsilon = 10**(-8)\n",
        "n_epochs = 200\n",
        "lambdas = [0.01,0.1,1]\n",
        "batch_sizes = [500,60000]    \n",
        "\n",
        "#Estimation \n",
        "for batch_size in batch_sizes:\n",
        "    print(\"BATCH SIZE:\"+str(batch_size))\n",
        "    for lambda_param in lambdas:\n",
        "        model = LogisticRegressionModel(X.shape[1], y.shape[1])\n",
        "        criterion = nn.CrossEntropyLoss()\n",
        "        m_w_1 = torch.zeros((X.shape[1],y.shape[1] ))\n",
        "        m_w_1 = m_w_1.T\n",
        "        m_w_2 = torch.zeros((X.shape[1],y.shape[1] ))\n",
        "        m_w_2 = m_w_2.T\n",
        "        m_b_1 = torch.zeros(y.shape[1])  \n",
        "        m_b_2 = torch.zeros(y.shape[1])   \n",
        "        print(\"LAMBDA:\"+str(lambda_param))\n",
        "        for k in list(range(n_epochs))[1:]:\n",
        "            k +=1\n",
        "             # X is a torch Variable\n",
        "            permutation = torch.randperm(X.size()[0])\n",
        "            for i in range(0,X.size()[0], batch_size):\n",
        "                indices = permutation[i:i+batch_size]\n",
        "                batch_x, batch_y = X[indices], y[indices]\n",
        "                y_hat = model(batch_x)\n",
        "                b = list(model.parameters())[1]\n",
        "                w = list(model.parameters())[0]\n",
        "                l2_regularization = torch.norm(b) + torch.norm(w)\n",
        "                loss = criterion(y_hat.squeeze(), torch.max(batch_y, 1)[1]) + lambda_param*l2_regularization\n",
        "                if w.grad is not None:\n",
        "                    w.grad.zero_()\n",
        "                if b.grad is not None:\n",
        "                    b.grad.zero_()\n",
        "                loss.backward()\n",
        "                with torch.no_grad():\n",
        "                    m_w_1 = beta_1*m_w_1 + (1-beta_1)*w.grad\n",
        "                    m_b_1 = beta_1*m_b_1 + (1-beta_1)*b.grad\n",
        "                    m_w_tilde_1 = m_w_1*(1-beta_1**(k-1))**(-1)        \n",
        "                    m_b_tilde_1 = m_b_1*(1-beta_1**(k-1))**(-1)        \n",
        "                    m_w_2 = beta_2*m_w_2 + (1-beta_2)*(w.grad*w.grad)\n",
        "                    m_b_2 = beta_2*m_b_2 + (1-beta_2)*(b.grad*b.grad)        \n",
        "                    m_w_tilde_2 = m_w_2*(1-beta_2**(k-1))**(-1)        \n",
        "                    m_b_tilde_2 = m_b_2*(1-beta_2**(k-1))**(-1)      \n",
        "                    w -= learning_rate*torch.div(m_w_tilde_1, epsilon + torch.sqrt(m_w_tilde_2))\n",
        "                    b -= learning_rate*torch.div(m_b_tilde_1, epsilon + torch.sqrt(m_b_tilde_2))\n",
        "            #Test Accuracy\n",
        "            y_hat_test = model(Xtest)     \n",
        "            _, predicted_test = torch.max(y_hat_test.data,1)\n",
        "            correct_test = (predicted_test == torch.max(ytest, 1)[1])    \n",
        "            accuracy_test = int(correct_test.sum()) / correct_test.shape[0]\n",
        "            if (k)%(5*10)==0:       \n",
        "                print(\"Epoch number:\"+str(k)+\" | Test Accuracy \"+str(accuracy_test))\n"
      ],
      "execution_count": null,
      "outputs": [
        {
          "output_type": "stream",
          "text": [
            "BATCH SIZE:500\n",
            "LAMBDA:0.01\n",
            "Epoch number:50 | Test Accuracy 0.9091\n",
            "Epoch number:100 | Test Accuracy 0.9104\n",
            "Epoch number:150 | Test Accuracy 0.9114\n",
            "Epoch number:200 | Test Accuracy 0.9104\n",
            "LAMBDA:0.1\n",
            "Epoch number:50 | Test Accuracy 0.8829\n",
            "Epoch number:100 | Test Accuracy 0.8807\n",
            "Epoch number:150 | Test Accuracy 0.8822\n",
            "Epoch number:200 | Test Accuracy 0.8824\n",
            "LAMBDA:1\n",
            "Epoch number:50 | Test Accuracy 0.697\n",
            "Epoch number:100 | Test Accuracy 0.6831\n",
            "Epoch number:150 | Test Accuracy 0.6528\n",
            "Epoch number:200 | Test Accuracy 0.7031\n",
            "BATCH SIZE:60000\n",
            "LAMBDA:0.01\n",
            "Epoch number:50 | Test Accuracy 0.8145\n",
            "Epoch number:100 | Test Accuracy 0.8551\n",
            "Epoch number:150 | Test Accuracy 0.8708\n",
            "Epoch number:200 | Test Accuracy 0.8817\n",
            "LAMBDA:0.1\n",
            "Epoch number:50 | Test Accuracy 0.8142\n",
            "Epoch number:100 | Test Accuracy 0.8491\n",
            "Epoch number:150 | Test Accuracy 0.8614\n",
            "Epoch number:200 | Test Accuracy 0.8693\n",
            "LAMBDA:1\n",
            "Epoch number:50 | Test Accuracy 0.7619\n",
            "Epoch number:100 | Test Accuracy 0.7344\n",
            "Epoch number:150 | Test Accuracy 0.7143\n",
            "Epoch number:200 | Test Accuracy 0.7127\n"
          ],
          "name": "stdout"
        }
      ]
    },
    {
      "cell_type": "code",
      "metadata": {
        "id": "8abrgXsxY5K0",
        "outputId": "2d806774-a3d2-4b3b-b61d-7b545b77ff78",
        "colab": {
          "base_uri": "https://localhost:8080/"
        }
      },
      "source": [
        "#Initialize Model Parameters\n",
        "learning_rate = 0.001\n",
        "beta_1 = 0.9\n",
        "beta_2 = 0.999\n",
        "epsilon = 10**(-8)\n",
        "n_epochs = 2\n",
        "lambdas = [0.01,0.1,1]\n",
        "batch_sizes = [1]    \n",
        "\n",
        "#Estimation \n",
        "for batch_size in batch_sizes:\n",
        "    print(\"BATCH SIZE:\"+str(batch_size))\n",
        "    for lambda_param in lambdas:\n",
        "        model = LogisticRegressionModel(X.shape[1], y.shape[1])\n",
        "        criterion = nn.CrossEntropyLoss()\n",
        "        m_w_1 = torch.zeros((X.shape[1],y.shape[1] ))\n",
        "        m_w_1 = m_w_1.T\n",
        "        m_w_2 = torch.zeros((X.shape[1],y.shape[1] ))\n",
        "        m_w_2 = m_w_2.T\n",
        "        m_b_1 = torch.zeros(y.shape[1])  \n",
        "        m_b_2 = torch.zeros(y.shape[1])   \n",
        "        print(\"LAMBDA:\"+str(lambda_param))\n",
        "        for k in list(range(n_epochs))[1:]:\n",
        "            k +=1\n",
        "             # X is a torch Variable\n",
        "            permutation = torch.randperm(X.size()[0])\n",
        "            for i in range(0,X.size()[0], batch_size):\n",
        "                indices = permutation[i:i+batch_size]\n",
        "                batch_x, batch_y = X[indices], y[indices]\n",
        "                y_hat = model(batch_x)\n",
        "                b = list(model.parameters())[1]\n",
        "                w = list(model.parameters())[0]\n",
        "                l2_regularization = torch.norm(b) + torch.norm(w)\n",
        "                loss = criterion(y_hat, torch.max(batch_y, 1)[1]) + lambda_param*l2_regularization\n",
        "                if w.grad is not None:\n",
        "                    w.grad.zero_()\n",
        "                if b.grad is not None:\n",
        "                    b.grad.zero_()\n",
        "                loss.backward()\n",
        "                with torch.no_grad():\n",
        "                    m_w_1 = beta_1*m_w_1 + (1-beta_1)*w.grad\n",
        "                    m_b_1 = beta_1*m_b_1 + (1-beta_1)*b.grad\n",
        "                    m_w_tilde_1 = m_w_1*(1-beta_1**(k-1))**(-1)        \n",
        "                    m_b_tilde_1 = m_b_1*(1-beta_1**(k-1))**(-1)        \n",
        "                    m_w_2 = beta_2*m_w_2 + (1-beta_2)*(w.grad*w.grad)\n",
        "                    m_b_2 = beta_2*m_b_2 + (1-beta_2)*(b.grad*b.grad)        \n",
        "                    m_w_tilde_2 = m_w_2*(1-beta_2**(k-1))**(-1)        \n",
        "                    m_b_tilde_2 = m_b_2*(1-beta_2**(k-1))**(-1)      \n",
        "                    w -= learning_rate*torch.div(m_w_tilde_1, epsilon + torch.sqrt(m_w_tilde_2))\n",
        "                    b -= learning_rate*torch.div(m_b_tilde_1, epsilon + torch.sqrt(m_b_tilde_2))\n",
        "            #Test Accuracy\n",
        "            y_hat_test = model(Xtest)     \n",
        "            _, predicted_test = torch.max(y_hat_test.data,1)\n",
        "            correct_test = (predicted_test == torch.max(ytest, 1)[1])    \n",
        "            accuracy_test = int(correct_test.sum()) / correct_test.shape[0]\n",
        "            if (k+1)%(1)==0:       \n",
        "                print(\"Epoch number:\"+str(epoch+1)+\" | Test Accuracy \"+str(accuracy_test))\n"
      ],
      "execution_count": null,
      "outputs": [
        {
          "output_type": "stream",
          "text": [
            "BATCH SIZE:1\n",
            "LAMBDA:0.01\n",
            "Epoch number:2 | Test Accuracy 0.9054\n",
            "LAMBDA:0.1\n",
            "Epoch number:2 | Test Accuracy 0.8785\n",
            "LAMBDA:1\n",
            "Epoch number:2 | Test Accuracy 0.5542\n"
          ],
          "name": "stdout"
        }
      ]
    }
  ]
}