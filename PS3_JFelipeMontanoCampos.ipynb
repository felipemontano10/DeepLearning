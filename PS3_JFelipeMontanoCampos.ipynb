{
  "nbformat": 4,
  "nbformat_minor": 0,
  "metadata": {
    "colab": {
      "name": "PS3_JFelipeMontanoCampos.ipynb",
      "provenance": [],
      "authorship_tag": "ABX9TyOvqXPucJbWv/I+x39aEZSO",
      "include_colab_link": true
    },
    "kernelspec": {
      "name": "python3",
      "display_name": "Python 3"
    }
  },
  "cells": [
    {
      "cell_type": "markdown",
      "metadata": {
        "id": "view-in-github",
        "colab_type": "text"
      },
      "source": [
        "<a href=\"https://colab.research.google.com/github/felipemontano10/DeepLearning/blob/master/PS3_JFelipeMontanoCampos.ipynb\" target=\"_parent\"><img src=\"https://colab.research.google.com/assets/colab-badge.svg\" alt=\"Open In Colab\"/></a>"
      ]
    },
    {
      "cell_type": "markdown",
      "metadata": {
        "id": "vXI5IF9-8XaV"
      },
      "source": [
        "### ECE 685D - Fall 2020\n",
        "## Problem Set 3 \n",
        "\n",
        "> J. Felipe Montano-Campos"
      ]
    },
    {
      "cell_type": "markdown",
      "metadata": {
        "id": "UBBOnwiF8Wjt"
      },
      "source": [
        "**Problem 3: Binary Classification with Generalized Linear Models**\n"
      ]
    },
    {
      "cell_type": "code",
      "metadata": {
        "id": "2rMDvYhl856J"
      },
      "source": [
        "import pandas as pd \n",
        "from sklearn.model_selection import train_test_split\n",
        "import numpy as np\n",
        "from numpy.linalg import inv\n",
        "from sklearn import preprocessing"
      ],
      "execution_count": 1,
      "outputs": []
    },
    {
      "cell_type": "code",
      "metadata": {
        "id": "KYG0rwoP_YuW",
        "outputId": "9123c309-a165-45ff-87a1-6ba76799e14b",
        "colab": {
          "resources": {
            "http://localhost:8080/nbextensions/google.colab/files.js": {
              "data": "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",
              "ok": true,
              "headers": [
                [
                  "content-type",
                  "application/javascript"
                ]
              ],
              "status": 200,
              "status_text": ""
            }
          },
          "base_uri": "https://localhost:8080/",
          "height": 72
        }
      },
      "source": [
        "from google.colab import files\n",
        "uploaded = files.upload()"
      ],
      "execution_count": 2,
      "outputs": [
        {
          "output_type": "display_data",
          "data": {
            "text/html": [
              "\n",
              "     <input type=\"file\" id=\"files-4f9103da-3ada-4e0f-a7ef-490e97a27c0e\" name=\"files[]\" multiple disabled\n",
              "        style=\"border:none\" />\n",
              "     <output id=\"result-4f9103da-3ada-4e0f-a7ef-490e97a27c0e\">\n",
              "      Upload widget is only available when the cell has been executed in the\n",
              "      current browser session. Please rerun this cell to enable.\n",
              "      </output>\n",
              "      <script src=\"/nbextensions/google.colab/files.js\"></script> "
            ],
            "text/plain": [
              "<IPython.core.display.HTML object>"
            ]
          },
          "metadata": {
            "tags": []
          }
        },
        {
          "output_type": "stream",
          "text": [
            "Saving breast_cancer.csv to breast_cancer.csv\n"
          ],
          "name": "stdout"
        }
      ]
    },
    {
      "cell_type": "code",
      "metadata": {
        "id": "P-v0M0QC8_zM"
      },
      "source": [
        "#Data Preparation \n",
        "cancer_data = pd.read_csv(\"breast_cancer.csv\") \n",
        "\n",
        "targets = cancer_data[\"diagnosis\"]\n",
        "targets = targets.replace({\"B\": 0, \"M\": 1})\n",
        "\n",
        "features = ['radius_mean', 'texture_mean', 'smoothness_mean',\n",
        "       'compactness_mean', 'symmetry_mean', 'fractal_dimension_mean',\n",
        "       'radius_se', 'texture_se', 'smoothness_se', 'compactness_se',\n",
        "       'symmetry_se', 'fractal_dimension_se']\n",
        "\n",
        "features_df = cancer_data[features]\n",
        "\n",
        "X_train, X_test, y_train, y_test = train_test_split(features_df, targets, test_size=0.3, random_state=40)\n",
        "\n",
        "\n"
      ],
      "execution_count": 3,
      "outputs": []
    },
    {
      "cell_type": "markdown",
      "metadata": {
        "id": "6yTwsADfCMD4"
      },
      "source": [
        "**Discriminant Analysis**"
      ]
    },
    {
      "cell_type": "code",
      "metadata": {
        "id": "U7n_wLyd9NwY"
      },
      "source": [
        "##Discriminant Analysis\n",
        "\n",
        "def discriminant_binary(X_train, y_train, X_test, y_test):\n",
        "    train = pd.concat([X_train, y_train], axis=1, sort=False)\n",
        "    sigma =  np.cov(X_train.T)\n",
        "    sigma_inv = inv(sigma)\n",
        "    mu_1 = train.loc[train[\"diagnosis\"]==1].mean() \n",
        "    mu_2 = train.loc[train[\"diagnosis\"]==0].mean()\n",
        "    mu_1 = np.array(mu_1.drop(index = \"diagnosis\"))\n",
        "    mu_2 = np.array(mu_2.drop(index = \"diagnosis\"))\n",
        "    p_c1 = np.mean(np.array(train[\"diagnosis\"]))\n",
        "    p_c2 = 1-p_c1\n",
        "    w = np.matmul(sigma_inv,(mu_1-mu_2))\n",
        "    w_0 = -0.5*np.matmul(np.matmul(mu_1.T,sigma_inv),mu_1)+ 0.5*np.matmul(np.matmul(mu_2.T,sigma_inv),mu_2)+np.log(p_c1/p_c2)\n",
        "    train_pred = w_0 + np.matmul(np.array(X_train),w)\n",
        "    train_pred[train_pred > 0] =1\n",
        "    train_pred[train_pred < 0] = 0\n",
        "    correct_train = (train_pred == y_train)\n",
        "    accuracy_train = correct_train.sum() / correct_train.size\n",
        "    test_pred = w_0 + np.matmul(np.array(X_test),w)\n",
        "    test_pred[test_pred > 0] =1\n",
        "    test_pred[test_pred < 0] = 0\n",
        "    correct_test = (test_pred == y_test)    \n",
        "    accuracy_test = correct_test.sum() / correct_test.size\n",
        "    \n",
        "    return (accuracy_test, accuracy_train)"
      ],
      "execution_count": 4,
      "outputs": []
    },
    {
      "cell_type": "code",
      "metadata": {
        "id": "iyR3iWQY_y-l",
        "outputId": "3de618cd-3c2b-4006-a4a6-c9f0a83f5adb",
        "colab": {
          "base_uri": "https://localhost:8080/",
          "height": 51
        }
      },
      "source": [
        "test_acc, train_acc = discriminant_binary(X_train, y_train, X_test, y_test)\n",
        "print(\"Training Accuracy:\"+str(train_acc)) \n",
        "print(\"Test Accuracy:\"+str(test_acc)) "
      ],
      "execution_count": 5,
      "outputs": [
        {
          "output_type": "stream",
          "text": [
            "Training Accuracy:0.8944723618090452\n",
            "Test Accuracy:0.935672514619883\n"
          ],
          "name": "stdout"
        }
      ]
    },
    {
      "cell_type": "markdown",
      "metadata": {
        "id": "nVBSj_g6CQwu"
      },
      "source": [
        "**Logistic Regression**"
      ]
    },
    {
      "cell_type": "code",
      "metadata": {
        "id": "ydYrYKwmIZtX"
      },
      "source": [
        "#Import Packages\n",
        "import torch\n",
        "import torch.nn as nn\n",
        "import matplotlib.pyplot as plt\n",
        "\n",
        "#Pre Process Data\n",
        "X_train = preprocessing.scale(X_train)\n",
        "X_test = preprocessing.scale(X_test)"
      ],
      "execution_count": 7,
      "outputs": []
    },
    {
      "cell_type": "code",
      "metadata": {
        "id": "OMggustjBZA5"
      },
      "source": [
        "class LogisticRegressionModel(nn.Module):\n",
        "    def __init__(self, input_dim, output_dim):\n",
        "        super(LogisticRegressionModel, self).__init__()\n",
        "        self.linear = nn.Linear(input_dim, output_dim,bias=False)\n",
        "\n",
        "    def forward(self, x):\n",
        "        out = self.linear(x)\n",
        "        return out\n",
        "\n",
        "\n",
        "n_epochs = 50\n",
        "n_samples = X_train.shape[0]\n",
        "n_features = X_train.shape[1]\n",
        "n_classes = y_train.value_counts().shape[0]\n",
        "learning_rate = 0.1"
      ],
      "execution_count": 8,
      "outputs": []
    },
    {
      "cell_type": "code",
      "metadata": {
        "id": "pQ40Qz8QBa-_"
      },
      "source": [
        "#Define the Logistic Regression Function to train the model\n",
        "\n",
        "def LR(X_train, y_train, X_test, y_test, n_epochs, n_features,n_classes,learning_rate):\n",
        "    X, y = torch.from_numpy(np.array(X_train)).float(), torch.from_numpy(np.array(y_train)).long()\n",
        "    Xtest, ytest = torch.from_numpy(np.array(X_test)).float(), torch.from_numpy(np.array(y_test)).long()    \n",
        "    model = LogisticRegressionModel(n_features, n_classes)\n",
        "    optimizer = torch.optim.SGD(model.parameters(), lr= learning_rate) # Experiment to see the senstivity of learning rate with SGD\n",
        "    criterion = nn.CrossEntropyLoss()\n",
        "    # Train\n",
        "    model.train('True')\n",
        "    loss_train = []\n",
        "    loss_test = []\n",
        "    train_list = []\n",
        "    test_list = []\n",
        "    for epoch in range(n_epochs):\n",
        "        print(\"Epoch number:\"+str(epoch))        \n",
        "        y_hat = model(X)\n",
        "        loss = criterion(y_hat.squeeze(), y)\n",
        "        optimizer.zero_grad()\n",
        "        loss.backward() # Backward Pass\n",
        "        optimizer.step()\n",
        "        loss_train.append(loss.item())\n",
        "        #Training Accuracy\n",
        "        _, predicted = torch.max(y_hat.data,1)\n",
        "        correct = (predicted == y) \n",
        "        accuracy = int(correct.sum()) / correct.shape[0]\n",
        "        print(\"Training Accuracy\")\n",
        "        print(accuracy)\n",
        "        train_list.append(accuracy)\n",
        "        #Test Accuracy\n",
        "        y_hat_test = model(Xtest)     \n",
        "        losstest = criterion(y_hat_test.squeeze(), ytest)\n",
        "        loss_test.append(losstest.item())\n",
        "        _, predicted_test = torch.max(y_hat_test.data,1)\n",
        "        correct_test = (predicted_test == ytest)    \n",
        "        accuracy_test = int(correct_test.sum()) / correct_test.shape[0]\n",
        "        print(\"Test Accuracy\")\n",
        "        print(accuracy_test)\n",
        "        test_list.append(accuracy_test)\n",
        "    return (loss_train, loss_test ,train_list,test_list)\n"
      ],
      "execution_count": 9,
      "outputs": []
    },
    {
      "cell_type": "code",
      "metadata": {
        "id": "75Pl0SR5BbE6",
        "outputId": "62e8deb1-632f-41b9-e8f4-035b590a9167",
        "colab": {
          "base_uri": "https://localhost:8080/",
          "height": 1000
        }
      },
      "source": [
        "loss_train, loss_test, train_list, test_list = LR(X_train, y_train, X_test, y_test, n_epochs, n_features,n_classes,learning_rate)\n"
      ],
      "execution_count": 10,
      "outputs": [
        {
          "output_type": "stream",
          "text": [
            "Epoch number:0\n",
            "Training Accuracy\n",
            "0.31155778894472363\n",
            "Test Accuracy\n",
            "0.47368421052631576\n",
            "Epoch number:1\n",
            "Training Accuracy\n",
            "0.41708542713567837\n",
            "Test Accuracy\n",
            "0.5614035087719298\n",
            "Epoch number:2\n",
            "Training Accuracy\n",
            "0.5301507537688442\n",
            "Test Accuracy\n",
            "0.631578947368421\n",
            "Epoch number:3\n",
            "Training Accuracy\n",
            "0.6206030150753769\n",
            "Test Accuracy\n",
            "0.695906432748538\n",
            "Epoch number:4\n",
            "Training Accuracy\n",
            "0.678391959798995\n",
            "Test Accuracy\n",
            "0.7368421052631579\n",
            "Epoch number:5\n",
            "Training Accuracy\n",
            "0.7336683417085427\n",
            "Test Accuracy\n",
            "0.7719298245614035\n",
            "Epoch number:6\n",
            "Training Accuracy\n",
            "0.7763819095477387\n",
            "Test Accuracy\n",
            "0.7953216374269005\n",
            "Epoch number:7\n",
            "Training Accuracy\n",
            "0.8040201005025126\n",
            "Test Accuracy\n",
            "0.8128654970760234\n",
            "Epoch number:8\n",
            "Training Accuracy\n",
            "0.8241206030150754\n",
            "Test Accuracy\n",
            "0.8304093567251462\n",
            "Epoch number:9\n",
            "Training Accuracy\n",
            "0.8442211055276382\n",
            "Test Accuracy\n",
            "0.8362573099415205\n",
            "Epoch number:10\n",
            "Training Accuracy\n",
            "0.864321608040201\n",
            "Test Accuracy\n",
            "0.8421052631578947\n",
            "Epoch number:11\n",
            "Training Accuracy\n",
            "0.8743718592964824\n",
            "Test Accuracy\n",
            "0.8421052631578947\n",
            "Epoch number:12\n",
            "Training Accuracy\n",
            "0.8844221105527639\n",
            "Test Accuracy\n",
            "0.8538011695906432\n",
            "Epoch number:13\n",
            "Training Accuracy\n",
            "0.8894472361809045\n",
            "Test Accuracy\n",
            "0.8654970760233918\n",
            "Epoch number:14\n",
            "Training Accuracy\n",
            "0.8919597989949749\n",
            "Test Accuracy\n",
            "0.8771929824561403\n",
            "Epoch number:15\n",
            "Training Accuracy\n",
            "0.8969849246231156\n",
            "Test Accuracy\n",
            "0.8830409356725146\n",
            "Epoch number:16\n",
            "Training Accuracy\n",
            "0.9045226130653267\n",
            "Test Accuracy\n",
            "0.8830409356725146\n",
            "Epoch number:17\n",
            "Training Accuracy\n",
            "0.9095477386934674\n",
            "Test Accuracy\n",
            "0.8830409356725146\n",
            "Epoch number:18\n",
            "Training Accuracy\n",
            "0.9120603015075377\n",
            "Test Accuracy\n",
            "0.8830409356725146\n",
            "Epoch number:19\n",
            "Training Accuracy\n",
            "0.9195979899497487\n",
            "Test Accuracy\n",
            "0.8830409356725146\n",
            "Epoch number:20\n",
            "Training Accuracy\n",
            "0.9221105527638191\n",
            "Test Accuracy\n",
            "0.8830409356725146\n",
            "Epoch number:21\n",
            "Training Accuracy\n",
            "0.9221105527638191\n",
            "Test Accuracy\n",
            "0.8830409356725146\n",
            "Epoch number:22\n",
            "Training Accuracy\n",
            "0.9221105527638191\n",
            "Test Accuracy\n",
            "0.8830409356725146\n",
            "Epoch number:23\n",
            "Training Accuracy\n",
            "0.9221105527638191\n",
            "Test Accuracy\n",
            "0.8830409356725146\n",
            "Epoch number:24\n",
            "Training Accuracy\n",
            "0.9221105527638191\n",
            "Test Accuracy\n",
            "0.8830409356725146\n",
            "Epoch number:25\n",
            "Training Accuracy\n",
            "0.9221105527638191\n",
            "Test Accuracy\n",
            "0.8830409356725146\n",
            "Epoch number:26\n",
            "Training Accuracy\n",
            "0.9221105527638191\n",
            "Test Accuracy\n",
            "0.8830409356725146\n",
            "Epoch number:27\n",
            "Training Accuracy\n",
            "0.9246231155778895\n",
            "Test Accuracy\n",
            "0.8830409356725146\n",
            "Epoch number:28\n",
            "Training Accuracy\n",
            "0.9271356783919598\n",
            "Test Accuracy\n",
            "0.8830409356725146\n",
            "Epoch number:29\n",
            "Training Accuracy\n",
            "0.9271356783919598\n",
            "Test Accuracy\n",
            "0.8888888888888888\n",
            "Epoch number:30\n",
            "Training Accuracy\n",
            "0.9271356783919598\n",
            "Test Accuracy\n",
            "0.8888888888888888\n",
            "Epoch number:31\n",
            "Training Accuracy\n",
            "0.9271356783919598\n",
            "Test Accuracy\n",
            "0.8888888888888888\n",
            "Epoch number:32\n",
            "Training Accuracy\n",
            "0.9271356783919598\n",
            "Test Accuracy\n",
            "0.8888888888888888\n",
            "Epoch number:33\n",
            "Training Accuracy\n",
            "0.9271356783919598\n",
            "Test Accuracy\n",
            "0.8888888888888888\n",
            "Epoch number:34\n",
            "Training Accuracy\n",
            "0.9271356783919598\n",
            "Test Accuracy\n",
            "0.8947368421052632\n",
            "Epoch number:35\n",
            "Training Accuracy\n",
            "0.9271356783919598\n",
            "Test Accuracy\n",
            "0.8947368421052632\n",
            "Epoch number:36\n",
            "Training Accuracy\n",
            "0.9296482412060302\n",
            "Test Accuracy\n",
            "0.8947368421052632\n",
            "Epoch number:37\n",
            "Training Accuracy\n",
            "0.9321608040201005\n",
            "Test Accuracy\n",
            "0.8947368421052632\n",
            "Epoch number:38\n",
            "Training Accuracy\n",
            "0.9321608040201005\n",
            "Test Accuracy\n",
            "0.8947368421052632\n",
            "Epoch number:39\n",
            "Training Accuracy\n",
            "0.9321608040201005\n",
            "Test Accuracy\n",
            "0.8947368421052632\n",
            "Epoch number:40\n",
            "Training Accuracy\n",
            "0.9321608040201005\n",
            "Test Accuracy\n",
            "0.8947368421052632\n",
            "Epoch number:41\n",
            "Training Accuracy\n",
            "0.9321608040201005\n",
            "Test Accuracy\n",
            "0.9005847953216374\n",
            "Epoch number:42\n",
            "Training Accuracy\n",
            "0.9321608040201005\n",
            "Test Accuracy\n",
            "0.9064327485380117\n",
            "Epoch number:43\n",
            "Training Accuracy\n",
            "0.9321608040201005\n",
            "Test Accuracy\n",
            "0.9064327485380117\n",
            "Epoch number:44\n",
            "Training Accuracy\n",
            "0.9321608040201005\n",
            "Test Accuracy\n",
            "0.9064327485380117\n",
            "Epoch number:45\n",
            "Training Accuracy\n",
            "0.9321608040201005\n",
            "Test Accuracy\n",
            "0.9064327485380117\n",
            "Epoch number:46\n",
            "Training Accuracy\n",
            "0.9321608040201005\n",
            "Test Accuracy\n",
            "0.9064327485380117\n",
            "Epoch number:47\n",
            "Training Accuracy\n",
            "0.9321608040201005\n",
            "Test Accuracy\n",
            "0.9064327485380117\n",
            "Epoch number:48\n",
            "Training Accuracy\n",
            "0.9321608040201005\n",
            "Test Accuracy\n",
            "0.9181286549707602\n",
            "Epoch number:49\n",
            "Training Accuracy\n",
            "0.9321608040201005\n",
            "Test Accuracy\n",
            "0.9181286549707602\n"
          ],
          "name": "stdout"
        }
      ]
    },
    {
      "cell_type": "code",
      "metadata": {
        "id": "nz6u5mD3BbHk",
        "outputId": "c529dcd4-7b6c-485b-8a42-d326bb28b785",
        "colab": {
          "base_uri": "https://localhost:8080/",
          "height": 295
        }
      },
      "source": [
        "##Plot losses\n",
        "\n",
        "plt.plot(list(range(n_epochs)),loss_train, label = \"Training Set\" )\n",
        "plt.plot(list(range(n_epochs)),loss_test, label = \"Test Set\" )\n",
        "plt.title('Cross-Entropy Loss')\n",
        "plt.ylabel('Loss')\n",
        "plt.xlabel('Number of Epochs')\n",
        "plt.legend(loc='upper right')\n",
        "plt.show()"
      ],
      "execution_count": 11,
      "outputs": [
        {
          "output_type": "display_data",
          "data": {
            "image/png": "[encoded data removed]",
            "text/plain": [
              "<Figure size 432x288 with 1 Axes>"
            ]
          },
          "metadata": {
            "tags": [],
            "needs_background": "light"
          }
        }
      ]
    },
    {
      "cell_type": "code",
      "metadata": {
        "id": "4jRpaGgDBbKM",
        "outputId": "2e23c675-f998-409c-851e-720ea73a5a73",
        "colab": {
          "base_uri": "https://localhost:8080/",
          "height": 295
        }
      },
      "source": [
        "\n",
        "#Plot Accuracy\n",
        "plt.plot(list(range(n_epochs)),train_list, label = \"Training Set\" )\n",
        "plt.plot(list(range(n_epochs)),test_list, label = \"Test Set\" )\n",
        "plt.title('Evolution of Accuracy')\n",
        "plt.ylabel('Accuracy')\n",
        "plt.xlabel('Number of Epochs')\n",
        "plt.legend(loc='lower right')\n",
        "plt.show()"
      ],
      "execution_count": 12,
      "outputs": [
        {
          "output_type": "display_data",
          "data": {
            "image/png": "[encoded data removed]",
            "text/plain": [
              "<Figure size 432x288 with 1 Axes>"
            ]
          },
          "metadata": {
            "tags": [],
            "needs_background": "light"
          }
        }
      ]
    },
    {
      "cell_type": "markdown",
      "metadata": {
        "id": "CAuxfUqRBZrl"
      },
      "source": [
        "**Problem 5: First-order Optimization Methods**"
      ]
    },
    {
      "cell_type": "code",
      "metadata": {
        "id": "XKnJ_KhxBhRN"
      },
      "source": [
        "import scipy\n",
        "import scipy.io\n",
        "\n"
      ],
      "execution_count": 13,
      "outputs": []
    },
    {
      "cell_type": "code",
      "metadata": {
        "id": "aztKHUZxEKya",
        "outputId": "f311047f-66d4-4ef8-b0b7-7e9bffd370d1",
        "colab": {
          "resources": {
            "http://localhost:8080/nbextensions/google.colab/files.js": {
              "data": "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",
              "ok": true,
              "headers": [
                [
                  "content-type",
                  "application/javascript"
                ]
              ],
              "status": 200,
              "status_text": ""
            }
          },
          "base_uri": "https://localhost:8080/",
          "height": 72
        }
      },
      "source": [
        "from google.colab import files\n",
        "uploaded = files.upload()"
      ],
      "execution_count": 14,
      "outputs": [
        {
          "output_type": "display_data",
          "data": {
            "text/html": [
              "\n",
              "     <input type=\"file\" id=\"files-e32a9584-ab5d-465a-9dcf-471d8646ab15\" name=\"files[]\" multiple disabled\n",
              "        style=\"border:none\" />\n",
              "     <output id=\"result-e32a9584-ab5d-465a-9dcf-471d8646ab15\">\n",
              "      Upload widget is only available when the cell has been executed in the\n",
              "      current browser session. Please rerun this cell to enable.\n",
              "      </output>\n",
              "      <script src=\"/nbextensions/google.colab/files.js\"></script> "
            ],
            "text/plain": [
              "<IPython.core.display.HTML object>"
            ]
          },
          "metadata": {
            "tags": []
          }
        },
        {
          "output_type": "stream",
          "text": [
            "Saving mnist-original.mat to mnist-original.mat\n"
          ],
          "name": "stdout"
        }
      ]
    },
    {
      "cell_type": "code",
      "metadata": {
        "id": "jT_D-1RpGpHH",
        "outputId": "4dd9a88a-29be-4b7e-a0bf-b5c3a131ea09",
        "colab": {
          "base_uri": "https://localhost:8080/",
          "height": 51
        }
      },
      "source": [
        "#import Data\n",
        "mnist_data = scipy.io.loadmat('mnist-original.mat')\n",
        "X = mnist_data['data'].T\n",
        "y = mnist_data['label'].T\n",
        "#Pre process\n",
        "from sklearn.preprocessing import MinMaxScaler\n",
        "scaler = MinMaxScaler()\n",
        "scaler.fit(X)\n",
        "X = scaler.transform(X)\n",
        "#Train and test set\n",
        "train_dataset, test_dataset, train_labels, test_labels = train_test_split(X, y, test_size=1/7, random_state=671)\n",
        "train_labels = pd.get_dummies(pd.DataFrame(train_labels)[0], prefix='numb')\n",
        "test_labels = pd.get_dummies(pd.DataFrame(test_labels)[0], prefix='numb')\n",
        "print (train_dataset.shape, train_labels.shape)\n",
        "print (test_dataset.shape, test_labels.shape)\n",
        "#Get everything in np.array\n",
        "train_labels = np.array(train_labels)\n",
        "test_labels = np.array(test_labels)\n",
        "#Use Pytorch\n",
        "X, y = torch.from_numpy(np.array(train_dataset)).float(), torch.from_numpy(np.array(train_labels)).long()\n",
        "Xtest, ytest = torch.from_numpy(np.array(test_dataset)).float(), torch.from_numpy(np.array(test_labels)).long()\n"
      ],
      "execution_count": 15,
      "outputs": [
        {
          "output_type": "stream",
          "text": [
            "(60000, 784) (60000, 10)\n",
            "(10000, 784) (10000, 10)\n"
          ],
          "name": "stdout"
        }
      ]
    },
    {
      "cell_type": "code",
      "metadata": {
        "id": "hzdB3dR3Js87"
      },
      "source": [
        "#Define logistic regression\n",
        "class LogisticRegressionModel(nn.Module):\n",
        "    def __init__(self, input_dim, output_dim):\n",
        "        super(LogisticRegressionModel, self).__init__()\n",
        "        self.linear = nn.Linear(input_dim, output_dim,bias=True)\n",
        "\n",
        "    def forward(self, x):\n",
        "        out = self.linear(x)\n",
        "        return out"
      ],
      "execution_count": 16,
      "outputs": []
    },
    {
      "cell_type": "markdown",
      "metadata": {
        "id": "KHYBS9bHFRQq"
      },
      "source": [
        "**Momentum Method**"
      ]
    },
    {
      "cell_type": "code",
      "metadata": {
        "id": "L1SFaOmNFQri",
        "outputId": "a1eecb96-91d4-4d88-ebdb-4f64e3fc228e",
        "colab": {
          "base_uri": "https://localhost:8080/",
          "height": 1000
        }
      },
      "source": [
        "#Initialize Model Parameters\n",
        "\n",
        "lambdas = [0.01,0.1,1]\n",
        "learning_rate = 0.001\n",
        "beta = 0.9\n",
        "n_epochs = 200      \n",
        "batch_sizes = [500,60000]    \n",
        "    \n",
        "#Estimation \n",
        "for batch_size in batch_sizes:\n",
        "    print(\"BATCH SIZE:\"+str(batch_size))\n",
        "    for lambda_param in lambdas:\n",
        "        model = LogisticRegressionModel(X.shape[1], y.shape[1])\n",
        "        criterion = nn.CrossEntropyLoss()\n",
        "        m_w = torch.zeros((X.shape[1],y.shape[1] ))\n",
        "        m_w = m_w.T\n",
        "        m_b = torch.zeros(y.shape[1])\n",
        "        print(\"LAMBDA:\"+str(lambda_param))\n",
        "        for epoch in list(range(n_epochs))[1:]:\n",
        "             # X is a torch Variable\n",
        "            permutation = torch.randperm(X.size()[0])\n",
        "            for i in range(0,X.size()[0], batch_size):\n",
        "                indices = permutation[i:i+batch_size]\n",
        "                batch_x, batch_y = X[indices], y[indices]\n",
        "                y_hat = model(batch_x)\n",
        "                b = list(model.parameters())[1]\n",
        "                w = list(model.parameters())[0]\n",
        "                l2_regularization = torch.norm(b) + torch.norm(w)\n",
        "                loss = criterion(y_hat.squeeze(), torch.max(batch_y, 1)[1]) + lambda_param*l2_regularization\n",
        "                if w.grad is not None:\n",
        "                    w.grad.zero_()\n",
        "                if b.grad is not None:\n",
        "                    b.grad.zero_()\n",
        "                loss.backward()\n",
        "                with torch.no_grad():  # 3\n",
        "                    m_w = beta*m_w + w.grad\n",
        "                    m_b = beta*m_b +b.grad\n",
        "                    w -= learning_rate * m_w\n",
        "                    b -= learning_rate * m_b\n",
        "                #Test Accuracy\n",
        "            y_hat_test = model(Xtest)     \n",
        "            _, predicted_test = torch.max(y_hat_test.data,1)\n",
        "            correct_test = (predicted_test == torch.max(ytest, 1)[1])    \n",
        "            accuracy_test = int(correct_test.sum()) / correct_test.shape[0]\n",
        "            if (epoch+1)%(5*10)==0:    \n",
        "                print(\"Epoch number:\"+str(epoch+1))\n",
        "                print(\"Test Accuracy\")\n",
        "                print(accuracy_test)\n"
      ],
      "execution_count": 22,
      "outputs": [
        {
          "output_type": "stream",
          "text": [
            "BATCH SIZE:500\n",
            "LAMBDA:0.01\n",
            "Epoch number:50\n",
            "Test Accuracy\n",
            "0.89\n",
            "Epoch number:100\n",
            "Test Accuracy\n",
            "0.898\n",
            "Epoch number:150\n",
            "Test Accuracy\n",
            "0.9019\n",
            "Epoch number:200\n",
            "Test Accuracy\n",
            "0.9044\n",
            "LAMBDA:0.1\n",
            "Epoch number:50\n",
            "Test Accuracy\n",
            "0.8787\n",
            "Epoch number:100\n",
            "Test Accuracy\n",
            "0.8815\n",
            "Epoch number:150\n",
            "Test Accuracy\n",
            "0.882\n",
            "Epoch number:200\n",
            "Test Accuracy\n",
            "0.8815\n",
            "LAMBDA:1\n",
            "Epoch number:50\n",
            "Test Accuracy\n",
            "0.7219\n",
            "Epoch number:100\n",
            "Test Accuracy\n",
            "0.6768\n",
            "Epoch number:150\n",
            "Test Accuracy\n",
            "0.7196\n",
            "Epoch number:200\n",
            "Test Accuracy\n",
            "0.647\n",
            "BATCH SIZE:60000\n",
            "LAMBDA:0.01\n",
            "Epoch number:50\n",
            "Test Accuracy\n",
            "0.6321\n",
            "Epoch number:100\n",
            "Test Accuracy\n",
            "0.7471\n",
            "Epoch number:150\n",
            "Test Accuracy\n",
            "0.7808\n",
            "Epoch number:200\n",
            "Test Accuracy\n",
            "0.7977\n",
            "LAMBDA:0.1\n",
            "Epoch number:50\n",
            "Test Accuracy\n",
            "0.6254\n",
            "Epoch number:100\n",
            "Test Accuracy\n",
            "0.7342\n",
            "Epoch number:150\n",
            "Test Accuracy\n",
            "0.7695\n",
            "Epoch number:200\n",
            "Test Accuracy\n",
            "0.786\n",
            "LAMBDA:1\n",
            "Epoch number:50\n",
            "Test Accuracy\n",
            "0.6346\n",
            "Epoch number:100\n",
            "Test Accuracy\n",
            "0.7418\n",
            "Epoch number:150\n",
            "Test Accuracy\n",
            "0.7685\n",
            "Epoch number:200\n",
            "Test Accuracy\n",
            "0.7748\n"
          ],
          "name": "stdout"
        }
      ]
    },
    {
      "cell_type": "code",
      "metadata": {
        "id": "er8pu4ndXbmk",
        "outputId": "94828e19-bed8-45a8-8e80-bc680a75515d",
        "colab": {
          "base_uri": "https://localhost:8080/",
          "height": 240
        }
      },
      "source": [
        "#Initialize Model Parameters\n",
        "\n",
        "lambdas = [0.01,0.1,1]\n",
        "learning_rate = 0.001\n",
        "beta = 0.9\n",
        "n_epochs = 2      \n",
        "batch_sizes = [1]    \n",
        "    \n",
        "#Estimation \n",
        "for batch_size in batch_sizes:\n",
        "    print(\"BATCH SIZE:\"+str(batch_size))\n",
        "    for lambda_param in lambdas:\n",
        "        model = LogisticRegressionModel(X.shape[1], y.shape[1])\n",
        "        criterion = nn.CrossEntropyLoss()\n",
        "        m_w = torch.zeros((X.shape[1],y.shape[1] ))\n",
        "        m_w = m_w.T\n",
        "        m_b = torch.zeros(y.shape[1])\n",
        "        print(\"LAMBDA:\"+str(lambda_param))\n",
        "        for epoch in list(range(n_epochs))[1:]:\n",
        "             # X is a torch Variable\n",
        "            permutation = torch.randperm(X.size()[0])\n",
        "            for i in range(0,X.size()[0], batch_size):\n",
        "                indices = permutation[i:i+batch_size]\n",
        "                batch_x, batch_y = X[indices], y[indices]\n",
        "                y_hat = model(batch_x)\n",
        "                b = list(model.parameters())[1]\n",
        "                w = list(model.parameters())[0]\n",
        "                l2_regularization = torch.norm(b) + torch.norm(w)\n",
        "                loss = criterion(y_hat, torch.max(batch_y, 1)[1]) + lambda_param*l2_regularization\n",
        "                if w.grad is not None:\n",
        "                    w.grad.zero_()\n",
        "                if b.grad is not None:\n",
        "                    b.grad.zero_()\n",
        "                loss.backward()\n",
        "                with torch.no_grad():  # 3\n",
        "                    m_w = beta*m_w + w.grad\n",
        "                    m_b = beta*m_b +b.grad\n",
        "                    w -= learning_rate * m_w\n",
        "                    b -= learning_rate * m_b\n",
        "                #Test Accuracy\n",
        "            y_hat_test = model(Xtest)     \n",
        "            _, predicted_test = torch.max(y_hat_test.data,1)\n",
        "            correct_test = (predicted_test == torch.max(ytest, 1)[1])    \n",
        "            accuracy_test = int(correct_test.sum()) / correct_test.shape[0]\n",
        "            if (epoch+1)%(1)==0:    \n",
        "                print(\"Epoch number:\"+str(epoch+1))\n",
        "                print(\"Test Accuracy\")\n",
        "                print(accuracy_test)"
      ],
      "execution_count": 26,
      "outputs": [
        {
          "output_type": "stream",
          "text": [
            "BATCH SIZE:1\n",
            "LAMBDA:0.01\n",
            "Epoch number:2\n",
            "Test Accuracy\n",
            "0.8877\n",
            "LAMBDA:0.1\n",
            "Epoch number:2\n",
            "Test Accuracy\n",
            "0.8671\n",
            "LAMBDA:1\n",
            "Epoch number:2\n",
            "Test Accuracy\n",
            "0.4762\n"
          ],
          "name": "stdout"
        }
      ]
    },
    {
      "cell_type": "markdown",
      "metadata": {
        "id": "mR9NtmWcJwZq"
      },
      "source": [
        "**NAG Method**"
      ]
    },
    {
      "cell_type": "code",
      "metadata": {
        "id": "_KFQ810GJwso",
        "outputId": "3dc84314-77cf-4666-b829-1e4d7eefde17",
        "colab": {
          "base_uri": "https://localhost:8080/",
          "height": 1000
        }
      },
      "source": [
        "lambdas = [0.01,0.1,1]\n",
        "learning_rate = 0.001\n",
        "beta = 0.95\n",
        "n_epochs = 200    \n",
        "batch_sizes = [500,60000]    \n",
        "    \n",
        "#Estimation \n",
        "for batch_size in batch_sizes:\n",
        "    print(\"BATCH SIZE:\"+str(batch_size))\n",
        "    for lambda_param in lambdas:\n",
        "        model = LogisticRegressionModel(X.shape[1], y.shape[1])\n",
        "        criterion = nn.CrossEntropyLoss()\n",
        "        m_w = torch.zeros((X.shape[1],y.shape[1] ))\n",
        "        m_w = m_w.T\n",
        "        m_b = torch.zeros(y.shape[1]) \n",
        "        print(\"LAMBDA:\"+str(lambda_param))\n",
        "        for epoch in list(range(n_epochs))[1:]:\n",
        "             # X is a torch Variable\n",
        "            permutation = torch.randperm(X.size()[0])\n",
        "            for i in range(0,X.size()[0], batch_size):\n",
        "                indices = permutation[i:i+batch_size]\n",
        "                batch_x, batch_y = X[indices], y[indices]\n",
        "                y_hat = model(batch_x)\n",
        "                w = list(model.parameters())[0]\n",
        "                b = list(model.parameters())[1]\n",
        "                w = w +beta*m_w\n",
        "                b = b +beta*m_b\n",
        "                y_hat = model(batch_x)\n",
        "                w_fake = list(model.parameters())[0]\n",
        "                b_fake = list(model.parameters())[1]\n",
        "                l2_regularization = torch.norm(b) + torch.norm(w)\n",
        "                loss = criterion(y_hat.squeeze(), torch.max(batch_y, 1)[1]) + lambda_param*l2_regularization\n",
        "                if w_fake.grad is not None:\n",
        "                    w_fake.grad.zero_()\n",
        "                if b_fake.grad is not None:\n",
        "                    b_fake.grad.zero_()    \n",
        "                loss.backward()\n",
        "                \n",
        "                with torch.no_grad():  # 3\n",
        "                    m_w = beta*m_w - learning_rate*w_fake.grad\n",
        "                    m_b = beta*m_b - learning_rate*b_fake.grad\n",
        "                    w +=  m_w\n",
        "                    b +=  m_b\n",
        "                #Update parameters\n",
        "                model.linear.weight.data = w.clone()\n",
        "                model.linear.bias.data = b.clone()\n",
        "            #Test Accuracy\n",
        "            y_hat_test = model(Xtest)     \n",
        "            _, predicted_test = torch.max(y_hat_test.data,1)\n",
        "            correct_test = (predicted_test == torch.max(ytest, 1)[1])    \n",
        "            accuracy_test = int(correct_test.sum()) / correct_test.shape[0]\n",
        "            if (epoch+1)%(5*10)==0:    \n",
        "                print(\"Epoch number:\"+str(epoch+1))\n",
        "                print(\"Test Accuracy\")\n",
        "                print(accuracy_test)\n"
      ],
      "execution_count": 23,
      "outputs": [
        {
          "output_type": "stream",
          "text": [
            "BATCH SIZE:500\n",
            "LAMBDA:0.01\n",
            "Epoch number:50\n",
            "Test Accuracy\n",
            "0.9039\n",
            "Epoch number:100\n",
            "Test Accuracy\n",
            "0.9074\n",
            "Epoch number:150\n",
            "Test Accuracy\n",
            "0.9094\n",
            "Epoch number:200\n",
            "Test Accuracy\n",
            "0.9106\n",
            "LAMBDA:0.1\n",
            "Epoch number:50\n",
            "Test Accuracy\n",
            "0.8818\n",
            "Epoch number:100\n",
            "Test Accuracy\n",
            "0.8807\n",
            "Epoch number:150\n",
            "Test Accuracy\n",
            "0.8816\n",
            "Epoch number:200\n",
            "Test Accuracy\n",
            "0.8802\n",
            "LAMBDA:1\n",
            "Epoch number:50\n",
            "Test Accuracy\n",
            "0.657\n",
            "Epoch number:100\n",
            "Test Accuracy\n",
            "0.7273\n",
            "Epoch number:150\n",
            "Test Accuracy\n",
            "0.6025\n",
            "Epoch number:200\n",
            "Test Accuracy\n",
            "0.6721\n",
            "BATCH SIZE:60000\n",
            "LAMBDA:0.01\n",
            "Epoch number:50\n",
            "Test Accuracy\n",
            "0.7596\n",
            "Epoch number:100\n",
            "Test Accuracy\n",
            "0.8137\n",
            "Epoch number:150\n",
            "Test Accuracy\n",
            "0.8324\n",
            "Epoch number:200\n",
            "Test Accuracy\n",
            "0.8439\n",
            "LAMBDA:0.1\n",
            "Epoch number:50\n",
            "Test Accuracy\n",
            "0.769\n",
            "Epoch number:100\n",
            "Test Accuracy\n",
            "0.8155\n",
            "Epoch number:150\n",
            "Test Accuracy\n",
            "0.8321\n",
            "Epoch number:200\n",
            "Test Accuracy\n",
            "0.8407\n",
            "LAMBDA:1\n",
            "Epoch number:50\n",
            "Test Accuracy\n",
            "0.7641\n",
            "Epoch number:100\n",
            "Test Accuracy\n",
            "0.7854\n",
            "Epoch number:150\n",
            "Test Accuracy\n",
            "0.7533\n",
            "Epoch number:200\n",
            "Test Accuracy\n",
            "0.7355\n"
          ],
          "name": "stdout"
        }
      ]
    },
    {
      "cell_type": "code",
      "metadata": {
        "id": "TdBCGd3DXuZF",
        "outputId": "1e0f0846-76d6-44d2-807f-ffdfee9ed529",
        "colab": {
          "base_uri": "https://localhost:8080/",
          "height": 240
        }
      },
      "source": [
        "lambdas = [0.01,0.1,1]\n",
        "learning_rate = 0.001\n",
        "beta = 0.95\n",
        "n_epochs = 2    \n",
        "batch_sizes = [1]    \n",
        "    \n",
        "#Estimation \n",
        "for batch_size in batch_sizes:\n",
        "    print(\"BATCH SIZE:\"+str(batch_size))\n",
        "    for lambda_param in lambdas:\n",
        "        model = LogisticRegressionModel(X.shape[1], y.shape[1])\n",
        "        criterion = nn.CrossEntropyLoss()\n",
        "        m_w = torch.zeros((X.shape[1],y.shape[1] ))\n",
        "        m_w = m_w.T\n",
        "        m_b = torch.zeros(y.shape[1]) \n",
        "        print(\"LAMBDA:\"+str(lambda_param))\n",
        "        for epoch in list(range(n_epochs))[1:]:\n",
        "             # X is a torch Variable\n",
        "            permutation = torch.randperm(X.size()[0])\n",
        "            for i in range(0,X.size()[0], batch_size):\n",
        "                indices = permutation[i:i+batch_size]\n",
        "                batch_x, batch_y = X[indices], y[indices]\n",
        "                y_hat = model(batch_x)\n",
        "                w = list(model.parameters())[0]\n",
        "                b = list(model.parameters())[1]\n",
        "                w = w +beta*m_w\n",
        "                b = b +beta*m_b\n",
        "                y_hat = model(batch_x)\n",
        "                w_fake = list(model.parameters())[0]\n",
        "                b_fake = list(model.parameters())[1]\n",
        "                l2_regularization = torch.norm(b) + torch.norm(w)\n",
        "                loss = criterion(y_hat, torch.max(batch_y, 1)[1]) + lambda_param*l2_regularization\n",
        "                if w_fake.grad is not None:\n",
        "                    w_fake.grad.zero_()\n",
        "                if b_fake.grad is not None:\n",
        "                    b_fake.grad.zero_()    \n",
        "                loss.backward()\n",
        "                \n",
        "                with torch.no_grad():  # 3\n",
        "                    m_w = beta*m_w - learning_rate*w_fake.grad\n",
        "                    m_b = beta*m_b - learning_rate*b_fake.grad\n",
        "                    w +=  m_w\n",
        "                    b +=  m_b\n",
        "                #Update parameters\n",
        "                model.linear.weight.data = w.clone()\n",
        "                model.linear.bias.data = b.clone()\n",
        "            #Test Accuracy\n",
        "            y_hat_test = model(Xtest)     \n",
        "            _, predicted_test = torch.max(y_hat_test.data,1)\n",
        "            correct_test = (predicted_test == torch.max(ytest, 1)[1])    \n",
        "            accuracy_test = int(correct_test.sum()) / correct_test.shape[0]\n",
        "            if (epoch+1)%(1)==0:    \n",
        "                print(\"Epoch number:\"+str(epoch+1))\n",
        "                print(\"Test Accuracy\")\n",
        "                print(accuracy_test)\n"
      ],
      "execution_count": 27,
      "outputs": [
        {
          "output_type": "stream",
          "text": [
            "BATCH SIZE:1\n",
            "LAMBDA:0.01\n",
            "Epoch number:2\n",
            "Test Accuracy\n",
            "0.889\n",
            "LAMBDA:0.1\n",
            "Epoch number:2\n",
            "Test Accuracy\n",
            "0.8059\n",
            "LAMBDA:1\n",
            "Epoch number:2\n",
            "Test Accuracy\n",
            "0.5323\n"
          ],
          "name": "stdout"
        }
      ]
    },
    {
      "cell_type": "markdown",
      "metadata": {
        "id": "5c4QSUyzJ1sj"
      },
      "source": [
        "**RMSprop Method**"
      ]
    },
    {
      "cell_type": "code",
      "metadata": {
        "id": "7xEh2RTeJ5Qe",
        "outputId": "11d86efb-6cbd-4b11-faae-16f6eb1a05d3",
        "colab": {
          "base_uri": "https://localhost:8080/",
          "height": 1000
        }
      },
      "source": [
        "#Initialize Model Parameters\n",
        "lambdas = [0.01,0.1,1]\n",
        "learning_rate = 0.001\n",
        "beta = 0.9\n",
        "gamma = 1\n",
        "epsilon = 10**(-8)\n",
        "n_epochs = 200     \n",
        "batch_sizes = [500,60000]    \n",
        "    \n",
        "#Estimation \n",
        "for batch_size in batch_sizes:\n",
        "    print(\"BATCH SIZE:\"+str(batch_size))\n",
        "    for lambda_param in lambdas:\n",
        "        model = LogisticRegressionModel(X.shape[1], y.shape[1])\n",
        "        criterion = nn.CrossEntropyLoss()\n",
        "        v_w = torch.zeros((X.shape[1],y.shape[1] ))\n",
        "        v_w = v_w.T\n",
        "        v_b = torch.zeros(y.shape[1])    \n",
        "        print(\"LAMBDA:\"+str(lambda_param))\n",
        "        for epoch in list(range(n_epochs))[1:]:\n",
        "             # X is a torch Variable\n",
        "            permutation = torch.randperm(X.size()[0])\n",
        "            for i in range(0,X.size()[0], batch_size):\n",
        "                indices = permutation[i:i+batch_size]\n",
        "                batch_x, batch_y = X[indices], y[indices]\n",
        "                y_hat = model(batch_x)\n",
        "                b = list(model.parameters())[1]\n",
        "                w = list(model.parameters())[0]\n",
        "                l2_regularization = torch.norm(b) + torch.norm(w)\n",
        "                loss = criterion(y_hat.squeeze(), torch.max(batch_y, 1)[1]) + lambda_param*l2_regularization\n",
        "                if w.grad is not None:\n",
        "                    w.grad.zero_()\n",
        "                if b.grad is not None:\n",
        "                    b.grad.zero_()\n",
        "                loss.backward()\n",
        "                with torch.no_grad():  # 3\n",
        "                    v_w = (1-beta)*v_w + beta*(w.grad*w.grad)\n",
        "                    v_b = (1-beta)*v_b + beta*(b.grad*b.grad)\n",
        "                    b_w = torch.div(gamma, epsilon + torch.sqrt(v_w)) \n",
        "                    b_b = torch.div(gamma, epsilon + torch.sqrt(v_b))\n",
        "                    w -= learning_rate * (w.grad*b_w)\n",
        "                    b -= learning_rate * (b.grad*b_b)\n",
        "            #Test Accuracy\n",
        "            y_hat_test = model(Xtest)     \n",
        "            _, predicted_test = torch.max(y_hat_test.data,1)\n",
        "            correct_test = (predicted_test == torch.max(ytest, 1)[1])    \n",
        "            accuracy_test = int(correct_test.sum()) / correct_test.shape[0]\n",
        "            if (epoch+1)%(5*10)==0:\n",
        "                print(\"Epoch number:\"+str(epoch+1))\n",
        "                print(\"Test Accuracy\")\n",
        "                print(accuracy_test)\n",
        "    "
      ],
      "execution_count": 24,
      "outputs": [
        {
          "output_type": "stream",
          "text": [
            "BATCH SIZE:500\n",
            "LAMBDA:0.01\n",
            "Epoch number:50\n",
            "Test Accuracy\n",
            "0.9105\n",
            "Epoch number:100\n",
            "Test Accuracy\n",
            "0.9098\n",
            "Epoch number:150\n",
            "Test Accuracy\n",
            "0.9089\n",
            "Epoch number:200\n",
            "Test Accuracy\n",
            "0.9095\n",
            "LAMBDA:0.1\n",
            "Epoch number:50\n",
            "Test Accuracy\n",
            "0.8777\n",
            "Epoch number:100\n",
            "Test Accuracy\n",
            "0.8796\n",
            "Epoch number:150\n",
            "Test Accuracy\n",
            "0.8807\n",
            "Epoch number:200\n",
            "Test Accuracy\n",
            "0.8792\n",
            "LAMBDA:1\n",
            "Epoch number:50\n",
            "Test Accuracy\n",
            "0.6244\n",
            "Epoch number:100\n",
            "Test Accuracy\n",
            "0.7023\n",
            "Epoch number:150\n",
            "Test Accuracy\n",
            "0.6971\n",
            "Epoch number:200\n",
            "Test Accuracy\n",
            "0.5893\n",
            "BATCH SIZE:60000\n",
            "LAMBDA:0.01\n",
            "Epoch number:50\n",
            "Test Accuracy\n",
            "0.8183\n",
            "Epoch number:100\n",
            "Test Accuracy\n",
            "0.8702\n",
            "Epoch number:150\n",
            "Test Accuracy\n",
            "0.8894\n",
            "Epoch number:200\n",
            "Test Accuracy\n",
            "0.8993\n",
            "LAMBDA:0.1\n",
            "Epoch number:50\n",
            "Test Accuracy\n",
            "0.8209\n",
            "Epoch number:100\n",
            "Test Accuracy\n",
            "0.8652\n",
            "Epoch number:150\n",
            "Test Accuracy\n",
            "0.8752\n",
            "Epoch number:200\n",
            "Test Accuracy\n",
            "0.879\n",
            "LAMBDA:1\n",
            "Epoch number:50\n",
            "Test Accuracy\n",
            "0.6877\n",
            "Epoch number:100\n",
            "Test Accuracy\n",
            "0.6578\n",
            "Epoch number:150\n",
            "Test Accuracy\n",
            "0.6474\n",
            "Epoch number:200\n",
            "Test Accuracy\n",
            "0.6444\n"
          ],
          "name": "stdout"
        }
      ]
    },
    {
      "cell_type": "code",
      "metadata": {
        "id": "QfeNhKLqYRob",
        "outputId": "24497d85-3879-40cd-e00d-eb5053ff62e5",
        "colab": {
          "base_uri": "https://localhost:8080/",
          "height": 240
        }
      },
      "source": [
        "#Initialize Model Parameters\n",
        "lambdas = [0.01,0.1,1]\n",
        "learning_rate = 0.001\n",
        "beta = 0.9\n",
        "gamma = 1\n",
        "epsilon = 10**(-8)\n",
        "n_epochs = 2    \n",
        "batch_sizes = [1]    \n",
        "    \n",
        "#Estimation \n",
        "for batch_size in batch_sizes:\n",
        "    print(\"BATCH SIZE:\"+str(batch_size))\n",
        "    for lambda_param in lambdas:\n",
        "        model = LogisticRegressionModel(X.shape[1], y.shape[1])\n",
        "        criterion = nn.CrossEntropyLoss()\n",
        "        v_w = torch.zeros((X.shape[1],y.shape[1] ))\n",
        "        v_w = v_w.T\n",
        "        v_b = torch.zeros(y.shape[1])    \n",
        "        print(\"LAMBDA:\"+str(lambda_param))\n",
        "        for epoch in list(range(n_epochs))[1:]:\n",
        "             # X is a torch Variable\n",
        "            permutation = torch.randperm(X.size()[0])\n",
        "            for i in range(0,X.size()[0], batch_size):\n",
        "                indices = permutation[i:i+batch_size]\n",
        "                batch_x, batch_y = X[indices], y[indices]\n",
        "                y_hat = model(batch_x)\n",
        "                b = list(model.parameters())[1]\n",
        "                w = list(model.parameters())[0]\n",
        "                l2_regularization = torch.norm(b) + torch.norm(w)\n",
        "                loss = criterion(y_hat, torch.max(batch_y, 1)[1]) + lambda_param*l2_regularization\n",
        "                if w.grad is not None:\n",
        "                    w.grad.zero_()\n",
        "                if b.grad is not None:\n",
        "                    b.grad.zero_()\n",
        "                loss.backward()\n",
        "                with torch.no_grad():  # 3\n",
        "                    v_w = (1-beta)*v_w + beta*(w.grad*w.grad)\n",
        "                    v_b = (1-beta)*v_b + beta*(b.grad*b.grad)\n",
        "                    b_w = torch.div(gamma, epsilon + torch.sqrt(v_w)) \n",
        "                    b_b = torch.div(gamma, epsilon + torch.sqrt(v_b))\n",
        "                    w -= learning_rate * (w.grad*b_w)\n",
        "                    b -= learning_rate * (b.grad*b_b)\n",
        "            #Test Accuracy\n",
        "            y_hat_test = model(Xtest)     \n",
        "            _, predicted_test = torch.max(y_hat_test.data,1)\n",
        "            correct_test = (predicted_test == torch.max(ytest, 1)[1])    \n",
        "            accuracy_test = int(correct_test.sum()) / correct_test.shape[0]\n",
        "            if (epoch+1)%(1)==0:\n",
        "                print(\"Epoch number:\"+str(epoch+1))\n",
        "                print(\"Test Accuracy\")\n",
        "                print(accuracy_test)\n",
        "    "
      ],
      "execution_count": 29,
      "outputs": [
        {
          "output_type": "stream",
          "text": [
            "BATCH SIZE:1\n",
            "LAMBDA:0.01\n",
            "Epoch number:2\n",
            "Test Accuracy\n",
            "0.7666\n",
            "LAMBDA:0.1\n",
            "Epoch number:2\n",
            "Test Accuracy\n",
            "0.7472\n",
            "LAMBDA:1\n",
            "Epoch number:2\n",
            "Test Accuracy\n",
            "0.1129\n"
          ],
          "name": "stdout"
        }
      ]
    },
    {
      "cell_type": "markdown",
      "metadata": {
        "id": "rQo-LisAmlW6"
      },
      "source": [
        "**ADAM Method**"
      ]
    },
    {
      "cell_type": "code",
      "metadata": {
        "id": "Lu-RbZJPtOxw",
        "outputId": "c6770d26-0b39-4eaf-9034-9a242feb201b",
        "colab": {
          "base_uri": "https://localhost:8080/",
          "height": 1000
        }
      },
      "source": [
        "#Initialize Model Parameters\n",
        "learning_rate = 0.001\n",
        "beta_1 = 0.9\n",
        "beta_2 = 0.999\n",
        "epsilon = 10**(-8)\n",
        "n_epochs = 200\n",
        "lambdas = [0.01,0.1,1]\n",
        "batch_sizes = [500,60000]    \n",
        "\n",
        "#Estimation \n",
        "for batch_size in batch_sizes:\n",
        "    print(\"BATCH SIZE:\"+str(batch_size))\n",
        "    for lambda_param in lambdas:\n",
        "        model = LogisticRegressionModel(X.shape[1], y.shape[1])\n",
        "        criterion = nn.CrossEntropyLoss()\n",
        "        m_w_1 = torch.zeros((X.shape[1],y.shape[1] ))\n",
        "        m_w_1 = m_w_1.T\n",
        "        m_w_2 = torch.zeros((X.shape[1],y.shape[1] ))\n",
        "        m_w_2 = m_w_2.T\n",
        "        m_b_1 = torch.zeros(y.shape[1])  \n",
        "        m_b_2 = torch.zeros(y.shape[1])   \n",
        "        print(\"LAMBDA:\"+str(lambda_param))\n",
        "        for k in list(range(n_epochs))[1:]:\n",
        "            k +=1\n",
        "             # X is a torch Variable\n",
        "            permutation = torch.randperm(X.size()[0])\n",
        "            for i in range(0,X.size()[0], batch_size):\n",
        "                indices = permutation[i:i+batch_size]\n",
        "                batch_x, batch_y = X[indices], y[indices]\n",
        "                y_hat = model(batch_x)\n",
        "                b = list(model.parameters())[1]\n",
        "                w = list(model.parameters())[0]\n",
        "                l2_regularization = torch.norm(b) + torch.norm(w)\n",
        "                loss = criterion(y_hat.squeeze(), torch.max(batch_y, 1)[1]) + lambda_param*l2_regularization\n",
        "                if w.grad is not None:\n",
        "                    w.grad.zero_()\n",
        "                if b.grad is not None:\n",
        "                    b.grad.zero_()\n",
        "                loss.backward()\n",
        "                with torch.no_grad():\n",
        "                    m_w_1 = beta_1*m_w_1 + (1-beta_1)*w.grad\n",
        "                    m_b_1 = beta_1*m_b_1 + (1-beta_1)*b.grad\n",
        "                    m_w_tilde_1 = m_w_1*(1-beta_1**(k-1))**(-1)        \n",
        "                    m_b_tilde_1 = m_b_1*(1-beta_1**(k-1))**(-1)        \n",
        "                    m_w_2 = beta_2*m_w_2 + (1-beta_2)*(w.grad*w.grad)\n",
        "                    m_b_2 = beta_2*m_b_2 + (1-beta_2)*(b.grad*b.grad)        \n",
        "                    m_w_tilde_2 = m_w_2*(1-beta_2**(k-1))**(-1)        \n",
        "                    m_b_tilde_2 = m_b_2*(1-beta_2**(k-1))**(-1)      \n",
        "                    w -= learning_rate*torch.div(m_w_tilde_1, epsilon + torch.sqrt(m_w_tilde_2))\n",
        "                    b -= learning_rate*torch.div(m_b_tilde_1, epsilon + torch.sqrt(m_b_tilde_2))\n",
        "            #Test Accuracy\n",
        "            y_hat_test = model(Xtest)     \n",
        "            _, predicted_test = torch.max(y_hat_test.data,1)\n",
        "            correct_test = (predicted_test == torch.max(ytest, 1)[1])    \n",
        "            accuracy_test = int(correct_test.sum()) / correct_test.shape[0]\n",
        "            if (k+1)%(5*10)==0:       \n",
        "                print(\"Epoch number:\"+str(k+1))\n",
        "                print(\"Test Accuracy\")\n",
        "                print(accuracy_test)"
      ],
      "execution_count": 25,
      "outputs": [
        {
          "output_type": "stream",
          "text": [
            "BATCH SIZE:500\n",
            "LAMBDA:0.01\n",
            "Epoch number:50\n",
            "Test Accuracy\n",
            "0.9086\n",
            "Epoch number:100\n",
            "Test Accuracy\n",
            "0.9107\n",
            "Epoch number:150\n",
            "Test Accuracy\n",
            "0.9109\n",
            "Epoch number:200\n",
            "Test Accuracy\n",
            "0.911\n",
            "LAMBDA:0.1\n",
            "Epoch number:50\n",
            "Test Accuracy\n",
            "0.8809\n",
            "Epoch number:100\n",
            "Test Accuracy\n",
            "0.8813\n",
            "Epoch number:150\n",
            "Test Accuracy\n",
            "0.8813\n",
            "Epoch number:200\n",
            "Test Accuracy\n",
            "0.8812\n",
            "LAMBDA:1\n",
            "Epoch number:50\n",
            "Test Accuracy\n",
            "0.7131\n",
            "Epoch number:100\n",
            "Test Accuracy\n",
            "0.6534\n",
            "Epoch number:150\n",
            "Test Accuracy\n",
            "0.6457\n",
            "Epoch number:200\n",
            "Test Accuracy\n",
            "0.681\n",
            "BATCH SIZE:60000\n",
            "LAMBDA:0.01\n",
            "Epoch number:50\n",
            "Test Accuracy\n",
            "0.8078\n",
            "Epoch number:100\n",
            "Test Accuracy\n",
            "0.8533\n",
            "Epoch number:150\n",
            "Test Accuracy\n",
            "0.8716\n",
            "Epoch number:200\n",
            "Test Accuracy\n",
            "0.881\n",
            "LAMBDA:0.1\n",
            "Epoch number:50\n",
            "Test Accuracy\n",
            "0.8102\n",
            "Epoch number:100\n",
            "Test Accuracy\n",
            "0.8483\n",
            "Epoch number:150\n",
            "Test Accuracy\n",
            "0.8611\n",
            "Epoch number:200\n",
            "Test Accuracy\n",
            "0.8677\n",
            "LAMBDA:1\n",
            "Epoch number:50\n",
            "Test Accuracy\n",
            "0.764\n",
            "Epoch number:100\n",
            "Test Accuracy\n",
            "0.7362\n",
            "Epoch number:150\n",
            "Test Accuracy\n",
            "0.7143\n",
            "Epoch number:200\n",
            "Test Accuracy\n",
            "0.7131\n"
          ],
          "name": "stdout"
        }
      ]
    },
    {
      "cell_type": "code",
      "metadata": {
        "id": "8abrgXsxY5K0",
        "outputId": "e8871556-33f3-40bd-e5b8-c1776ad07c63",
        "colab": {
          "base_uri": "https://localhost:8080/",
          "height": 240
        }
      },
      "source": [
        "#Initialize Model Parameters\n",
        "learning_rate = 0.001\n",
        "beta_1 = 0.9\n",
        "beta_2 = 0.999\n",
        "epsilon = 10**(-8)\n",
        "n_epochs = 2\n",
        "lambdas = [0.01,0.1,1]\n",
        "batch_sizes = [1]    \n",
        "\n",
        "#Estimation \n",
        "for batch_size in batch_sizes:\n",
        "    print(\"BATCH SIZE:\"+str(batch_size))\n",
        "    for lambda_param in lambdas:\n",
        "        model = LogisticRegressionModel(X.shape[1], y.shape[1])\n",
        "        criterion = nn.CrossEntropyLoss()\n",
        "        m_w_1 = torch.zeros((X.shape[1],y.shape[1] ))\n",
        "        m_w_1 = m_w_1.T\n",
        "        m_w_2 = torch.zeros((X.shape[1],y.shape[1] ))\n",
        "        m_w_2 = m_w_2.T\n",
        "        m_b_1 = torch.zeros(y.shape[1])  \n",
        "        m_b_2 = torch.zeros(y.shape[1])   \n",
        "        print(\"LAMBDA:\"+str(lambda_param))\n",
        "        for k in list(range(n_epochs))[1:]:\n",
        "            k +=1\n",
        "             # X is a torch Variable\n",
        "            permutation = torch.randperm(X.size()[0])\n",
        "            for i in range(0,X.size()[0], batch_size):\n",
        "                indices = permutation[i:i+batch_size]\n",
        "                batch_x, batch_y = X[indices], y[indices]\n",
        "                y_hat = model(batch_x)\n",
        "                b = list(model.parameters())[1]\n",
        "                w = list(model.parameters())[0]\n",
        "                l2_regularization = torch.norm(b) + torch.norm(w)\n",
        "                loss = criterion(y_hat, torch.max(batch_y, 1)[1]) + lambda_param*l2_regularization\n",
        "                if w.grad is not None:\n",
        "                    w.grad.zero_()\n",
        "                if b.grad is not None:\n",
        "                    b.grad.zero_()\n",
        "                loss.backward()\n",
        "                with torch.no_grad():\n",
        "                    m_w_1 = beta_1*m_w_1 + (1-beta_1)*w.grad\n",
        "                    m_b_1 = beta_1*m_b_1 + (1-beta_1)*b.grad\n",
        "                    m_w_tilde_1 = m_w_1*(1-beta_1**(k-1))**(-1)        \n",
        "                    m_b_tilde_1 = m_b_1*(1-beta_1**(k-1))**(-1)        \n",
        "                    m_w_2 = beta_2*m_w_2 + (1-beta_2)*(w.grad*w.grad)\n",
        "                    m_b_2 = beta_2*m_b_2 + (1-beta_2)*(b.grad*b.grad)        \n",
        "                    m_w_tilde_2 = m_w_2*(1-beta_2**(k-1))**(-1)        \n",
        "                    m_b_tilde_2 = m_b_2*(1-beta_2**(k-1))**(-1)      \n",
        "                    w -= learning_rate*torch.div(m_w_tilde_1, epsilon + torch.sqrt(m_w_tilde_2))\n",
        "                    b -= learning_rate*torch.div(m_b_tilde_1, epsilon + torch.sqrt(m_b_tilde_2))\n",
        "            #Test Accuracy\n",
        "            y_hat_test = model(Xtest)     \n",
        "            _, predicted_test = torch.max(y_hat_test.data,1)\n",
        "            correct_test = (predicted_test == torch.max(ytest, 1)[1])    \n",
        "            accuracy_test = int(correct_test.sum()) / correct_test.shape[0]\n",
        "            if (k+1)%(1)==0:       \n",
        "                print(\"Epoch number:\"+str(k+1))\n",
        "                print(\"Test Accuracy\")\n",
        "                print(accuracy_test)"
      ],
      "execution_count": 32,
      "outputs": [
        {
          "output_type": "stream",
          "text": [
            "BATCH SIZE:1\n",
            "LAMBDA:0.01\n",
            "Epoch number:3\n",
            "Test Accuracy\n",
            "0.9028\n",
            "LAMBDA:0.1\n",
            "Epoch number:3\n",
            "Test Accuracy\n",
            "0.8674\n",
            "LAMBDA:1\n",
            "Epoch number:3\n",
            "Test Accuracy\n",
            "0.3633\n"
          ],
          "name": "stdout"
        }
      ]
    },
    {
      "cell_type": "code",
      "metadata": {
        "id": "xf8ybzWXkuXW"
      },
      "source": [
        ""
      ],
      "execution_count": null,
      "outputs": []
    },
    {
      "cell_type": "code",
      "metadata": {
        "id": "TEWjzOgKa0Oi"
      },
      "source": [
        ""
      ],
      "execution_count": null,
      "outputs": []
    }
  ]
}